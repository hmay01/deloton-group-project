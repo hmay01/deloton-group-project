{
 "cells": [
  {
   "cell_type": "code",
   "execution_count": 1,
   "metadata": {},
   "outputs": [],
   "source": [
    "from aurora_postgres_helpers import SQLConnection\n",
    "\n",
    "import pandas as pd\n",
    "\n",
    "from kafka_helpers import (KAFKA_TOPIC_NAME, connect_to_kafka_consumer,\n",
    "                           stream_ingestion_kafka_topic)"
   ]
  },
  {
   "cell_type": "code",
   "execution_count": 2,
   "metadata": {},
   "outputs": [],
   "source": [
    "sql = SQLConnection()\n",
    "staging_schema = 'yusra_stories_staging'\n",
    "logs_table = 'logs'"
   ]
  },
  {
   "cell_type": "code",
   "execution_count": 3,
   "metadata": {},
   "outputs": [],
   "source": [
    "def add_empty_logs_table():\n",
    "    empty_df = pd.DataFrame({'ride_id':pd.Series([],dtype='int64'), 'log':pd.Series([],dtype='object')})\n",
    "    sql.write_df_to_table(empty_df, staging_schema, logs_table, 'replace')\n",
    "    return"
   ]
  },
  {
   "cell_type": "code",
   "execution_count": 4,
   "metadata": {},
   "outputs": [
    {
     "name": "stdout",
     "output_type": "stream",
     "text": [
      "New dataframe with 0 rows added to yusra_stories_staging\n"
     ]
    }
   ],
   "source": [
    "add_empty_logs_table()"
   ]
  },
  {
   "cell_type": "code",
   "execution_count": 5,
   "metadata": {},
   "outputs": [
    {
     "name": "stdout",
     "output_type": "stream",
     "text": [
      "Kafka consumer subscribed to topic: deloton. Logs will be cached from beginning of next ride.\n"
     ]
    }
   ],
   "source": [
    "consumer = connect_to_kafka_consumer()\n",
    "stream_ingestion_kafka_topic(consumer, KAFKA_TOPIC_NAME, sql, staging_schema, logs_table)"
   ]
  }
 ],
 "metadata": {
  "kernelspec": {
   "display_name": "Python 3.9.13 64-bit",
   "language": "python",
   "name": "python3"
  },
  "language_info": {
   "codemirror_mode": {
    "name": "ipython",
    "version": 3
   },
   "file_extension": ".py",
   "mimetype": "text/x-python",
   "name": "python",
   "nbconvert_exporter": "python",
   "pygments_lexer": "ipython3",
   "version": "3.9.13"
  },
  "orig_nbformat": 4,
  "vscode": {
   "interpreter": {
    "hash": "b0fa6594d8f4cbf19f97940f81e996739fb7646882a419484c72d19e05852a7e"
   }
  }
 },
 "nbformat": 4,
 "nbformat_minor": 2
}
