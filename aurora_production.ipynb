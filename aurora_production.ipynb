{
 "cells": [
  {
   "cell_type": "code",
   "execution_count": 8,
   "metadata": {},
   "outputs": [
    {
     "name": "stderr",
     "output_type": "stream",
     "text": [
      "/Users/harrymay/Desktop/coursework/deloton-group-project/transformation_helpers.py:197: SyntaxWarning: \"is\" with a literal. Did you mean \"==\"?\n",
      "  if hr is 0:\n"
     ]
    }
   ],
   "source": [
    "from aurora_postgres_helpers import SQLConnection\n",
    "from transformation_helpers import *"
   ]
  },
  {
   "cell_type": "code",
   "execution_count": 4,
   "metadata": {},
   "outputs": [],
   "source": [
    "sql = SQLConnection\n",
    "staging_schema = 'yusra_stories_staging'\n",
    "production_schema = 'yusra_stories_production'\n",
    "logs_table = 'logs'"
   ]
  },
  {
   "cell_type": "code",
   "execution_count": 7,
   "metadata": {},
   "outputs": [
    {
     "name": "stdout",
     "output_type": "stream",
     "text": [
      "SQL READ from yusra_stories_staging.logs\n"
     ]
    },
    {
     "data": {
      "text/html": [
       "<div>\n",
       "<style scoped>\n",
       "    .dataframe tbody tr th:only-of-type {\n",
       "        vertical-align: middle;\n",
       "    }\n",
       "\n",
       "    .dataframe tbody tr th {\n",
       "        vertical-align: top;\n",
       "    }\n",
       "\n",
       "    .dataframe thead th {\n",
       "        text-align: right;\n",
       "    }\n",
       "</style>\n",
       "<table border=\"1\" class=\"dataframe\">\n",
       "  <thead>\n",
       "    <tr style=\"text-align: right;\">\n",
       "      <th></th>\n",
       "      <th>ride_id</th>\n",
       "      <th>log</th>\n",
       "    </tr>\n",
       "  </thead>\n",
       "  <tbody>\n",
       "    <tr>\n",
       "      <th>0</th>\n",
       "      <td>1</td>\n",
       "      <td>--------- beginning of a new ride\\n</td>\n",
       "    </tr>\n",
       "    <tr>\n",
       "      <th>1</th>\n",
       "      <td>1</td>\n",
       "      <td>2022-10-07 13:53:01.268572 mendoza v9: Getting...</td>\n",
       "    </tr>\n",
       "    <tr>\n",
       "      <th>2</th>\n",
       "      <td>1</td>\n",
       "      <td>2022-10-07 13:53:01.769243 mendoza v9: [SYSTEM...</td>\n",
       "    </tr>\n",
       "    <tr>\n",
       "      <th>3</th>\n",
       "      <td>1</td>\n",
       "      <td>2022-10-07 13:53:02.269911 mendoza v9: [INFO]:...</td>\n",
       "    </tr>\n",
       "    <tr>\n",
       "      <th>4</th>\n",
       "      <td>1</td>\n",
       "      <td>2022-10-07 13:53:02.770593 mendoza v9: [INFO]:...</td>\n",
       "    </tr>\n",
       "    <tr>\n",
       "      <th>...</th>\n",
       "      <td>...</td>\n",
       "      <td>...</td>\n",
       "    </tr>\n",
       "    <tr>\n",
       "      <th>1038</th>\n",
       "      <td>1</td>\n",
       "      <td>2022-10-07 14:01:40.474608 mendoza v9: [INFO]:...</td>\n",
       "    </tr>\n",
       "    <tr>\n",
       "      <th>1039</th>\n",
       "      <td>1</td>\n",
       "      <td>2022-10-07 14:01:40.975284 mendoza v9: [INFO]:...</td>\n",
       "    </tr>\n",
       "    <tr>\n",
       "      <th>1040</th>\n",
       "      <td>1</td>\n",
       "      <td>2022-10-07 14:01:41.475977 mendoza v9: [INFO]:...</td>\n",
       "    </tr>\n",
       "    <tr>\n",
       "      <th>1041</th>\n",
       "      <td>1</td>\n",
       "      <td>2022-10-07 14:01:41.976642 mendoza v9: [INFO]:...</td>\n",
       "    </tr>\n",
       "    <tr>\n",
       "      <th>1042</th>\n",
       "      <td>1</td>\n",
       "      <td>2022-10-07 14:01:42.477313 mendoza v9: [INFO]:...</td>\n",
       "    </tr>\n",
       "  </tbody>\n",
       "</table>\n",
       "<p>1043 rows × 2 columns</p>\n",
       "</div>"
      ],
      "text/plain": [
       "      ride_id                                                log\n",
       "0           1                --------- beginning of a new ride\\n\n",
       "1           1  2022-10-07 13:53:01.268572 mendoza v9: Getting...\n",
       "2           1  2022-10-07 13:53:01.769243 mendoza v9: [SYSTEM...\n",
       "3           1  2022-10-07 13:53:02.269911 mendoza v9: [INFO]:...\n",
       "4           1  2022-10-07 13:53:02.770593 mendoza v9: [INFO]:...\n",
       "...       ...                                                ...\n",
       "1038        1  2022-10-07 14:01:40.474608 mendoza v9: [INFO]:...\n",
       "1039        1  2022-10-07 14:01:40.975284 mendoza v9: [INFO]:...\n",
       "1040        1  2022-10-07 14:01:41.475977 mendoza v9: [INFO]:...\n",
       "1041        1  2022-10-07 14:01:41.976642 mendoza v9: [INFO]:...\n",
       "1042        1  2022-10-07 14:01:42.477313 mendoza v9: [INFO]:...\n",
       "\n",
       "[1043 rows x 2 columns]"
      ]
     },
     "execution_count": 7,
     "metadata": {},
     "output_type": "execute_result"
    }
   ],
   "source": [
    "logs_df = sql.read_table_to_df(sql, staging_schema, logs_table)"
   ]
  },
  {
   "cell_type": "code",
   "execution_count": null,
   "metadata": {},
   "outputs": [],
   "source": [
    "formatted_df = get_joined_formatted_df(logs_df)"
   ]
  }
 ],
 "metadata": {
  "kernelspec": {
   "display_name": "Python 3.9.13 64-bit",
   "language": "python",
   "name": "python3"
  },
  "language_info": {
   "codemirror_mode": {
    "name": "ipython",
    "version": 3
   },
   "file_extension": ".py",
   "mimetype": "text/x-python",
   "name": "python",
   "nbconvert_exporter": "python",
   "pygments_lexer": "ipython3",
   "version": "3.9.13"
  },
  "orig_nbformat": 4,
  "vscode": {
   "interpreter": {
    "hash": "b0fa6594d8f4cbf19f97940f81e996739fb7646882a419484c72d19e05852a7e"
   }
  }
 },
 "nbformat": 4,
 "nbformat_minor": 2
}
