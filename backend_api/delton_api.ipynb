{
 "cells": [
  {
   "cell_type": "code",
   "execution_count": null,
   "metadata": {},
   "outputs": [],
   "source": [
    "%pip install flask-sqlalchemy\n",
    "%pip install Flask-Cors\n",
    "%pip install pyarrow"
   ]
  },
  {
   "cell_type": "code",
   "execution_count": 17,
   "metadata": {},
   "outputs": [],
   "source": [
    "from flask_sqlalchemy import SQLAlchemy\n",
    "from flask import Flask, jsonify, request\n",
    "from datetime import datetime\n",
    "from flask_cors import CORS\n",
    "from sqlalchemy import ForeignKey, func, case, desc\n",
    "from os import getenv\n",
    "from dotenv import load_dotenv"
   ]
  },
  {
   "cell_type": "code",
   "execution_count": 18,
   "metadata": {},
   "outputs": [
    {
     "data": {
      "text/plain": [
       "True"
      ]
     },
     "execution_count": 18,
     "metadata": {},
     "output_type": "execute_result"
    }
   ],
   "source": [
    "load_dotenv()"
   ]
  },
  {
   "cell_type": "code",
   "execution_count": 19,
   "metadata": {},
   "outputs": [],
   "source": [
    "SNOW_USER = getenv('SNOW_USER')\n",
    "ACCOUNT = getenv('ACCOUNT')\n",
    "PASSWORD = getenv('PASSWORD')\n",
    "WAREHOUSE = getenv('WAREHOUSE')\n",
    "DATABASE = getenv('DATABASE')\n",
    "SIGMA_SCHEMA = getenv('SIGMA_SCHEMA')\n",
    "STAGING_SCHEMA = getenv('STAGING_SCHEMA')"
   ]
  },
  {
   "cell_type": "code",
   "execution_count": 20,
   "metadata": {},
   "outputs": [],
   "source": [
    "app = Flask(__name__)\n",
    "\n",
    "app.config['SQLALCHEMY_DATABASE_URI'] = f\"snowflake://{SNOW_USER}:{PASSWORD}@{ACCOUNT}/{DATABASE}/{SIGMA_SCHEMA}?warehouse={WAREHOUSE}\"\n",
    "app.config['SQLALCHEMY_TRACK_MODIFICATIONS'] = False\n",
    "# CORS(app, origins=[\"http://127.0.0.1:8080\"],  supports_credentials=True)\n",
    "db = SQLAlchemy(app)"
   ]
  }
 ],
 "metadata": {
  "kernelspec": {
   "display_name": "Python 3.9.13 64-bit",
   "language": "python",
   "name": "python3"
  },
  "language_info": {
   "codemirror_mode": {
    "name": "ipython",
    "version": 3
   },
   "file_extension": ".py",
   "mimetype": "text/x-python",
   "name": "python",
   "nbconvert_exporter": "python",
   "pygments_lexer": "ipython3",
   "version": "3.9.13"
  },
  "orig_nbformat": 4,
  "vscode": {
   "interpreter": {
    "hash": "b0fa6594d8f4cbf19f97940f81e996739fb7646882a419484c72d19e05852a7e"
   }
  }
 },
 "nbformat": 4,
 "nbformat_minor": 2
}
