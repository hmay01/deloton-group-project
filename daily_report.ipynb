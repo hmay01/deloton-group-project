{
 "cells": [
  {
   "cell_type": "code",
   "execution_count": null,
   "metadata": {},
   "outputs": [],
   "source": [
    "%pip install xhtml2pdf"
   ]
  },
  {
   "cell_type": "code",
   "execution_count": 26,
   "metadata": {},
   "outputs": [],
   "source": [
    "from IPython.display import display, HTML\n",
    "from xhtml2pdf import pisa \n",
    "from dotenv import load_dotenv\n",
    "from sqlalchemy import create_engine\n",
    "from datetime import datetime, timedelta\n",
    "from os import getenv\n",
    "import pandas as pd"
   ]
  },
  {
   "cell_type": "code",
   "execution_count": 15,
   "metadata": {},
   "outputs": [
    {
     "data": {
      "text/plain": [
       "True"
      ]
     },
     "execution_count": 15,
     "metadata": {},
     "output_type": "execute_result"
    }
   ],
   "source": [
    "load_dotenv()"
   ]
  },
  {
   "cell_type": "code",
   "execution_count": 16,
   "metadata": {},
   "outputs": [],
   "source": [
    "db_host = getenv('DB_HOST')\n",
    "db_port = getenv('DB_PORT')\n",
    "db_user = getenv('DB_USER')\n",
    "db_password = getenv('DB_PASSWORD')\n",
    "db_name = getenv('DB_NAME')\n",
    "group_user = getenv('GROUP_USER')\n",
    "group_user_pass = getenv('GROUP_USER_PASS')"
   ]
  },
  {
   "cell_type": "code",
   "execution_count": 17,
   "metadata": {},
   "outputs": [],
   "source": [
    "engine = create_engine(f'postgresql://{db_user}:{db_password}@{db_host}:{db_port}/{db_name}')"
   ]
  },
  {
   "cell_type": "code",
   "execution_count": 20,
   "metadata": {},
   "outputs": [],
   "source": [
    "con = engine.connect()"
   ]
  },
  {
   "cell_type": "code",
   "execution_count": 27,
   "metadata": {},
   "outputs": [
    {
     "data": {
      "text/plain": [
       "'2022-10-07'"
      ]
     },
     "execution_count": 27,
     "metadata": {},
     "output_type": "execute_result"
    }
   ],
   "source": [
    "def get_current_date() -> str:\n",
    "   \"\"\"\n",
    "   Returns the current date (note :currently set as yesterdays date)\n",
    "   \"\"\"\n",
    "   current_date = str(datetime.now().date() - timedelta(days = 1))\n",
    "   return current_date\n",
    "current_date = get_current_date()\n",
    "current_date"
   ]
  },
  {
   "cell_type": "markdown",
   "metadata": {},
   "source": [
    "### Quering database"
   ]
  },
  {
   "cell_type": "markdown",
   "metadata": {},
   "source": [
    "#### Number of rides completed in the past day"
   ]
  },
  {
   "cell_type": "code",
   "execution_count": 35,
   "metadata": {},
   "outputs": [
    {
     "data": {
      "text/html": [
       "<div>\n",
       "<style scoped>\n",
       "    .dataframe tbody tr th:only-of-type {\n",
       "        vertical-align: middle;\n",
       "    }\n",
       "\n",
       "    .dataframe tbody tr th {\n",
       "        vertical-align: top;\n",
       "    }\n",
       "\n",
       "    .dataframe thead th {\n",
       "        text-align: right;\n",
       "    }\n",
       "</style>\n",
       "<table border=\"1\" class=\"dataframe\">\n",
       "  <thead>\n",
       "    <tr style=\"text-align: right;\">\n",
       "      <th></th>\n",
       "      <th>number_of_rides</th>\n",
       "    </tr>\n",
       "  </thead>\n",
       "  <tbody>\n",
       "    <tr>\n",
       "      <th>0</th>\n",
       "      <td>6</td>\n",
       "    </tr>\n",
       "  </tbody>\n",
       "</table>\n",
       "</div>"
      ],
      "text/plain": [
       "   number_of_rides\n",
       "0                6"
      ]
     },
     "execution_count": 35,
     "metadata": {},
     "output_type": "execute_result"
    }
   ],
   "source": [
    "query = f\"\"\"\n",
    "WITH rides AS (  \n",
    "    SELECT *, CAST(start_time AS DATE) AS start_date\n",
    "    FROM yusra_stories_production.rides\n",
    "    )\n",
    "SELECT COUNT(*) AS number_of_rides \n",
    "FROM rides \n",
    "WHERE start_date = '{current_date}';\n",
    "\"\"\"\n",
    "number_of_rides = pd.read_sql_query(query, con)\n",
    "number_of_rides"
   ]
  },
  {
   "cell_type": "markdown",
   "metadata": {},
   "source": [
    "#### Gender split of riders of the past day"
   ]
  },
  {
   "cell_type": "code",
   "execution_count": 34,
   "metadata": {},
   "outputs": [
    {
     "data": {
      "text/html": [
       "<div>\n",
       "<style scoped>\n",
       "    .dataframe tbody tr th:only-of-type {\n",
       "        vertical-align: middle;\n",
       "    }\n",
       "\n",
       "    .dataframe tbody tr th {\n",
       "        vertical-align: top;\n",
       "    }\n",
       "\n",
       "    .dataframe thead th {\n",
       "        text-align: right;\n",
       "    }\n",
       "</style>\n",
       "<table border=\"1\" class=\"dataframe\">\n",
       "  <thead>\n",
       "    <tr style=\"text-align: right;\">\n",
       "      <th></th>\n",
       "      <th>user_id</th>\n",
       "      <th>name</th>\n",
       "      <th>gender</th>\n",
       "      <th>date_of_birth</th>\n",
       "      <th>age</th>\n",
       "      <th>height_cm</th>\n",
       "      <th>weight_kg</th>\n",
       "      <th>address</th>\n",
       "      <th>email_address</th>\n",
       "      <th>account_created</th>\n",
       "      <th>...</th>\n",
       "      <th>start_time</th>\n",
       "      <th>end_time</th>\n",
       "      <th>total_duration</th>\n",
       "      <th>max_heart_rate_bpm</th>\n",
       "      <th>min_heart_rate_bpm</th>\n",
       "      <th>avg_heart_rate_bpm</th>\n",
       "      <th>avg_resistance</th>\n",
       "      <th>avg_rpm</th>\n",
       "      <th>total_power_kilojoules</th>\n",
       "      <th>start_date</th>\n",
       "    </tr>\n",
       "  </thead>\n",
       "  <tbody>\n",
       "    <tr>\n",
       "      <th>0</th>\n",
       "      <td>4651</td>\n",
       "      <td>Mohammad Phillips-Simpson</td>\n",
       "      <td>male</td>\n",
       "      <td>1984-07-29</td>\n",
       "      <td>38.0</td>\n",
       "      <td>152.0</td>\n",
       "      <td>55.0</td>\n",
       "      <td>Studio 93s,Mitchell brook,Wilsonmouth,S5U 6EQ</td>\n",
       "      <td>mohammad.phillips-simpson@gmail.com</td>\n",
       "      <td>2022-02-26</td>\n",
       "      <td>...</td>\n",
       "      <td>2022-10-07 15:25:57</td>\n",
       "      <td>2022-10-07 15:34:38</td>\n",
       "      <td>0:08:40</td>\n",
       "      <td>155</td>\n",
       "      <td>80</td>\n",
       "      <td>121</td>\n",
       "      <td>41</td>\n",
       "      <td>50</td>\n",
       "      <td>13.93</td>\n",
       "      <td>2022-10-07</td>\n",
       "    </tr>\n",
       "    <tr>\n",
       "      <th>1</th>\n",
       "      <td>4651</td>\n",
       "      <td>Mohammad Phillips-Simpson</td>\n",
       "      <td>male</td>\n",
       "      <td>1984-07-29</td>\n",
       "      <td>38.0</td>\n",
       "      <td>152.0</td>\n",
       "      <td>55.0</td>\n",
       "      <td>Studio 93s,Mitchell brook,Wilsonmouth,S5U 6EQ</td>\n",
       "      <td>mohammad.phillips-simpson@gmail.com</td>\n",
       "      <td>2022-02-26</td>\n",
       "      <td>...</td>\n",
       "      <td>2022-10-07 15:17:14</td>\n",
       "      <td>2022-10-07 15:25:55</td>\n",
       "      <td>0:08:40</td>\n",
       "      <td>151</td>\n",
       "      <td>85</td>\n",
       "      <td>105</td>\n",
       "      <td>41</td>\n",
       "      <td>48</td>\n",
       "      <td>12.75</td>\n",
       "      <td>2022-10-07</td>\n",
       "    </tr>\n",
       "    <tr>\n",
       "      <th>2</th>\n",
       "      <td>4651</td>\n",
       "      <td>Mohammad Phillips-Simpson</td>\n",
       "      <td>male</td>\n",
       "      <td>1984-07-29</td>\n",
       "      <td>38.0</td>\n",
       "      <td>152.0</td>\n",
       "      <td>55.0</td>\n",
       "      <td>Studio 93s,Mitchell brook,Wilsonmouth,S5U 6EQ</td>\n",
       "      <td>mohammad.phillips-simpson@gmail.com</td>\n",
       "      <td>2022-02-26</td>\n",
       "      <td>...</td>\n",
       "      <td>2022-10-07 15:08:31</td>\n",
       "      <td>2022-10-07 15:17:13</td>\n",
       "      <td>0:08:40</td>\n",
       "      <td>157</td>\n",
       "      <td>71</td>\n",
       "      <td>107</td>\n",
       "      <td>41</td>\n",
       "      <td>47</td>\n",
       "      <td>18.01</td>\n",
       "      <td>2022-10-07</td>\n",
       "    </tr>\n",
       "    <tr>\n",
       "      <th>3</th>\n",
       "      <td>4653</td>\n",
       "      <td>Abbie Jones</td>\n",
       "      <td>female</td>\n",
       "      <td>1998-10-11</td>\n",
       "      <td>23.0</td>\n",
       "      <td>188.0</td>\n",
       "      <td>67.0</td>\n",
       "      <td>561 Freeman underpass,Ahmedhaven,N0 8EL</td>\n",
       "      <td>abbie_j@gmail.com</td>\n",
       "      <td>2021-12-23</td>\n",
       "      <td>...</td>\n",
       "      <td>2022-10-07 15:49:19</td>\n",
       "      <td>2022-10-07 15:58:00</td>\n",
       "      <td>0:08:40</td>\n",
       "      <td>157</td>\n",
       "      <td>67</td>\n",
       "      <td>114</td>\n",
       "      <td>39</td>\n",
       "      <td>41</td>\n",
       "      <td>8.53</td>\n",
       "      <td>2022-10-07</td>\n",
       "    </tr>\n",
       "    <tr>\n",
       "      <th>4</th>\n",
       "      <td>4653</td>\n",
       "      <td>Abbie Jones</td>\n",
       "      <td>female</td>\n",
       "      <td>1998-10-11</td>\n",
       "      <td>23.0</td>\n",
       "      <td>188.0</td>\n",
       "      <td>67.0</td>\n",
       "      <td>561 Freeman underpass,Ahmedhaven,N0 8EL</td>\n",
       "      <td>abbie_j@gmail.com</td>\n",
       "      <td>2021-12-23</td>\n",
       "      <td>...</td>\n",
       "      <td>2022-10-07 15:34:40</td>\n",
       "      <td>2022-10-07 15:43:21</td>\n",
       "      <td>0:08:40</td>\n",
       "      <td>158</td>\n",
       "      <td>80</td>\n",
       "      <td>111</td>\n",
       "      <td>40</td>\n",
       "      <td>41</td>\n",
       "      <td>7.29</td>\n",
       "      <td>2022-10-07</td>\n",
       "    </tr>\n",
       "    <tr>\n",
       "      <th>5</th>\n",
       "      <td>4653</td>\n",
       "      <td>Abbie Jones</td>\n",
       "      <td>female</td>\n",
       "      <td>1998-10-11</td>\n",
       "      <td>23.0</td>\n",
       "      <td>188.0</td>\n",
       "      <td>67.0</td>\n",
       "      <td>561 Freeman underpass,Ahmedhaven,N0 8EL</td>\n",
       "      <td>abbie_j@gmail.com</td>\n",
       "      <td>2021-12-23</td>\n",
       "      <td>...</td>\n",
       "      <td>2022-10-07 15:43:22</td>\n",
       "      <td>2022-10-07 15:49:17</td>\n",
       "      <td>0:05:54</td>\n",
       "      <td>168</td>\n",
       "      <td>81</td>\n",
       "      <td>133</td>\n",
       "      <td>44</td>\n",
       "      <td>44</td>\n",
       "      <td>14.56</td>\n",
       "      <td>2022-10-07</td>\n",
       "    </tr>\n",
       "  </tbody>\n",
       "</table>\n",
       "<p>6 rows × 23 columns</p>\n",
       "</div>"
      ],
      "text/plain": [
       "   user_id                       name  gender date_of_birth   age  height_cm  \\\n",
       "0     4651  Mohammad Phillips-Simpson    male    1984-07-29  38.0      152.0   \n",
       "1     4651  Mohammad Phillips-Simpson    male    1984-07-29  38.0      152.0   \n",
       "2     4651  Mohammad Phillips-Simpson    male    1984-07-29  38.0      152.0   \n",
       "3     4653                Abbie Jones  female    1998-10-11  23.0      188.0   \n",
       "4     4653                Abbie Jones  female    1998-10-11  23.0      188.0   \n",
       "5     4653                Abbie Jones  female    1998-10-11  23.0      188.0   \n",
       "\n",
       "   weight_kg                                        address  \\\n",
       "0       55.0  Studio 93s,Mitchell brook,Wilsonmouth,S5U 6EQ   \n",
       "1       55.0  Studio 93s,Mitchell brook,Wilsonmouth,S5U 6EQ   \n",
       "2       55.0  Studio 93s,Mitchell brook,Wilsonmouth,S5U 6EQ   \n",
       "3       67.0        561 Freeman underpass,Ahmedhaven,N0 8EL   \n",
       "4       67.0        561 Freeman underpass,Ahmedhaven,N0 8EL   \n",
       "5       67.0        561 Freeman underpass,Ahmedhaven,N0 8EL   \n",
       "\n",
       "                         email_address account_created  ...  \\\n",
       "0  mohammad.phillips-simpson@gmail.com      2022-02-26  ...   \n",
       "1  mohammad.phillips-simpson@gmail.com      2022-02-26  ...   \n",
       "2  mohammad.phillips-simpson@gmail.com      2022-02-26  ...   \n",
       "3                    abbie_j@gmail.com      2021-12-23  ...   \n",
       "4                    abbie_j@gmail.com      2021-12-23  ...   \n",
       "5                    abbie_j@gmail.com      2021-12-23  ...   \n",
       "\n",
       "           start_time            end_time  total_duration max_heart_rate_bpm  \\\n",
       "0 2022-10-07 15:25:57 2022-10-07 15:34:38         0:08:40                155   \n",
       "1 2022-10-07 15:17:14 2022-10-07 15:25:55         0:08:40                151   \n",
       "2 2022-10-07 15:08:31 2022-10-07 15:17:13         0:08:40                157   \n",
       "3 2022-10-07 15:49:19 2022-10-07 15:58:00         0:08:40                157   \n",
       "4 2022-10-07 15:34:40 2022-10-07 15:43:21         0:08:40                158   \n",
       "5 2022-10-07 15:43:22 2022-10-07 15:49:17         0:05:54                168   \n",
       "\n",
       "  min_heart_rate_bpm avg_heart_rate_bpm  avg_resistance  avg_rpm  \\\n",
       "0                 80                121              41       50   \n",
       "1                 85                105              41       48   \n",
       "2                 71                107              41       47   \n",
       "3                 67                114              39       41   \n",
       "4                 80                111              40       41   \n",
       "5                 81                133              44       44   \n",
       "\n",
       "   total_power_kilojoules  start_date  \n",
       "0                   13.93  2022-10-07  \n",
       "1                   12.75  2022-10-07  \n",
       "2                   18.01  2022-10-07  \n",
       "3                    8.53  2022-10-07  \n",
       "4                    7.29  2022-10-07  \n",
       "5                   14.56  2022-10-07  \n",
       "\n",
       "[6 rows x 23 columns]"
      ]
     },
     "execution_count": 34,
     "metadata": {},
     "output_type": "execute_result"
    }
   ],
   "source": [
    "query = f\"\"\"\n",
    "WITH rides AS (  \n",
    "    SELECT *, CAST(start_time AS DATE) AS start_date\n",
    "    FROM yusra_stories_production.rides\n",
    "    )\n",
    "SELECT * \n",
    "FROM yusra_stories_production.users\n",
    "JOIN todays_rides\n",
    "USING (user_id)\n",
    "WHERE start_date = '{current_date}';\n",
    "\"\"\"\n",
    "riders_gender_split = pd.read_sql_query(query, con)\n",
    "riders_gender_split"
   ]
  },
  {
   "cell_type": "markdown",
   "metadata": {},
   "source": [
    "#### Ages of the riders of the past day"
   ]
  },
  {
   "cell_type": "code",
   "execution_count": null,
   "metadata": {},
   "outputs": [],
   "source": []
  },
  {
   "cell_type": "markdown",
   "metadata": {},
   "source": [
    "#### Average power and heart rate of riders of past day"
   ]
  },
  {
   "cell_type": "code",
   "execution_count": null,
   "metadata": {},
   "outputs": [],
   "source": []
  },
  {
   "cell_type": "markdown",
   "metadata": {},
   "source": [
    "### Create the HTML Template"
   ]
  },
  {
   "cell_type": "code",
   "execution_count": 32,
   "metadata": {},
   "outputs": [],
   "source": [
    "def report_block_template( graph_relative_path, caption=''):\n",
    "\n",
    "    graph_block = (''\n",
    "            '<a href=\"{graph_relative_path}\" target=\"_blank\">' # Open the interactive graph when you click on the image\n",
    "                '<img style=\"height: 400px;\" img src=\"{graph_relative_path}\">'\n",
    "            '</a>')\n",
    "\n",
    "    report_block = ('' +\n",
    "        graph_block +\n",
    "        '{caption}' + \n",
    "        '<br>'      + \n",
    "        '</a>' +\n",
    "        '<br>' +\n",
    "        '<hr>')                       \n",
    "    report_layout = (\n",
    "       '<h2>Deloton Exercise Bikes Daily Report</h2>'\n",
    "       + '<hr>'\n",
    "       + report_block\n",
    "    )\n",
    "    return report_layout.format(graph_relative_path=graph_relative_path, caption=caption)\n",
    "\n",
    "\n",
    "graph_relative_path = 'age_distr.png'\n",
    "\n",
    "report = report_block_template(graph_relative_path, caption='Dis a graph')\n"
   ]
  },
  {
   "cell_type": "code",
   "execution_count": 33,
   "metadata": {},
   "outputs": [
    {
     "data": {
      "text/html": [
       "<h2>Deloton Exercise Bikes Daily Report</h2><hr><a href=\"age_distr.png\" target=\"_blank\"><img style=\"height: 400px;\" img src=\"age_distr.png\"></a>Dis a graph<br></a><br><hr>"
      ],
      "text/plain": [
       "<IPython.core.display.HTML object>"
      ]
     },
     "metadata": {},
     "output_type": "display_data"
    }
   ],
   "source": [
    "display(HTML(report))"
   ]
  },
  {
   "cell_type": "markdown",
   "metadata": {},
   "source": [
    "### Convert the HTML to PDF"
   ]
  },
  {
   "cell_type": "code",
   "execution_count": 28,
   "metadata": {},
   "outputs": [],
   "source": [
    "\n",
    "def convert_html_to_pdf(source_html, output_filename):\n",
    "\n",
    "    result_file = open(output_filename, \"w+b\")\n",
    "\n",
    "    pisa_status = pisa.CreatePDF(\n",
    "            source_html,           \n",
    "            dest=result_file)           \n",
    "\n",
    "    result_file.close()           \n",
    "\n",
    "    return pisa_status.err"
   ]
  },
  {
   "cell_type": "code",
   "execution_count": 29,
   "metadata": {},
   "outputs": [
    {
     "data": {
      "text/plain": [
       "0"
      ]
     },
     "execution_count": 29,
     "metadata": {},
     "output_type": "execute_result"
    }
   ],
   "source": [
    "convert_html_to_pdf(report, 'report.pdf')"
   ]
  },
  {
   "cell_type": "code",
   "execution_count": 30,
   "metadata": {},
   "outputs": [],
   "source": [
    "! open report.pdf"
   ]
  }
 ],
 "metadata": {
  "kernelspec": {
   "display_name": "Python 3.9.13 64-bit",
   "language": "python",
   "name": "python3"
  },
  "language_info": {
   "codemirror_mode": {
    "name": "ipython",
    "version": 3
   },
   "file_extension": ".py",
   "mimetype": "text/x-python",
   "name": "python",
   "nbconvert_exporter": "python",
   "pygments_lexer": "ipython3",
   "version": "3.9.13"
  },
  "orig_nbformat": 4,
  "vscode": {
   "interpreter": {
    "hash": "b0fa6594d8f4cbf19f97940f81e996739fb7646882a419484c72d19e05852a7e"
   }
  }
 },
 "nbformat": 4,
 "nbformat_minor": 2
}
