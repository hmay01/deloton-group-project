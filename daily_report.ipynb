{
 "cells": [
  {
   "cell_type": "code",
   "execution_count": null,
   "metadata": {},
   "outputs": [],
   "source": [
    "%pip install xhtml2pdf\n",
    "%pip install plotly==5.10.0"
   ]
  },
  {
   "cell_type": "code",
   "execution_count": 24,
   "metadata": {},
   "outputs": [],
   "source": [
    "from IPython.display import display, HTML\n",
    "from xhtml2pdf import pisa \n",
    "from dotenv import load_dotenv\n",
    "from sqlalchemy import create_engine\n",
    "from datetime import datetime, timedelta\n",
    "from os import getenv\n",
    "import pandas as pd\n",
    "import plotly.express as px\n",
    "import io\n",
    "from base64 import b64encode"
   ]
  },
  {
   "cell_type": "code",
   "execution_count": 3,
   "metadata": {},
   "outputs": [
    {
     "data": {
      "text/plain": [
       "True"
      ]
     },
     "execution_count": 3,
     "metadata": {},
     "output_type": "execute_result"
    }
   ],
   "source": [
    "load_dotenv()"
   ]
  },
  {
   "cell_type": "code",
   "execution_count": 4,
   "metadata": {},
   "outputs": [],
   "source": [
    "db_host = getenv('DB_HOST')\n",
    "db_port = getenv('DB_PORT')\n",
    "db_user = getenv('DB_USER')\n",
    "db_password = getenv('DB_PASSWORD')\n",
    "db_name = getenv('DB_NAME')\n",
    "group_user = getenv('GROUP_USER')\n",
    "group_user_pass = getenv('GROUP_USER_PASS')"
   ]
  },
  {
   "cell_type": "code",
   "execution_count": 5,
   "metadata": {},
   "outputs": [],
   "source": [
    "engine = create_engine(f'postgresql://{db_user}:{db_password}@{db_host}:{db_port}/{db_name}')"
   ]
  },
  {
   "cell_type": "code",
   "execution_count": 6,
   "metadata": {},
   "outputs": [],
   "source": [
    "con = engine.connect()"
   ]
  },
  {
   "cell_type": "code",
   "execution_count": 7,
   "metadata": {},
   "outputs": [
    {
     "data": {
      "text/plain": [
       "'2022-10-08'"
      ]
     },
     "execution_count": 7,
     "metadata": {},
     "output_type": "execute_result"
    }
   ],
   "source": [
    "def get_current_date() -> str:\n",
    "   \"\"\"\n",
    "   Returns the current date (note :currently set as yesterdays date)\n",
    "   \"\"\"\n",
    "   current_date = str(datetime.now().date())\n",
    "   return current_date\n",
    "current_date = get_current_date()\n",
    "current_date"
   ]
  },
  {
   "cell_type": "code",
   "execution_count": 8,
   "metadata": {},
   "outputs": [
    {
     "data": {
      "text/html": [
       "<div>\n",
       "<style scoped>\n",
       "    .dataframe tbody tr th:only-of-type {\n",
       "        vertical-align: middle;\n",
       "    }\n",
       "\n",
       "    .dataframe tbody tr th {\n",
       "        vertical-align: top;\n",
       "    }\n",
       "\n",
       "    .dataframe thead th {\n",
       "        text-align: right;\n",
       "    }\n",
       "</style>\n",
       "<table border=\"1\" class=\"dataframe\">\n",
       "  <thead>\n",
       "    <tr style=\"text-align: right;\">\n",
       "      <th></th>\n",
       "      <th>ride_id</th>\n",
       "      <th>user_id</th>\n",
       "      <th>start_time</th>\n",
       "      <th>end_time</th>\n",
       "      <th>total_duration</th>\n",
       "      <th>max_heart_rate_bpm</th>\n",
       "      <th>min_heart_rate_bpm</th>\n",
       "      <th>avg_heart_rate_bpm</th>\n",
       "      <th>avg_resistance</th>\n",
       "      <th>avg_rpm</th>\n",
       "      <th>total_power_kilojoules</th>\n",
       "    </tr>\n",
       "  </thead>\n",
       "  <tbody>\n",
       "    <tr>\n",
       "      <th>0</th>\n",
       "      <td>127</td>\n",
       "      <td>4674</td>\n",
       "      <td>2022-10-08 09:06:31</td>\n",
       "      <td>2022-10-08 09:15:12</td>\n",
       "      <td>0:08:40</td>\n",
       "      <td>170</td>\n",
       "      <td>55</td>\n",
       "      <td>107</td>\n",
       "      <td>38</td>\n",
       "      <td>50</td>\n",
       "      <td>13.72</td>\n",
       "    </tr>\n",
       "    <tr>\n",
       "      <th>1</th>\n",
       "      <td>127</td>\n",
       "      <td>4674</td>\n",
       "      <td>2022-10-08 09:06:31</td>\n",
       "      <td>2022-10-08 09:15:12</td>\n",
       "      <td>0:08:40</td>\n",
       "      <td>170</td>\n",
       "      <td>55</td>\n",
       "      <td>107</td>\n",
       "      <td>38</td>\n",
       "      <td>50</td>\n",
       "      <td>13.72</td>\n",
       "    </tr>\n",
       "    <tr>\n",
       "      <th>2</th>\n",
       "      <td>127</td>\n",
       "      <td>4674</td>\n",
       "      <td>2022-10-08 09:06:31</td>\n",
       "      <td>2022-10-08 09:15:12</td>\n",
       "      <td>0:08:40</td>\n",
       "      <td>170</td>\n",
       "      <td>55</td>\n",
       "      <td>107</td>\n",
       "      <td>38</td>\n",
       "      <td>50</td>\n",
       "      <td>13.72</td>\n",
       "    </tr>\n",
       "    <tr>\n",
       "      <th>3</th>\n",
       "      <td>127</td>\n",
       "      <td>4674</td>\n",
       "      <td>2022-10-08 09:06:31</td>\n",
       "      <td>2022-10-08 09:15:12</td>\n",
       "      <td>0:08:40</td>\n",
       "      <td>170</td>\n",
       "      <td>55</td>\n",
       "      <td>107</td>\n",
       "      <td>38</td>\n",
       "      <td>50</td>\n",
       "      <td>13.72</td>\n",
       "    </tr>\n",
       "    <tr>\n",
       "      <th>4</th>\n",
       "      <td>127</td>\n",
       "      <td>4674</td>\n",
       "      <td>2022-10-08 09:06:31</td>\n",
       "      <td>2022-10-08 09:15:12</td>\n",
       "      <td>0:08:40</td>\n",
       "      <td>170</td>\n",
       "      <td>55</td>\n",
       "      <td>107</td>\n",
       "      <td>38</td>\n",
       "      <td>50</td>\n",
       "      <td>13.72</td>\n",
       "    </tr>\n",
       "    <tr>\n",
       "      <th>5</th>\n",
       "      <td>127</td>\n",
       "      <td>4674</td>\n",
       "      <td>2022-10-08 09:06:31</td>\n",
       "      <td>2022-10-08 09:15:12</td>\n",
       "      <td>0:08:40</td>\n",
       "      <td>170</td>\n",
       "      <td>55</td>\n",
       "      <td>107</td>\n",
       "      <td>38</td>\n",
       "      <td>50</td>\n",
       "      <td>13.72</td>\n",
       "    </tr>\n",
       "    <tr>\n",
       "      <th>6</th>\n",
       "      <td>127</td>\n",
       "      <td>4674</td>\n",
       "      <td>2022-10-08 09:06:31</td>\n",
       "      <td>2022-10-08 09:15:12</td>\n",
       "      <td>0:08:40</td>\n",
       "      <td>170</td>\n",
       "      <td>55</td>\n",
       "      <td>107</td>\n",
       "      <td>38</td>\n",
       "      <td>50</td>\n",
       "      <td>13.72</td>\n",
       "    </tr>\n",
       "    <tr>\n",
       "      <th>7</th>\n",
       "      <td>127</td>\n",
       "      <td>4674</td>\n",
       "      <td>2022-10-08 09:06:31</td>\n",
       "      <td>2022-10-08 09:15:12</td>\n",
       "      <td>0:08:40</td>\n",
       "      <td>170</td>\n",
       "      <td>55</td>\n",
       "      <td>107</td>\n",
       "      <td>38</td>\n",
       "      <td>50</td>\n",
       "      <td>13.72</td>\n",
       "    </tr>\n",
       "    <tr>\n",
       "      <th>8</th>\n",
       "      <td>127</td>\n",
       "      <td>4674</td>\n",
       "      <td>2022-10-08 09:06:31</td>\n",
       "      <td>2022-10-08 09:15:12</td>\n",
       "      <td>0:08:40</td>\n",
       "      <td>170</td>\n",
       "      <td>55</td>\n",
       "      <td>107</td>\n",
       "      <td>38</td>\n",
       "      <td>50</td>\n",
       "      <td>13.72</td>\n",
       "    </tr>\n",
       "    <tr>\n",
       "      <th>9</th>\n",
       "      <td>127</td>\n",
       "      <td>4674</td>\n",
       "      <td>2022-10-08 09:06:31</td>\n",
       "      <td>2022-10-08 09:15:12</td>\n",
       "      <td>0:08:40</td>\n",
       "      <td>170</td>\n",
       "      <td>55</td>\n",
       "      <td>107</td>\n",
       "      <td>38</td>\n",
       "      <td>50</td>\n",
       "      <td>13.72</td>\n",
       "    </tr>\n",
       "    <tr>\n",
       "      <th>10</th>\n",
       "      <td>127</td>\n",
       "      <td>4674</td>\n",
       "      <td>2022-10-08 09:06:31</td>\n",
       "      <td>2022-10-08 09:15:12</td>\n",
       "      <td>0:08:40</td>\n",
       "      <td>170</td>\n",
       "      <td>55</td>\n",
       "      <td>107</td>\n",
       "      <td>38</td>\n",
       "      <td>50</td>\n",
       "      <td>13.72</td>\n",
       "    </tr>\n",
       "  </tbody>\n",
       "</table>\n",
       "</div>"
      ],
      "text/plain": [
       "    ride_id  user_id          start_time            end_time total_duration  \\\n",
       "0       127     4674 2022-10-08 09:06:31 2022-10-08 09:15:12        0:08:40   \n",
       "1       127     4674 2022-10-08 09:06:31 2022-10-08 09:15:12        0:08:40   \n",
       "2       127     4674 2022-10-08 09:06:31 2022-10-08 09:15:12        0:08:40   \n",
       "3       127     4674 2022-10-08 09:06:31 2022-10-08 09:15:12        0:08:40   \n",
       "4       127     4674 2022-10-08 09:06:31 2022-10-08 09:15:12        0:08:40   \n",
       "5       127     4674 2022-10-08 09:06:31 2022-10-08 09:15:12        0:08:40   \n",
       "6       127     4674 2022-10-08 09:06:31 2022-10-08 09:15:12        0:08:40   \n",
       "7       127     4674 2022-10-08 09:06:31 2022-10-08 09:15:12        0:08:40   \n",
       "8       127     4674 2022-10-08 09:06:31 2022-10-08 09:15:12        0:08:40   \n",
       "9       127     4674 2022-10-08 09:06:31 2022-10-08 09:15:12        0:08:40   \n",
       "10      127     4674 2022-10-08 09:06:31 2022-10-08 09:15:12        0:08:40   \n",
       "\n",
       "    max_heart_rate_bpm  min_heart_rate_bpm  avg_heart_rate_bpm  \\\n",
       "0                  170                  55                 107   \n",
       "1                  170                  55                 107   \n",
       "2                  170                  55                 107   \n",
       "3                  170                  55                 107   \n",
       "4                  170                  55                 107   \n",
       "5                  170                  55                 107   \n",
       "6                  170                  55                 107   \n",
       "7                  170                  55                 107   \n",
       "8                  170                  55                 107   \n",
       "9                  170                  55                 107   \n",
       "10                 170                  55                 107   \n",
       "\n",
       "    avg_resistance  avg_rpm  total_power_kilojoules  \n",
       "0               38       50                   13.72  \n",
       "1               38       50                   13.72  \n",
       "2               38       50                   13.72  \n",
       "3               38       50                   13.72  \n",
       "4               38       50                   13.72  \n",
       "5               38       50                   13.72  \n",
       "6               38       50                   13.72  \n",
       "7               38       50                   13.72  \n",
       "8               38       50                   13.72  \n",
       "9               38       50                   13.72  \n",
       "10              38       50                   13.72  "
      ]
     },
     "execution_count": 8,
     "metadata": {},
     "output_type": "execute_result"
    }
   ],
   "source": [
    "query = \"\"\"\n",
    "SELECT * FROM yusra_stories_production.rides\n",
    "\"\"\"\n",
    "pd.read_sql_query(query, con)"
   ]
  },
  {
   "cell_type": "markdown",
   "metadata": {},
   "source": [
    "### Quering database"
   ]
  },
  {
   "cell_type": "markdown",
   "metadata": {},
   "source": [
    "#### Number of rides completed in the past day"
   ]
  },
  {
   "cell_type": "code",
   "execution_count": 9,
   "metadata": {},
   "outputs": [
    {
     "data": {
      "text/html": [
       "<div>\n",
       "<style scoped>\n",
       "    .dataframe tbody tr th:only-of-type {\n",
       "        vertical-align: middle;\n",
       "    }\n",
       "\n",
       "    .dataframe tbody tr th {\n",
       "        vertical-align: top;\n",
       "    }\n",
       "\n",
       "    .dataframe thead th {\n",
       "        text-align: right;\n",
       "    }\n",
       "</style>\n",
       "<table border=\"1\" class=\"dataframe\">\n",
       "  <thead>\n",
       "    <tr style=\"text-align: right;\">\n",
       "      <th></th>\n",
       "      <th>number_of_rides</th>\n",
       "    </tr>\n",
       "  </thead>\n",
       "  <tbody>\n",
       "    <tr>\n",
       "      <th>0</th>\n",
       "      <td>11</td>\n",
       "    </tr>\n",
       "  </tbody>\n",
       "</table>\n",
       "</div>"
      ],
      "text/plain": [
       "   number_of_rides\n",
       "0               11"
      ]
     },
     "execution_count": 9,
     "metadata": {},
     "output_type": "execute_result"
    }
   ],
   "source": [
    "query = f\"\"\"\n",
    "WITH rides AS (  \n",
    "    SELECT *, CAST(start_time AS DATE) AS start_date\n",
    "    FROM yusra_stories_production.rides\n",
    "    )\n",
    "SELECT COUNT(*) AS number_of_rides \n",
    "FROM rides \n",
    "WHERE start_date = '{current_date}';\n",
    "\"\"\"\n",
    "number_of_rides = pd.read_sql_query(query, con)\n",
    "number_of_rides"
   ]
  },
  {
   "cell_type": "markdown",
   "metadata": {},
   "source": [
    "#### Gender split of riders of the past day"
   ]
  },
  {
   "cell_type": "code",
   "execution_count": 22,
   "metadata": {},
   "outputs": [],
   "source": [
    "query = f\"\"\"\n",
    "WITH rides AS (  \n",
    "    SELECT *, CAST(start_time AS DATE) AS start_date\n",
    "    FROM yusra_stories_production.rides\n",
    "    ),\n",
    "riders AS (\n",
    "SELECT DISTINCT (user_id), name, gender, age\n",
    "FROM yusra_stories_production.users\n",
    "JOIN rides\n",
    "USING (user_id)\n",
    "WHERE start_date = '{current_date}'\n",
    ")\n",
    "SELECT gender, COUNT(*) AS number_of_riders\n",
    "FROM riders\n",
    "GROUP BY gender;\n",
    "\"\"\"\n",
    "riders_gender_split = pd.read_sql_query(query, con)\n",
    "riders_gender_split_fig = px.pie(riders_gender_split, values='number_of_riders', names='gender', title=f'Gender split of riders of the past day', color_discrete_sequence=px.colors.sequential.Greens_r)"
   ]
  },
  {
   "cell_type": "markdown",
   "metadata": {},
   "source": [
    "#### Ages of the riders of the past day"
   ]
  },
  {
   "cell_type": "code",
   "execution_count": 11,
   "metadata": {},
   "outputs": [
    {
     "data": {
      "text/html": [
       "<div>\n",
       "<style scoped>\n",
       "    .dataframe tbody tr th:only-of-type {\n",
       "        vertical-align: middle;\n",
       "    }\n",
       "\n",
       "    .dataframe tbody tr th {\n",
       "        vertical-align: top;\n",
       "    }\n",
       "\n",
       "    .dataframe thead th {\n",
       "        text-align: right;\n",
       "    }\n",
       "</style>\n",
       "<table border=\"1\" class=\"dataframe\">\n",
       "  <thead>\n",
       "    <tr style=\"text-align: right;\">\n",
       "      <th></th>\n",
       "      <th>user_id</th>\n",
       "      <th>name</th>\n",
       "      <th>gender</th>\n",
       "      <th>age</th>\n",
       "    </tr>\n",
       "  </thead>\n",
       "  <tbody>\n",
       "    <tr>\n",
       "      <th>0</th>\n",
       "      <td>4674</td>\n",
       "      <td>Frank Sutton</td>\n",
       "      <td>male</td>\n",
       "      <td>45.0</td>\n",
       "    </tr>\n",
       "  </tbody>\n",
       "</table>\n",
       "</div>"
      ],
      "text/plain": [
       "   user_id          name gender   age\n",
       "0     4674  Frank Sutton   male  45.0"
      ]
     },
     "execution_count": 11,
     "metadata": {},
     "output_type": "execute_result"
    }
   ],
   "source": [
    "query = f\"\"\"\n",
    "WITH rides AS (  \n",
    "    SELECT *, CAST(start_time AS DATE) AS start_date\n",
    "    FROM yusra_stories_production.rides\n",
    "    )\n",
    "SELECT DISTINCT (user_id), name, gender, age\n",
    "FROM yusra_stories_production.users\n",
    "JOIN rides\n",
    "USING (user_id)\n",
    "WHERE start_date = '{current_date}'\n",
    "ORDER BY age ASC\n",
    "\"\"\"\n",
    "ages_of_riders = pd.read_sql_query(query, con)\n",
    "px.bar()"
   ]
  },
  {
   "cell_type": "markdown",
   "metadata": {},
   "source": [
    "#### Average power and heart rate of riders of past day"
   ]
  },
  {
   "cell_type": "code",
   "execution_count": 12,
   "metadata": {},
   "outputs": [
    {
     "data": {
      "text/html": [
       "<div>\n",
       "<style scoped>\n",
       "    .dataframe tbody tr th:only-of-type {\n",
       "        vertical-align: middle;\n",
       "    }\n",
       "\n",
       "    .dataframe tbody tr th {\n",
       "        vertical-align: top;\n",
       "    }\n",
       "\n",
       "    .dataframe thead th {\n",
       "        text-align: right;\n",
       "    }\n",
       "</style>\n",
       "<table border=\"1\" class=\"dataframe\">\n",
       "  <thead>\n",
       "    <tr style=\"text-align: right;\">\n",
       "      <th></th>\n",
       "      <th>user_id</th>\n",
       "      <th>average_heart_rate</th>\n",
       "      <th>average_power</th>\n",
       "    </tr>\n",
       "  </thead>\n",
       "  <tbody>\n",
       "    <tr>\n",
       "      <th>0</th>\n",
       "      <td>4674</td>\n",
       "      <td>107.0</td>\n",
       "      <td>13.72</td>\n",
       "    </tr>\n",
       "  </tbody>\n",
       "</table>\n",
       "</div>"
      ],
      "text/plain": [
       "   user_id  average_heart_rate  average_power\n",
       "0     4674               107.0          13.72"
      ]
     },
     "execution_count": 12,
     "metadata": {},
     "output_type": "execute_result"
    }
   ],
   "source": [
    "query = f\"\"\"\n",
    "WITH rides AS (  \n",
    "    SELECT *, CAST(start_time AS DATE) AS start_date\n",
    "    FROM yusra_stories_production.rides\n",
    "    )\n",
    "SELECT user_id, AVG(avg_heart_rate_bpm) AS average_heart_rate, AVG(total_power_kilojoules) AS average_power\n",
    "FROM yusra_stories_production.users\n",
    "JOIN rides\n",
    "USING (user_id)\n",
    "WHERE start_date = '{current_date}'\n",
    "GROUP BY user_id\n",
    "\"\"\"\n",
    "riders_average_power_and_heart_rate = pd.read_sql_query(query, con)\n",
    "riders_average_power_and_heart_rate"
   ]
  },
  {
   "cell_type": "markdown",
   "metadata": {},
   "source": [
    "### Create the HTML Template"
   ]
  },
  {
   "cell_type": "code",
   "execution_count": 25,
   "metadata": {},
   "outputs": [],
   "source": [
    "def fig_to_base64(fig):\n",
    "    buffer = io.StringIO()\n",
    "    fig.write_html(buffer)\n",
    "    html_bytes = buffer.getvalue().encode()\n",
    "    encoded = b64encode(html_bytes).decode()\n",
    "\n",
    "    return encoded"
   ]
  },
  {
   "cell_type": "code",
   "execution_count": 26,
   "metadata": {},
   "outputs": [],
   "source": [
    "encoded = fig_to_base64(riders_gender_split_fig)"
   ]
  },
  {
   "cell_type": "code",
   "execution_count": null,
   "metadata": {},
   "outputs": [],
   "source": [
    "my_html = '<img src=\"data:image/png;base64, {}\">'.format(encoded.decode('utf-8'))"
   ]
  },
  {
   "cell_type": "code",
   "execution_count": 13,
   "metadata": {},
   "outputs": [],
   "source": [
    "def report_block_template( graph_relative_path, caption=''):\n",
    "\n",
    "    graph_block = (''\n",
    "            '<a href=\"{graph_relative_path}\" target=\"_blank\">' # Open the interactive graph when you click on the image\n",
    "                '<img style=\"height: 400px;\" img src=\"{graph_relative_path}\">'\n",
    "            '</a>')\n",
    "\n",
    "    report_block = ('' +\n",
    "        graph_block +\n",
    "        '{caption}' + \n",
    "        '<br>'      + \n",
    "        '</a>' +\n",
    "        '<br>' +\n",
    "        '<hr>')                       \n",
    "    report_layout = (\n",
    "       '<h2>Deloton Exercise Bikes Daily Report</h2>'\n",
    "       + '<hr>'\n",
    "       + report_block\n",
    "    )\n",
    "    return report_layout.format(graph_relative_path=graph_relative_path, caption=caption)\n",
    "\n",
    "\n",
    "# graph_relative_path = 'age_distr.png'\n",
    "\n",
    "# report = report_block_template(graph_relative_path, caption='Dis a graph')\n"
   ]
  },
  {
   "cell_type": "code",
   "execution_count": 19,
   "metadata": {},
   "outputs": [],
   "source": [
    "# display(HTML(report))"
   ]
  },
  {
   "cell_type": "markdown",
   "metadata": {},
   "source": [
    "### Convert the HTML to PDF"
   ]
  },
  {
   "cell_type": "code",
   "execution_count": 15,
   "metadata": {},
   "outputs": [],
   "source": [
    "\n",
    "def convert_html_to_pdf(source_html, output_filename):\n",
    "\n",
    "    result_file = open(output_filename, \"w+b\")\n",
    "\n",
    "    pisa_status = pisa.CreatePDF(\n",
    "            source_html,           \n",
    "            dest=result_file)           \n",
    "\n",
    "    result_file.close()           \n",
    "\n",
    "    return pisa_status.err"
   ]
  },
  {
   "cell_type": "code",
   "execution_count": 16,
   "metadata": {},
   "outputs": [
    {
     "data": {
      "text/plain": [
       "0"
      ]
     },
     "execution_count": 16,
     "metadata": {},
     "output_type": "execute_result"
    }
   ],
   "source": [
    "convert_html_to_pdf(report, 'report.pdf')"
   ]
  },
  {
   "cell_type": "code",
   "execution_count": 17,
   "metadata": {},
   "outputs": [],
   "source": [
    "! open report.pdf"
   ]
  }
 ],
 "metadata": {
  "kernelspec": {
   "display_name": "Python 3.9.13 64-bit",
   "language": "python",
   "name": "python3"
  },
  "language_info": {
   "codemirror_mode": {
    "name": "ipython",
    "version": 3
   },
   "file_extension": ".py",
   "mimetype": "text/x-python",
   "name": "python",
   "nbconvert_exporter": "python",
   "pygments_lexer": "ipython3",
   "version": "3.9.13"
  },
  "orig_nbformat": 4,
  "vscode": {
   "interpreter": {
    "hash": "b0fa6594d8f4cbf19f97940f81e996739fb7646882a419484c72d19e05852a7e"
   }
  }
 },
 "nbformat": 4,
 "nbformat_minor": 2
}
