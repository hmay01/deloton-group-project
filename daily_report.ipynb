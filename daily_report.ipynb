{
 "cells": [
  {
   "cell_type": "code",
   "execution_count": null,
   "metadata": {},
   "outputs": [],
   "source": [
    "%pip install xhtml2pdf"
   ]
  },
  {
   "cell_type": "code",
   "execution_count": 59,
   "metadata": {},
   "outputs": [],
   "source": [
    "from IPython.display import display, HTML\n",
    "from xhtml2pdf import pisa \n",
    "from aurora_postgres_helpers import SQLConnection\n",
    "from datetime import datetime"
   ]
  },
  {
   "cell_type": "markdown",
   "metadata": {},
   "source": [
    "### instantiate SQLConnection class"
   ]
  },
  {
   "cell_type": "code",
   "execution_count": 55,
   "metadata": {},
   "outputs": [],
   "source": [
    "s = SQLConnection()"
   ]
  },
  {
   "cell_type": "markdown",
   "metadata": {},
   "source": [
    "### Quering database"
   ]
  },
  {
   "cell_type": "code",
   "execution_count": 61,
   "metadata": {},
   "outputs": [],
   "source": [
    "def get_current_date() -> str:\n",
    "    current_date = str(datetime.now().date())\n",
    "    return current_date\n",
    "current_date = get_current_date()"
   ]
  },
  {
   "cell_type": "code",
   "execution_count": null,
   "metadata": {},
   "outputs": [],
   "source": [
    "def filter_by_date(s:SQLConnection, date)"
   ]
  },
  {
   "cell_type": "markdown",
   "metadata": {},
   "source": [
    "#### Number of rides completed in the past day"
   ]
  },
  {
   "cell_type": "code",
   "execution_count": 58,
   "metadata": {},
   "outputs": [
    {
     "data": {
      "text/html": [
       "<div>\n",
       "<style scoped>\n",
       "    .dataframe tbody tr th:only-of-type {\n",
       "        vertical-align: middle;\n",
       "    }\n",
       "\n",
       "    .dataframe tbody tr th {\n",
       "        vertical-align: top;\n",
       "    }\n",
       "\n",
       "    .dataframe thead th {\n",
       "        text-align: right;\n",
       "    }\n",
       "</style>\n",
       "<table border=\"1\" class=\"dataframe\">\n",
       "  <thead>\n",
       "    <tr style=\"text-align: right;\">\n",
       "      <th></th>\n",
       "      <th>ride_id</th>\n",
       "      <th>user_id</th>\n",
       "      <th>start_time</th>\n",
       "      <th>end_time</th>\n",
       "      <th>total_duration</th>\n",
       "      <th>max_heart_rate_bpm</th>\n",
       "      <th>min_heart_rate_bpm</th>\n",
       "      <th>avg_heart_rate_bpm</th>\n",
       "      <th>avg_resistance</th>\n",
       "      <th>avg_rpm</th>\n",
       "      <th>total_power_kilojoules</th>\n",
       "    </tr>\n",
       "  </thead>\n",
       "  <tbody>\n",
       "    <tr>\n",
       "      <th>0</th>\n",
       "      <td>1</td>\n",
       "      <td>4651</td>\n",
       "      <td>2022-10-07 15:08:31</td>\n",
       "      <td>2022-10-07 15:17:13</td>\n",
       "      <td>0:08:40</td>\n",
       "      <td>157</td>\n",
       "      <td>71</td>\n",
       "      <td>107</td>\n",
       "      <td>41</td>\n",
       "      <td>47</td>\n",
       "      <td>18.01</td>\n",
       "    </tr>\n",
       "    <tr>\n",
       "      <th>1</th>\n",
       "      <td>2</td>\n",
       "      <td>4651</td>\n",
       "      <td>2022-10-07 15:17:14</td>\n",
       "      <td>2022-10-07 15:25:55</td>\n",
       "      <td>0:08:40</td>\n",
       "      <td>151</td>\n",
       "      <td>85</td>\n",
       "      <td>105</td>\n",
       "      <td>41</td>\n",
       "      <td>48</td>\n",
       "      <td>12.75</td>\n",
       "    </tr>\n",
       "    <tr>\n",
       "      <th>2</th>\n",
       "      <td>3</td>\n",
       "      <td>4651</td>\n",
       "      <td>2022-10-07 15:25:57</td>\n",
       "      <td>2022-10-07 15:34:38</td>\n",
       "      <td>0:08:40</td>\n",
       "      <td>155</td>\n",
       "      <td>80</td>\n",
       "      <td>121</td>\n",
       "      <td>41</td>\n",
       "      <td>50</td>\n",
       "      <td>13.93</td>\n",
       "    </tr>\n",
       "    <tr>\n",
       "      <th>3</th>\n",
       "      <td>5</td>\n",
       "      <td>4653</td>\n",
       "      <td>2022-10-07 15:43:22</td>\n",
       "      <td>2022-10-07 15:49:17</td>\n",
       "      <td>0:05:54</td>\n",
       "      <td>168</td>\n",
       "      <td>81</td>\n",
       "      <td>133</td>\n",
       "      <td>44</td>\n",
       "      <td>44</td>\n",
       "      <td>14.56</td>\n",
       "    </tr>\n",
       "    <tr>\n",
       "      <th>4</th>\n",
       "      <td>4</td>\n",
       "      <td>4653</td>\n",
       "      <td>2022-10-07 15:34:40</td>\n",
       "      <td>2022-10-07 15:43:21</td>\n",
       "      <td>0:08:40</td>\n",
       "      <td>158</td>\n",
       "      <td>80</td>\n",
       "      <td>111</td>\n",
       "      <td>40</td>\n",
       "      <td>41</td>\n",
       "      <td>7.29</td>\n",
       "    </tr>\n",
       "    <tr>\n",
       "      <th>5</th>\n",
       "      <td>6</td>\n",
       "      <td>4653</td>\n",
       "      <td>2022-10-07 15:49:19</td>\n",
       "      <td>2022-10-07 15:58:00</td>\n",
       "      <td>0:08:40</td>\n",
       "      <td>157</td>\n",
       "      <td>67</td>\n",
       "      <td>114</td>\n",
       "      <td>39</td>\n",
       "      <td>41</td>\n",
       "      <td>8.53</td>\n",
       "    </tr>\n",
       "  </tbody>\n",
       "</table>\n",
       "</div>"
      ],
      "text/plain": [
       "   ride_id  user_id          start_time            end_time total_duration  \\\n",
       "0        1     4651 2022-10-07 15:08:31 2022-10-07 15:17:13        0:08:40   \n",
       "1        2     4651 2022-10-07 15:17:14 2022-10-07 15:25:55        0:08:40   \n",
       "2        3     4651 2022-10-07 15:25:57 2022-10-07 15:34:38        0:08:40   \n",
       "3        5     4653 2022-10-07 15:43:22 2022-10-07 15:49:17        0:05:54   \n",
       "4        4     4653 2022-10-07 15:34:40 2022-10-07 15:43:21        0:08:40   \n",
       "5        6     4653 2022-10-07 15:49:19 2022-10-07 15:58:00        0:08:40   \n",
       "\n",
       "   max_heart_rate_bpm  min_heart_rate_bpm  avg_heart_rate_bpm  avg_resistance  \\\n",
       "0                 157                  71                 107              41   \n",
       "1                 151                  85                 105              41   \n",
       "2                 155                  80                 121              41   \n",
       "3                 168                  81                 133              44   \n",
       "4                 158                  80                 111              40   \n",
       "5                 157                  67                 114              39   \n",
       "\n",
       "   avg_rpm  total_power_kilojoules  \n",
       "0       47                   18.01  \n",
       "1       48                   12.75  \n",
       "2       50                   13.93  \n",
       "3       44                   14.56  \n",
       "4       41                    7.29  \n",
       "5       41                    8.53  "
      ]
     },
     "execution_count": 58,
     "metadata": {},
     "output_type": "execute_result"
    }
   ],
   "source": [
    "\n",
    "number_of_rides = s.read_query(query = \"SELECT * FROM yusra_stories_production.rides \")\n",
    "number_of_rides"
   ]
  },
  {
   "cell_type": "markdown",
   "metadata": {},
   "source": [
    "#### Gender split of riders of the past day"
   ]
  },
  {
   "cell_type": "code",
   "execution_count": null,
   "metadata": {},
   "outputs": [],
   "source": [
    "query = \"\"\"\n",
    "    \n",
    "\"\"\"\n",
    "riders_gender_split = s.read_query()"
   ]
  },
  {
   "cell_type": "markdown",
   "metadata": {},
   "source": [
    "#### Ages of the riders of the past day"
   ]
  },
  {
   "cell_type": "code",
   "execution_count": null,
   "metadata": {},
   "outputs": [],
   "source": []
  },
  {
   "cell_type": "markdown",
   "metadata": {},
   "source": [
    "#### Average power and heart rate of riders of past day"
   ]
  },
  {
   "cell_type": "code",
   "execution_count": null,
   "metadata": {},
   "outputs": [],
   "source": []
  },
  {
   "cell_type": "markdown",
   "metadata": {},
   "source": [
    "### Create the HTML Template"
   ]
  },
  {
   "cell_type": "code",
   "execution_count": 32,
   "metadata": {},
   "outputs": [],
   "source": [
    "def report_block_template( graph_relative_path, caption=''):\n",
    "\n",
    "    graph_block = (''\n",
    "            '<a href=\"{graph_relative_path}\" target=\"_blank\">' # Open the interactive graph when you click on the image\n",
    "                '<img style=\"height: 400px;\" img src=\"{graph_relative_path}\">'\n",
    "            '</a>')\n",
    "\n",
    "    report_block = ('' +\n",
    "        graph_block +\n",
    "        '{caption}' + \n",
    "        '<br>'      + \n",
    "        '</a>' +\n",
    "        '<br>' +\n",
    "        '<hr>')                       \n",
    "    report_layout = (\n",
    "       '<h2>Deloton Exercise Bikes Daily Report</h2>'\n",
    "       + '<hr>'\n",
    "       + report_block\n",
    "    )\n",
    "    return report_layout.format(graph_relative_path=graph_relative_path, caption=caption)\n",
    "\n",
    "\n",
    "graph_relative_path = 'age_distr.png'\n",
    "\n",
    "report = report_block_template(graph_relative_path, caption='Dis a graph')\n"
   ]
  },
  {
   "cell_type": "code",
   "execution_count": 33,
   "metadata": {},
   "outputs": [
    {
     "data": {
      "text/html": [
       "<h2>Deloton Exercise Bikes Daily Report</h2><hr><a href=\"age_distr.png\" target=\"_blank\"><img style=\"height: 400px;\" img src=\"age_distr.png\"></a>Dis a graph<br></a><br><hr>"
      ],
      "text/plain": [
       "<IPython.core.display.HTML object>"
      ]
     },
     "metadata": {},
     "output_type": "display_data"
    }
   ],
   "source": [
    "display(HTML(report))"
   ]
  },
  {
   "cell_type": "markdown",
   "metadata": {},
   "source": [
    "### Convert the HTML to PDF"
   ]
  },
  {
   "cell_type": "code",
   "execution_count": 28,
   "metadata": {},
   "outputs": [],
   "source": [
    "\n",
    "def convert_html_to_pdf(source_html, output_filename):\n",
    "\n",
    "    result_file = open(output_filename, \"w+b\")\n",
    "\n",
    "    pisa_status = pisa.CreatePDF(\n",
    "            source_html,           \n",
    "            dest=result_file)           \n",
    "\n",
    "    result_file.close()           \n",
    "\n",
    "    return pisa_status.err"
   ]
  },
  {
   "cell_type": "code",
   "execution_count": 29,
   "metadata": {},
   "outputs": [
    {
     "data": {
      "text/plain": [
       "0"
      ]
     },
     "execution_count": 29,
     "metadata": {},
     "output_type": "execute_result"
    }
   ],
   "source": [
    "convert_html_to_pdf(report, 'report.pdf')"
   ]
  },
  {
   "cell_type": "code",
   "execution_count": 30,
   "metadata": {},
   "outputs": [],
   "source": [
    "! open report.pdf"
   ]
  }
 ],
 "metadata": {
  "kernelspec": {
   "display_name": "Python 3.9.13 64-bit",
   "language": "python",
   "name": "python3"
  },
  "language_info": {
   "codemirror_mode": {
    "name": "ipython",
    "version": 3
   },
   "file_extension": ".py",
   "mimetype": "text/x-python",
   "name": "python",
   "nbconvert_exporter": "python",
   "pygments_lexer": "ipython3",
   "version": "3.9.13"
  },
  "orig_nbformat": 4,
  "vscode": {
   "interpreter": {
    "hash": "b0fa6594d8f4cbf19f97940f81e996739fb7646882a419484c72d19e05852a7e"
   }
  }
 },
 "nbformat": 4,
 "nbformat_minor": 2
}
