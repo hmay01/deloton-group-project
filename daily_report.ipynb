{
 "cells": [
  {
   "cell_type": "code",
   "execution_count": 20,
   "metadata": {},
   "outputs": [],
   "source": [
    "# %pip install xhtml2pdf\n",
    "# %pip install plotly==5.10.0"
   ]
  },
  {
   "cell_type": "code",
   "execution_count": 21,
   "metadata": {},
   "outputs": [],
   "source": [
    "# %pip install -U kaleido"
   ]
  },
  {
   "cell_type": "code",
   "execution_count": 22,
   "metadata": {},
   "outputs": [],
   "source": [
    "\n",
    "import os\n",
    "from base64 import b64encode\n",
    "from datetime import datetime, timedelta\n",
    "from os import getenv\n",
    "\n",
    "import pandas as pd\n",
    "import plotly.express as px\n",
    "from dotenv import load_dotenv\n",
    "from sqlalchemy import create_engine\n",
    "from xhtml2pdf import pisa"
   ]
  },
  {
   "cell_type": "code",
   "execution_count": 23,
   "metadata": {},
   "outputs": [
    {
     "data": {
      "text/plain": [
       "True"
      ]
     },
     "execution_count": 23,
     "metadata": {},
     "output_type": "execute_result"
    }
   ],
   "source": [
    "load_dotenv()"
   ]
  },
  {
   "cell_type": "code",
   "execution_count": 24,
   "metadata": {},
   "outputs": [],
   "source": [
    "db_host = getenv('DB_HOST')\n",
    "db_port = getenv('DB_PORT')\n",
    "db_user = getenv('DB_USER')\n",
    "db_password = getenv('DB_PASSWORD')\n",
    "db_name = getenv('DB_NAME')\n",
    "group_user = getenv('GROUP_USER')\n",
    "group_user_pass = getenv('GROUP_USER_PASS')"
   ]
  },
  {
   "cell_type": "code",
   "execution_count": 25,
   "metadata": {},
   "outputs": [],
   "source": [
    "def get_current_date() -> str:\n",
    "   \"\"\"\n",
    "   Returns the current date (note :currently set as yesterdays date)\n",
    "   \"\"\"\n",
    "   current_date = str(datetime.now().date() - timedelta(days = 2))\n",
    "   return current_date"
   ]
  },
  {
   "cell_type": "markdown",
   "metadata": {},
   "source": [
    "### Quering database"
   ]
  },
  {
   "cell_type": "markdown",
   "metadata": {},
   "source": [
    "#### Number of rides completed in the past day"
   ]
  },
  {
   "cell_type": "code",
   "execution_count": 44,
   "metadata": {},
   "outputs": [],
   "source": [
    "def get_number_of_rides(current_date, con):\n",
    "    query = f\"\"\"\n",
    "    SELECT COUNT(*) AS number_of_rides \n",
    "    FROM yusra_stories_production.rides\n",
    "    WHERE start_time > (NOW() - interval '24 hour');\n",
    "    \"\"\"\n",
    "    number_of_rides = pd.read_sql_query(query, con)\n",
    "    return number_of_rides._get_value(0,\"number_of_rides\")"
   ]
  },
  {
   "cell_type": "markdown",
   "metadata": {},
   "source": [
    "#### Gender split of riders of the past day"
   ]
  },
  {
   "cell_type": "code",
   "execution_count": 45,
   "metadata": {},
   "outputs": [],
   "source": [
    "def get_rider_gender_split_fig(con):\n",
    "    query = f\"\"\"\n",
    "    WITH riders AS (\n",
    "    SELECT DISTINCT (user_id), name, gender, age\n",
    "    FROM yusra_stories_production.users\n",
    "    JOIN yusra_stories_production.rides\n",
    "    USING (user_id)\n",
    "    WHERE start_time > (NOW() - interval '24 hour')\n",
    "    )\n",
    "    SELECT gender, COUNT(*) AS number_of_riders\n",
    "    FROM riders\n",
    "    GROUP BY gender;\n",
    "    \"\"\"\n",
    "    riders_gender_split = pd.read_sql_query(query, con)\n",
    "    riders_gender_split_fig = px.pie(riders_gender_split, values='number_of_riders', names='gender', title=f'Gender split of riders of the past day', color_discrete_sequence=px.colors.sequential.Greens_r)\n",
    "    return riders_gender_split_fig"
   ]
  },
  {
   "cell_type": "markdown",
   "metadata": {},
   "source": [
    "#### Ages of the riders of the past day"
   ]
  },
  {
   "cell_type": "code",
   "execution_count": 46,
   "metadata": {},
   "outputs": [],
   "source": [
    "def get_age_of_riders_fig(con):\n",
    "    query = f\"\"\"\n",
    "    \n",
    "    WITH distinct_riders AS (\n",
    "        SELECT DISTINCT (user_id), age\n",
    "        FROM yusra_stories_production.users\n",
    "        JOIN rides\n",
    "        USING (user_id)\n",
    "        WHERE start_time > (NOW() - interval '24 hour')\n",
    "        ORDER BY age ASC\n",
    "        )\n",
    "    SELECT age, COUNT(*) AS number_of_riders\n",
    "    FROM distinct_riders\n",
    "    GROUP BY age\n",
    "    ORDER BY age;\n",
    "    \"\"\"\n",
    "    ages_of_riders = pd.read_sql_query(query, con)\n",
    "    ages_of_riders_fig = px.pie(ages_of_riders, values='number_of_riders', names='age', title=f'Age of riders', color_discrete_sequence=px.colors.sequential.Greens_r)\n",
    "    return ages_of_riders_fig"
   ]
  },
  {
   "cell_type": "markdown",
   "metadata": {},
   "source": [
    "#### Average power and heart rate of riders of past day"
   ]
  },
  {
   "cell_type": "code",
   "execution_count": 47,
   "metadata": {},
   "outputs": [],
   "source": [
    "def get_average_ride_stats_fig(con):\n",
    "    query = f\"\"\"\n",
    "    WITH rides AS (  \n",
    "        SELECT *, CAST(start_time AS DATE) AS start_date\n",
    "        FROM yusra_stories_production.rides\n",
    "        )\n",
    "    SELECT user_id, ROUND(AVG(avg_heart_rate_bpm)) AS average_heart_rate_bpm, ROUND(AVG(total_power_kilojoules)) AS average_power_KJ\n",
    "    FROM yusra_stories_production.users\n",
    "    JOIN yusra_stories_production.rides\n",
    "    USING (user_id)\n",
    "    WHERE start_time > (NOW() - interval '24 hour')\n",
    "    GROUP BY user_id;\n",
    "    \"\"\"\n",
    "    riders_average_power_and_heart_rate = pd.read_sql_query(query, con)\n",
    "    riders_average_power_and_heart_rate_fig = px.bar(riders_average_power_and_heart_rate, x= 'average_power_kj', y='average_heart_rate_bpm', \n",
    "        color_discrete_sequence=px.colors.sequential.Greens_r, \n",
    "        labels=dict(average_power_kj =\"Average power (KJ)\", average_heart_rate_bpm=\"Average heart rate (bpm\"),\n",
    "        title = 'Average power vs Average heart rate for each rider'\n",
    "        )\n",
    "    return riders_average_power_and_heart_rate_fig"
   ]
  },
  {
   "cell_type": "markdown",
   "metadata": {},
   "source": [
    "### Saving fig as image"
   ]
  },
  {
   "cell_type": "markdown",
   "metadata": {},
   "source": [
    "#### Option 2: saving to directory"
   ]
  },
  {
   "cell_type": "code",
   "execution_count": 48,
   "metadata": {},
   "outputs": [],
   "source": [
    "def get_graphs(con):\n",
    "    riders_gender_split_fig = get_rider_gender_split_fig(con)\n",
    "    ages_of_riders_fig = get_age_of_riders_fig(con)\n",
    "    riders_average_power_and_heart_rate_fig = get_average_ride_stats_fig(con)\n",
    "    graphs = [riders_gender_split_fig, ages_of_riders_fig, riders_average_power_and_heart_rate_fig]\n",
    "    return graphs"
   ]
  },
  {
   "cell_type": "code",
   "execution_count": 31,
   "metadata": {},
   "outputs": [],
   "source": [
    "def get_graph_names():\n",
    "    graph_names = ['riders_gender_split_fig', 'ages_of_riders_fig', 'riders_average_power_and_heart_rate_fig']\n",
    "    return graph_names"
   ]
  },
  {
   "cell_type": "code",
   "execution_count": 32,
   "metadata": {},
   "outputs": [],
   "source": [
    "def create_directory_for_images():\n",
    "    if not os.path.exists(\"images\"):\n",
    "        os.mkdir(\"images\")\n",
    "create_directory_for_images()"
   ]
  },
  {
   "cell_type": "code",
   "execution_count": 33,
   "metadata": {},
   "outputs": [],
   "source": [
    "def save_graph_as_png(fig, fig_name):\n",
    "    fig.write_image(f\"images/{fig_name}.png\")"
   ]
  },
  {
   "cell_type": "code",
   "execution_count": 34,
   "metadata": {},
   "outputs": [],
   "source": [
    "def output_graphs_to_png(graphs, graph_names):\n",
    "   for graph, graph_name in zip(graphs, graph_names):\n",
    "            save_graph_as_png(graph, graph_name)"
   ]
  },
  {
   "cell_type": "markdown",
   "metadata": {},
   "source": [
    "### Create the HTML Template"
   ]
  },
  {
   "cell_type": "code",
   "execution_count": 35,
   "metadata": {},
   "outputs": [],
   "source": [
    "def graph_block_template(fig_name):\n",
    "\n",
    "    graph_block =  (''\n",
    "            \n",
    "                f'<img style=\"height: 400px;\" src=\"images/{fig_name}.png\">'\n",
    "                + '<hr>'\n",
    "           )                   \n",
    "   \n",
    "    return graph_block\n"
   ]
  },
  {
   "cell_type": "code",
   "execution_count": 36,
   "metadata": {},
   "outputs": [],
   "source": [
    "def get_report(graph_names, number_of_rides):\n",
    "    graphs_layout = ''\n",
    "    for graph_name in graph_names:\n",
    "        graphs_layout += graph_block_template(graph_name)\n",
    "    report_layout = (\n",
    "        '<h1>Deloton Exercise Bikes Daily Report</h1>'\n",
    "        + '<hr>'\n",
    "        + f'<h1> {number_of_rides} Rides completed today </h1>'\n",
    "        + '<hr>'\n",
    "        + graphs_layout\n",
    "    )\n",
    "    return report_layout"
   ]
  },
  {
   "cell_type": "markdown",
   "metadata": {},
   "source": [
    "### Convert the HTML to PDF"
   ]
  },
  {
   "cell_type": "code",
   "execution_count": 37,
   "metadata": {},
   "outputs": [],
   "source": [
    "\n",
    "def convert_html_to_pdf(source_html, output_filename):\n",
    "\n",
    "    result_file = open(output_filename, \"w+b\")\n",
    "\n",
    "    pisa_status = pisa.CreatePDF(\n",
    "            source_html,           \n",
    "            dest=result_file)           \n",
    "\n",
    "    result_file.close()           \n",
    "\n",
    "    return pisa_status.err"
   ]
  },
  {
   "cell_type": "markdown",
   "metadata": {},
   "source": [
    "### Function calls"
   ]
  },
  {
   "cell_type": "code",
   "execution_count": 38,
   "metadata": {},
   "outputs": [],
   "source": [
    "engine = create_engine(f'postgresql://{db_user}:{db_password}@{db_host}:{db_port}/{db_name}')\n",
    "con = engine.connect()\n",
    "\n",
    "create_directory_for_images()\n",
    "graphs = get_graphs(con)\n",
    "graph_names = get_graph_names()\n",
    "output_graphs_to_png(graphs, graph_names)\n",
    "number_of_rides = get_number_of_rides(con)\n",
    "report = get_report(graph_names, number_of_rides)\n",
    "convert_html_to_pdf(report, 'report.pdf')\n",
    "! open report.pdf"
   ]
  }
 ],
 "metadata": {
  "kernelspec": {
   "display_name": "Python 3.9.13 64-bit",
   "language": "python",
   "name": "python3"
  },
  "language_info": {
   "codemirror_mode": {
    "name": "ipython",
    "version": 3
   },
   "file_extension": ".py",
   "mimetype": "text/x-python",
   "name": "python",
   "nbconvert_exporter": "python",
   "pygments_lexer": "ipython3",
   "version": "3.9.13"
  },
  "orig_nbformat": 4,
  "vscode": {
   "interpreter": {
    "hash": "b0fa6594d8f4cbf19f97940f81e996739fb7646882a419484c72d19e05852a7e"
   }
  }
 },
 "nbformat": 4,
 "nbformat_minor": 2
}
