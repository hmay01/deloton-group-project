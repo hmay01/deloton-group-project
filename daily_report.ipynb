{
 "cells": [
  {
   "cell_type": "code",
   "execution_count": 1,
   "metadata": {},
   "outputs": [],
   "source": [
    "# %pip install xhtml2pdf\n",
    "# %pip install plotly==5.10.0"
   ]
  },
  {
   "cell_type": "code",
   "execution_count": 2,
   "metadata": {},
   "outputs": [],
   "source": [
    "# %pip install -U kaleido"
   ]
  },
  {
   "cell_type": "code",
   "execution_count": 3,
   "metadata": {},
   "outputs": [],
   "source": [
    "from IPython.display import display, HTML\n",
    "from xhtml2pdf import pisa \n",
    "from dotenv import load_dotenv\n",
    "from sqlalchemy import create_engine\n",
    "from datetime import datetime, timedelta\n",
    "from os import getenv\n",
    "import pandas as pd\n",
    "import plotly.express as px\n",
    "import io\n",
    "from base64 import b64encode\n",
    "import os"
   ]
  },
  {
   "cell_type": "code",
   "execution_count": 4,
   "metadata": {},
   "outputs": [
    {
     "data": {
      "text/plain": [
       "True"
      ]
     },
     "execution_count": 4,
     "metadata": {},
     "output_type": "execute_result"
    }
   ],
   "source": [
    "load_dotenv()"
   ]
  },
  {
   "cell_type": "code",
   "execution_count": 5,
   "metadata": {},
   "outputs": [],
   "source": [
    "db_host = getenv('DB_HOST')\n",
    "db_port = getenv('DB_PORT')\n",
    "db_user = getenv('DB_USER')\n",
    "db_password = getenv('DB_PASSWORD')\n",
    "db_name = getenv('DB_NAME')\n",
    "group_user = getenv('GROUP_USER')\n",
    "group_user_pass = getenv('GROUP_USER_PASS')"
   ]
  },
  {
   "cell_type": "code",
   "execution_count": 8,
   "metadata": {},
   "outputs": [
    {
     "data": {
      "text/plain": [
       "'2022-10-08'"
      ]
     },
     "execution_count": 8,
     "metadata": {},
     "output_type": "execute_result"
    }
   ],
   "source": [
    "def get_current_date() -> str:\n",
    "   \"\"\"\n",
    "   Returns the current date (note :currently set as yesterdays date)\n",
    "   \"\"\"\n",
    "   current_date = str(datetime.now().date() - timedelta(days = 1))\n",
    "   return current_date\n",
    "current_date = get_current_date()\n",
    "current_date"
   ]
  },
  {
   "cell_type": "markdown",
   "metadata": {},
   "source": [
    "### Quering database"
   ]
  },
  {
   "cell_type": "markdown",
   "metadata": {},
   "source": [
    "#### Number of rides completed in the past day"
   ]
  },
  {
   "cell_type": "code",
   "execution_count": 34,
   "metadata": {},
   "outputs": [
    {
     "data": {
      "text/plain": [
       "7"
      ]
     },
     "execution_count": 34,
     "metadata": {},
     "output_type": "execute_result"
    }
   ],
   "source": [
    "def get_number_of_rides():\n",
    "    query = f\"\"\"\n",
    "    WITH rides AS (  \n",
    "        SELECT *, CAST(start_time AS DATE) AS start_date\n",
    "        FROM yusra_stories_production.rides\n",
    "        )\n",
    "    SELECT COUNT(*) AS number_of_rides \n",
    "    FROM rides \n",
    "    WHERE start_date = '{current_date}';\n",
    "    \"\"\"\n",
    "    number_of_rides = pd.read_sql_query(query, con)\n",
    "    return number_of_rides._get_value(0,\"number_of_rides\")"
   ]
  },
  {
   "cell_type": "markdown",
   "metadata": {},
   "source": [
    "#### Gender split of riders of the past day"
   ]
  },
  {
   "cell_type": "code",
   "execution_count": 37,
   "metadata": {},
   "outputs": [],
   "source": [
    "def get_rider_gender_split_fig(current_date, con):\n",
    "    query = f\"\"\"\n",
    "    WITH rides AS (  \n",
    "        SELECT *, CAST(start_time AS DATE) AS start_date\n",
    "        FROM yusra_stories_production.rides\n",
    "        ),\n",
    "    riders AS (\n",
    "    SELECT DISTINCT (user_id), name, gender, age\n",
    "    FROM yusra_stories_production.users\n",
    "    JOIN rides\n",
    "    USING (user_id)\n",
    "    WHERE start_date = '{current_date}'\n",
    "    )\n",
    "    SELECT gender, COUNT(*) AS number_of_riders\n",
    "    FROM riders\n",
    "    GROUP BY gender;\n",
    "    \"\"\"\n",
    "    riders_gender_split = pd.read_sql_query(query, con)\n",
    "    riders_gender_split_fig = px.pie(riders_gender_split, values='number_of_riders', names='gender', title=f'Gender split of riders of the past day', color_discrete_sequence=px.colors.sequential.Greens_r)\n",
    "    return riders_gender_split_fig"
   ]
  },
  {
   "cell_type": "markdown",
   "metadata": {},
   "source": [
    "#### Ages of the riders of the past day"
   ]
  },
  {
   "cell_type": "code",
   "execution_count": 38,
   "metadata": {},
   "outputs": [],
   "source": [
    "def get_age_of_riders_fig(current_date, con):\n",
    "    query = f\"\"\"\n",
    "    WITH rides AS (  \n",
    "        SELECT *, CAST(start_time AS DATE) AS start_date\n",
    "        FROM yusra_stories_production.rides\n",
    "        ),\n",
    "    distinct_riders AS (\n",
    "        SELECT DISTINCT (user_id), age\n",
    "        FROM yusra_stories_production.users\n",
    "        JOIN rides\n",
    "        USING (user_id)\n",
    "        WHERE start_date = '{current_date}'\n",
    "        ORDER BY age ASC\n",
    "        )\n",
    "    SELECT age, COUNT(*) AS number_of_riders\n",
    "    FROM distinct_riders\n",
    "    GROUP BY age\n",
    "    ORDER BY age\n",
    "    \"\"\"\n",
    "    ages_of_riders = pd.read_sql_query(query, con)\n",
    "    ages_of_riders_fig = px.pie(ages_of_riders, values='number_of_riders', names='age', title=f'Age of riders', color_discrete_sequence=px.colors.sequential.Greens_r)\n",
    "    return ages_of_riders_fig"
   ]
  },
  {
   "cell_type": "markdown",
   "metadata": {},
   "source": [
    "#### Average power and heart rate of riders of past day"
   ]
  },
  {
   "cell_type": "code",
   "execution_count": 32,
   "metadata": {},
   "outputs": [],
   "source": [
    "def get_average_ride_stats_fig(current_date, con):\n",
    "    query = f\"\"\"\n",
    "    WITH rides AS (  \n",
    "        SELECT *, CAST(start_time AS DATE) AS start_date\n",
    "        FROM yusra_stories_production.rides\n",
    "        )\n",
    "    SELECT user_id, ROUND(AVG(avg_heart_rate_bpm)) AS average_heart_rate_bpm, ROUND(AVG(total_power_kilojoules)) AS average_power_KJ\n",
    "    FROM yusra_stories_production.users\n",
    "    JOIN rides\n",
    "    USING (user_id)\n",
    "    WHERE start_date = '{current_date}'\n",
    "    GROUP BY user_id\n",
    "    \"\"\"\n",
    "    riders_average_power_and_heart_rate = pd.read_sql_query(query, con)\n",
    "    riders_average_power_and_heart_rate_fig = px.bar(riders_average_power_and_heart_rate, x= 'average_power_kj', y='average_heart_rate_bpm', \n",
    "        color_discrete_sequence=px.colors.sequential.Greens_r, \n",
    "        labels=dict(average_power_kj =\"Average power (KJ)\", average_heart_rate_bpm=\"Average heart rate (bpm\"),\n",
    "        title = 'Average power vs Average heart rate for each rider'\n",
    "        )\n",
    "    return riders_average_power_and_heart_rate_fig"
   ]
  },
  {
   "cell_type": "markdown",
   "metadata": {},
   "source": [
    "### Saving fig as image"
   ]
  },
  {
   "cell_type": "markdown",
   "metadata": {},
   "source": [
    "#### Option 2: saving to directory"
   ]
  },
  {
   "cell_type": "code",
   "execution_count": 39,
   "metadata": {},
   "outputs": [],
   "source": [
    "def get_graphs_list(current_date, con):\n",
    "    riders_gender_split_fig = get_rider_gender_split_fig(current_date, con)\n",
    "    ages_of_riders_fig = get_age_of_riders_fig(current_date, con)\n",
    "    riders_average_power_and_heart_rate_fig = get_average_ride_stats_fig(current_date, con)\n",
    "    graphs = [riders_gender_split_fig, ages_of_riders_fig, riders_average_power_and_heart_rate_fig]\n",
    "    return graphs"
   ]
  },
  {
   "cell_type": "code",
   "execution_count": 14,
   "metadata": {},
   "outputs": [],
   "source": [
    "def create_directory_for_images():\n",
    "    if not os.path.exists(\"images\"):\n",
    "        os.mkdir(\"images\")\n",
    "create_directory_for_images()"
   ]
  },
  {
   "cell_type": "code",
   "execution_count": 40,
   "metadata": {},
   "outputs": [],
   "source": [
    "def save_image_as_png(fig, fig_name):\n",
    "    fig.write_image(f\"images/{fig_name}.png\")"
   ]
  },
  {
   "cell_type": "code",
   "execution_count": null,
   "metadata": {},
   "outputs": [],
   "source": []
  },
  {
   "cell_type": "markdown",
   "metadata": {},
   "source": [
    "### Create the HTML Template"
   ]
  },
  {
   "cell_type": "code",
   "execution_count": 16,
   "metadata": {},
   "outputs": [],
   "source": [
    "# def report_block_template(fig_name, caption=''):\n",
    "\n",
    "#     graph_block =  (''\n",
    "            \n",
    "#                 '<img style=\"height: 400px;\" src=\"images/{fig_name}.png\">'\n",
    "#            )\n",
    "\n",
    "#     report_block = ('' +\n",
    "#         graph_block +\n",
    "#         '{caption}' + \n",
    "#         '<br>'      + \n",
    "#         '</a>' +\n",
    "#         '<br>' +\n",
    "#         '<hr>')                       \n",
    "#     report_layout = (\n",
    "#        '<h2>Deloton Exercise Bikes Daily Report</h2>'\n",
    "#        + '<hr>'\n",
    "#        + report_block\n",
    "#     )\n",
    "#     return report_layout.format(fig_name=fig_name, caption=caption)\n",
    "\n",
    "\n",
    "# report = report_block_template('riders_gender_split_fig', caption='Gender split')\n"
   ]
  },
  {
   "cell_type": "code",
   "execution_count": 17,
   "metadata": {},
   "outputs": [],
   "source": [
    "# display(HTML(report))"
   ]
  },
  {
   "cell_type": "markdown",
   "metadata": {},
   "source": [
    "### Convert the HTML to PDF"
   ]
  },
  {
   "cell_type": "code",
   "execution_count": 18,
   "metadata": {},
   "outputs": [],
   "source": [
    "\n",
    "# def convert_html_to_pdf(source_html, output_filename):\n",
    "\n",
    "#     result_file = open(output_filename, \"w+b\")\n",
    "\n",
    "#     pisa_status = pisa.CreatePDF(\n",
    "#             source_html,           \n",
    "#             dest=result_file)           \n",
    "\n",
    "#     result_file.close()           \n",
    "\n",
    "#     return pisa_status.err"
   ]
  },
  {
   "cell_type": "code",
   "execution_count": 19,
   "metadata": {},
   "outputs": [],
   "source": [
    "# convert_html_to_pdf(report, 'report.pdf')"
   ]
  },
  {
   "cell_type": "code",
   "execution_count": 20,
   "metadata": {},
   "outputs": [],
   "source": [
    "# ! open report.pdf"
   ]
  },
  {
   "cell_type": "markdown",
   "metadata": {},
   "source": [
    "### Function calls"
   ]
  },
  {
   "cell_type": "code",
   "execution_count": null,
   "metadata": {},
   "outputs": [],
   "source": [
    "engine = create_engine(f'postgresql://{db_user}:{db_password}@{db_host}:{db_port}/{db_name}')\n",
    "con = engine.connect()\n",
    "current_date = get_current_date()\n",
    "graphs = get_graphs_list(current_date, con)\n",
    "create_directory_for_images()"
   ]
  }
 ],
 "metadata": {
  "kernelspec": {
   "display_name": "Python 3.9.13 64-bit",
   "language": "python",
   "name": "python3"
  },
  "language_info": {
   "codemirror_mode": {
    "name": "ipython",
    "version": 3
   },
   "file_extension": ".py",
   "mimetype": "text/x-python",
   "name": "python",
   "nbconvert_exporter": "python",
   "pygments_lexer": "ipython3",
   "version": "3.9.13"
  },
  "orig_nbformat": 4,
  "vscode": {
   "interpreter": {
    "hash": "b0fa6594d8f4cbf19f97940f81e996739fb7646882a419484c72d19e05852a7e"
   }
  }
 },
 "nbformat": 4,
 "nbformat_minor": 2
}
