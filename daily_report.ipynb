{
 "cells": [
  {
   "cell_type": "code",
   "execution_count": 1,
   "metadata": {},
   "outputs": [
    {
     "name": "stdout",
     "output_type": "stream",
     "text": [
      "\u001b[33mDEPRECATION: Configuring installation scheme with distutils config files is deprecated and will no longer work in the near future. If you are using a Homebrew or Linuxbrew Python, please see discussion at https://github.com/Homebrew/homebrew-core/issues/76621\u001b[0m\u001b[33m\n",
      "\u001b[0mRequirement already satisfied: xhtml2pdf in /opt/homebrew/lib/python3.9/site-packages (0.2.8)\n",
      "Requirement already satisfied: PyPDF3>=1.0.5 in /opt/homebrew/lib/python3.9/site-packages (from xhtml2pdf) (1.0.6)\n",
      "Requirement already satisfied: Pillow>=8.1.1 in /opt/homebrew/lib/python3.9/site-packages (from xhtml2pdf) (9.2.0)\n",
      "Requirement already satisfied: reportlab>=3.5.53 in /opt/homebrew/lib/python3.9/site-packages (from xhtml2pdf) (3.6.11)\n",
      "Requirement already satisfied: svglib>=1.2.1 in /opt/homebrew/lib/python3.9/site-packages (from xhtml2pdf) (1.4.1)\n",
      "Requirement already satisfied: python-bidi>=0.4.2 in /opt/homebrew/lib/python3.9/site-packages (from xhtml2pdf) (0.4.2)\n",
      "Requirement already satisfied: arabic-reshaper>=2.1.0 in /opt/homebrew/lib/python3.9/site-packages (from xhtml2pdf) (2.1.4)\n",
      "Requirement already satisfied: pyhanko-certvalidator>=0.19.5 in /opt/homebrew/lib/python3.9/site-packages (from xhtml2pdf) (0.19.5)\n",
      "Requirement already satisfied: html5lib>=1.0.1 in /opt/homebrew/lib/python3.9/site-packages (from xhtml2pdf) (1.1)\n",
      "Requirement already satisfied: pyHanko>=0.12.1 in /opt/homebrew/lib/python3.9/site-packages (from xhtml2pdf) (0.14.0)\n",
      "Requirement already satisfied: future in /opt/homebrew/lib/python3.9/site-packages (from arabic-reshaper>=2.1.0->xhtml2pdf) (0.18.2)\n",
      "Requirement already satisfied: webencodings in /opt/homebrew/lib/python3.9/site-packages (from html5lib>=1.0.1->xhtml2pdf) (0.5.1)\n",
      "Requirement already satisfied: six>=1.9 in /opt/homebrew/lib/python3.9/site-packages (from html5lib>=1.0.1->xhtml2pdf) (1.16.0)\n",
      "Requirement already satisfied: asn1crypto>=1.5.1 in /opt/homebrew/lib/python3.9/site-packages (from pyHanko>=0.12.1->xhtml2pdf) (1.5.1)\n",
      "Requirement already satisfied: cryptography>=3.3.1 in /opt/homebrew/lib/python3.9/site-packages (from pyHanko>=0.12.1->xhtml2pdf) (36.0.2)\n",
      "Requirement already satisfied: qrcode>=6.1 in /opt/homebrew/lib/python3.9/site-packages (from pyHanko>=0.12.1->xhtml2pdf) (7.3.1)\n",
      "Requirement already satisfied: click>=7.1.2 in /opt/homebrew/lib/python3.9/site-packages (from pyHanko>=0.12.1->xhtml2pdf) (8.1.3)\n",
      "Requirement already satisfied: requests>=2.24.0 in /opt/homebrew/lib/python3.9/site-packages (from pyHanko>=0.12.1->xhtml2pdf) (2.28.1)\n",
      "Requirement already satisfied: tzlocal>=2.1 in /opt/homebrew/lib/python3.9/site-packages (from pyHanko>=0.12.1->xhtml2pdf) (4.2)\n",
      "Requirement already satisfied: pytz>=2020.1 in /opt/homebrew/lib/python3.9/site-packages (from pyHanko>=0.12.1->xhtml2pdf) (2022.2)\n",
      "Requirement already satisfied: pyyaml>=5.3.1 in /opt/homebrew/lib/python3.9/site-packages (from pyHanko>=0.12.1->xhtml2pdf) (6.0)\n",
      "Requirement already satisfied: oscrypto>=1.1.0 in /opt/homebrew/lib/python3.9/site-packages (from pyhanko-certvalidator>=0.19.5->xhtml2pdf) (1.3.0)\n",
      "Requirement already satisfied: uritools>=3.0.1 in /opt/homebrew/lib/python3.9/site-packages (from pyhanko-certvalidator>=0.19.5->xhtml2pdf) (4.0.0)\n",
      "Requirement already satisfied: tqdm in /opt/homebrew/lib/python3.9/site-packages (from PyPDF3>=1.0.5->xhtml2pdf) (4.64.1)\n",
      "Requirement already satisfied: tinycss2>=0.6.0 in /opt/homebrew/lib/python3.9/site-packages (from svglib>=1.2.1->xhtml2pdf) (1.1.1)\n",
      "Requirement already satisfied: cssselect2>=0.2.0 in /opt/homebrew/lib/python3.9/site-packages (from svglib>=1.2.1->xhtml2pdf) (0.7.0)\n",
      "Requirement already satisfied: lxml in /opt/homebrew/lib/python3.9/site-packages (from svglib>=1.2.1->xhtml2pdf) (4.9.1)\n",
      "Requirement already satisfied: cffi>=1.12 in /opt/homebrew/lib/python3.9/site-packages (from cryptography>=3.3.1->pyHanko>=0.12.1->xhtml2pdf) (1.15.1)\n",
      "Requirement already satisfied: certifi>=2017.4.17 in /opt/homebrew/lib/python3.9/site-packages (from requests>=2.24.0->pyHanko>=0.12.1->xhtml2pdf) (2022.6.15)\n",
      "Requirement already satisfied: idna<4,>=2.5 in /opt/homebrew/lib/python3.9/site-packages (from requests>=2.24.0->pyHanko>=0.12.1->xhtml2pdf) (3.3)\n",
      "Requirement already satisfied: urllib3<1.27,>=1.21.1 in /opt/homebrew/lib/python3.9/site-packages (from requests>=2.24.0->pyHanko>=0.12.1->xhtml2pdf) (1.26.10)\n",
      "Requirement already satisfied: charset-normalizer<3,>=2 in /opt/homebrew/lib/python3.9/site-packages (from requests>=2.24.0->pyHanko>=0.12.1->xhtml2pdf) (2.1.0)\n",
      "Requirement already satisfied: pytz-deprecation-shim in /opt/homebrew/lib/python3.9/site-packages (from tzlocal>=2.1->pyHanko>=0.12.1->xhtml2pdf) (0.1.0.post0)\n",
      "Requirement already satisfied: pycparser in /opt/homebrew/lib/python3.9/site-packages (from cffi>=1.12->cryptography>=3.3.1->pyHanko>=0.12.1->xhtml2pdf) (2.21)\n",
      "Requirement already satisfied: tzdata in /opt/homebrew/lib/python3.9/site-packages (from pytz-deprecation-shim->tzlocal>=2.1->pyHanko>=0.12.1->xhtml2pdf) (2022.4)\n",
      "\u001b[33mDEPRECATION: Configuring installation scheme with distutils config files is deprecated and will no longer work in the near future. If you are using a Homebrew or Linuxbrew Python, please see discussion at https://github.com/Homebrew/homebrew-core/issues/76621\u001b[0m\u001b[33m\n",
      "\u001b[0m\n",
      "\u001b[1m[\u001b[0m\u001b[34;49mnotice\u001b[0m\u001b[1;39;49m]\u001b[0m\u001b[39;49m A new release of pip available: \u001b[0m\u001b[31;49m22.1.2\u001b[0m\u001b[39;49m -> \u001b[0m\u001b[32;49m22.2.2\u001b[0m\n",
      "\u001b[1m[\u001b[0m\u001b[34;49mnotice\u001b[0m\u001b[1;39;49m]\u001b[0m\u001b[39;49m To update, run: \u001b[0m\u001b[32;49mpython3.9 -m pip install --upgrade pip\u001b[0m\n",
      "Note: you may need to restart the kernel to use updated packages.\n",
      "\u001b[33mDEPRECATION: Configuring installation scheme with distutils config files is deprecated and will no longer work in the near future. If you are using a Homebrew or Linuxbrew Python, please see discussion at https://github.com/Homebrew/homebrew-core/issues/76621\u001b[0m\u001b[33m\n",
      "\u001b[0mRequirement already satisfied: plotly==5.10.0 in /opt/homebrew/lib/python3.9/site-packages (5.10.0)\n",
      "Requirement already satisfied: tenacity>=6.2.0 in /opt/homebrew/lib/python3.9/site-packages (from plotly==5.10.0) (8.0.1)\n",
      "\u001b[33mDEPRECATION: Configuring installation scheme with distutils config files is deprecated and will no longer work in the near future. If you are using a Homebrew or Linuxbrew Python, please see discussion at https://github.com/Homebrew/homebrew-core/issues/76621\u001b[0m\u001b[33m\n",
      "\u001b[0m\n",
      "\u001b[1m[\u001b[0m\u001b[34;49mnotice\u001b[0m\u001b[1;39;49m]\u001b[0m\u001b[39;49m A new release of pip available: \u001b[0m\u001b[31;49m22.1.2\u001b[0m\u001b[39;49m -> \u001b[0m\u001b[32;49m22.2.2\u001b[0m\n",
      "\u001b[1m[\u001b[0m\u001b[34;49mnotice\u001b[0m\u001b[1;39;49m]\u001b[0m\u001b[39;49m To update, run: \u001b[0m\u001b[32;49mpython3.9 -m pip install --upgrade pip\u001b[0m\n",
      "Note: you may need to restart the kernel to use updated packages.\n"
     ]
    }
   ],
   "source": [
    "%pip install xhtml2pdf\n",
    "%pip install plotly==5.10.0"
   ]
  },
  {
   "cell_type": "code",
   "execution_count": 2,
   "metadata": {},
   "outputs": [],
   "source": [
    "from IPython.display import display, HTML\n",
    "from xhtml2pdf import pisa \n",
    "from dotenv import load_dotenv\n",
    "from sqlalchemy import create_engine\n",
    "from datetime import datetime, timedelta\n",
    "from os import getenv\n",
    "import pandas as pd\n",
    "import plotly.express as px"
   ]
  },
  {
   "cell_type": "code",
   "execution_count": 3,
   "metadata": {},
   "outputs": [
    {
     "data": {
      "text/plain": [
       "True"
      ]
     },
     "execution_count": 3,
     "metadata": {},
     "output_type": "execute_result"
    }
   ],
   "source": [
    "load_dotenv()"
   ]
  },
  {
   "cell_type": "code",
   "execution_count": 4,
   "metadata": {},
   "outputs": [],
   "source": [
    "db_host = getenv('DB_HOST')\n",
    "db_port = getenv('DB_PORT')\n",
    "db_user = getenv('DB_USER')\n",
    "db_password = getenv('DB_PASSWORD')\n",
    "db_name = getenv('DB_NAME')\n",
    "group_user = getenv('GROUP_USER')\n",
    "group_user_pass = getenv('GROUP_USER_PASS')"
   ]
  },
  {
   "cell_type": "code",
   "execution_count": 5,
   "metadata": {},
   "outputs": [],
   "source": [
    "engine = create_engine(f'postgresql://{db_user}:{db_password}@{db_host}:{db_port}/{db_name}')"
   ]
  },
  {
   "cell_type": "code",
   "execution_count": 6,
   "metadata": {},
   "outputs": [],
   "source": [
    "con = engine.connect()"
   ]
  },
  {
   "cell_type": "code",
   "execution_count": 7,
   "metadata": {},
   "outputs": [
    {
     "data": {
      "text/plain": [
       "'2022-10-08'"
      ]
     },
     "execution_count": 7,
     "metadata": {},
     "output_type": "execute_result"
    }
   ],
   "source": [
    "def get_current_date() -> str:\n",
    "   \"\"\"\n",
    "   Returns the current date (note :currently set as yesterdays date)\n",
    "   \"\"\"\n",
    "   current_date = str(datetime.now().date())\n",
    "   return current_date\n",
    "current_date = get_current_date()\n",
    "current_date"
   ]
  },
  {
   "cell_type": "code",
   "execution_count": 8,
   "metadata": {},
   "outputs": [
    {
     "data": {
      "text/html": [
       "<div>\n",
       "<style scoped>\n",
       "    .dataframe tbody tr th:only-of-type {\n",
       "        vertical-align: middle;\n",
       "    }\n",
       "\n",
       "    .dataframe tbody tr th {\n",
       "        vertical-align: top;\n",
       "    }\n",
       "\n",
       "    .dataframe thead th {\n",
       "        text-align: right;\n",
       "    }\n",
       "</style>\n",
       "<table border=\"1\" class=\"dataframe\">\n",
       "  <thead>\n",
       "    <tr style=\"text-align: right;\">\n",
       "      <th></th>\n",
       "      <th>ride_id</th>\n",
       "      <th>user_id</th>\n",
       "      <th>start_time</th>\n",
       "      <th>end_time</th>\n",
       "      <th>total_duration</th>\n",
       "      <th>max_heart_rate_bpm</th>\n",
       "      <th>min_heart_rate_bpm</th>\n",
       "      <th>avg_heart_rate_bpm</th>\n",
       "      <th>avg_resistance</th>\n",
       "      <th>avg_rpm</th>\n",
       "      <th>total_power_kilojoules</th>\n",
       "    </tr>\n",
       "  </thead>\n",
       "  <tbody>\n",
       "    <tr>\n",
       "      <th>0</th>\n",
       "      <td>127</td>\n",
       "      <td>4674</td>\n",
       "      <td>2022-10-08 09:06:31</td>\n",
       "      <td>2022-10-08 09:15:12</td>\n",
       "      <td>0:08:40</td>\n",
       "      <td>170</td>\n",
       "      <td>55</td>\n",
       "      <td>107</td>\n",
       "      <td>38</td>\n",
       "      <td>50</td>\n",
       "      <td>13.72</td>\n",
       "    </tr>\n",
       "    <tr>\n",
       "      <th>1</th>\n",
       "      <td>127</td>\n",
       "      <td>4674</td>\n",
       "      <td>2022-10-08 09:06:31</td>\n",
       "      <td>2022-10-08 09:15:12</td>\n",
       "      <td>0:08:40</td>\n",
       "      <td>170</td>\n",
       "      <td>55</td>\n",
       "      <td>107</td>\n",
       "      <td>38</td>\n",
       "      <td>50</td>\n",
       "      <td>13.72</td>\n",
       "    </tr>\n",
       "    <tr>\n",
       "      <th>2</th>\n",
       "      <td>127</td>\n",
       "      <td>4674</td>\n",
       "      <td>2022-10-08 09:06:31</td>\n",
       "      <td>2022-10-08 09:15:12</td>\n",
       "      <td>0:08:40</td>\n",
       "      <td>170</td>\n",
       "      <td>55</td>\n",
       "      <td>107</td>\n",
       "      <td>38</td>\n",
       "      <td>50</td>\n",
       "      <td>13.72</td>\n",
       "    </tr>\n",
       "    <tr>\n",
       "      <th>3</th>\n",
       "      <td>127</td>\n",
       "      <td>4674</td>\n",
       "      <td>2022-10-08 09:06:31</td>\n",
       "      <td>2022-10-08 09:15:12</td>\n",
       "      <td>0:08:40</td>\n",
       "      <td>170</td>\n",
       "      <td>55</td>\n",
       "      <td>107</td>\n",
       "      <td>38</td>\n",
       "      <td>50</td>\n",
       "      <td>13.72</td>\n",
       "    </tr>\n",
       "    <tr>\n",
       "      <th>4</th>\n",
       "      <td>127</td>\n",
       "      <td>4674</td>\n",
       "      <td>2022-10-08 09:06:31</td>\n",
       "      <td>2022-10-08 09:15:12</td>\n",
       "      <td>0:08:40</td>\n",
       "      <td>170</td>\n",
       "      <td>55</td>\n",
       "      <td>107</td>\n",
       "      <td>38</td>\n",
       "      <td>50</td>\n",
       "      <td>13.72</td>\n",
       "    </tr>\n",
       "    <tr>\n",
       "      <th>5</th>\n",
       "      <td>127</td>\n",
       "      <td>4674</td>\n",
       "      <td>2022-10-08 09:06:31</td>\n",
       "      <td>2022-10-08 09:15:12</td>\n",
       "      <td>0:08:40</td>\n",
       "      <td>170</td>\n",
       "      <td>55</td>\n",
       "      <td>107</td>\n",
       "      <td>38</td>\n",
       "      <td>50</td>\n",
       "      <td>13.72</td>\n",
       "    </tr>\n",
       "    <tr>\n",
       "      <th>6</th>\n",
       "      <td>127</td>\n",
       "      <td>4674</td>\n",
       "      <td>2022-10-08 09:06:31</td>\n",
       "      <td>2022-10-08 09:15:12</td>\n",
       "      <td>0:08:40</td>\n",
       "      <td>170</td>\n",
       "      <td>55</td>\n",
       "      <td>107</td>\n",
       "      <td>38</td>\n",
       "      <td>50</td>\n",
       "      <td>13.72</td>\n",
       "    </tr>\n",
       "    <tr>\n",
       "      <th>7</th>\n",
       "      <td>127</td>\n",
       "      <td>4674</td>\n",
       "      <td>2022-10-08 09:06:31</td>\n",
       "      <td>2022-10-08 09:15:12</td>\n",
       "      <td>0:08:40</td>\n",
       "      <td>170</td>\n",
       "      <td>55</td>\n",
       "      <td>107</td>\n",
       "      <td>38</td>\n",
       "      <td>50</td>\n",
       "      <td>13.72</td>\n",
       "    </tr>\n",
       "    <tr>\n",
       "      <th>8</th>\n",
       "      <td>127</td>\n",
       "      <td>4674</td>\n",
       "      <td>2022-10-08 09:06:31</td>\n",
       "      <td>2022-10-08 09:15:12</td>\n",
       "      <td>0:08:40</td>\n",
       "      <td>170</td>\n",
       "      <td>55</td>\n",
       "      <td>107</td>\n",
       "      <td>38</td>\n",
       "      <td>50</td>\n",
       "      <td>13.72</td>\n",
       "    </tr>\n",
       "    <tr>\n",
       "      <th>9</th>\n",
       "      <td>127</td>\n",
       "      <td>4674</td>\n",
       "      <td>2022-10-08 09:06:31</td>\n",
       "      <td>2022-10-08 09:15:12</td>\n",
       "      <td>0:08:40</td>\n",
       "      <td>170</td>\n",
       "      <td>55</td>\n",
       "      <td>107</td>\n",
       "      <td>38</td>\n",
       "      <td>50</td>\n",
       "      <td>13.72</td>\n",
       "    </tr>\n",
       "    <tr>\n",
       "      <th>10</th>\n",
       "      <td>127</td>\n",
       "      <td>4674</td>\n",
       "      <td>2022-10-08 09:06:31</td>\n",
       "      <td>2022-10-08 09:15:12</td>\n",
       "      <td>0:08:40</td>\n",
       "      <td>170</td>\n",
       "      <td>55</td>\n",
       "      <td>107</td>\n",
       "      <td>38</td>\n",
       "      <td>50</td>\n",
       "      <td>13.72</td>\n",
       "    </tr>\n",
       "  </tbody>\n",
       "</table>\n",
       "</div>"
      ],
      "text/plain": [
       "    ride_id  user_id          start_time            end_time total_duration  \\\n",
       "0       127     4674 2022-10-08 09:06:31 2022-10-08 09:15:12        0:08:40   \n",
       "1       127     4674 2022-10-08 09:06:31 2022-10-08 09:15:12        0:08:40   \n",
       "2       127     4674 2022-10-08 09:06:31 2022-10-08 09:15:12        0:08:40   \n",
       "3       127     4674 2022-10-08 09:06:31 2022-10-08 09:15:12        0:08:40   \n",
       "4       127     4674 2022-10-08 09:06:31 2022-10-08 09:15:12        0:08:40   \n",
       "5       127     4674 2022-10-08 09:06:31 2022-10-08 09:15:12        0:08:40   \n",
       "6       127     4674 2022-10-08 09:06:31 2022-10-08 09:15:12        0:08:40   \n",
       "7       127     4674 2022-10-08 09:06:31 2022-10-08 09:15:12        0:08:40   \n",
       "8       127     4674 2022-10-08 09:06:31 2022-10-08 09:15:12        0:08:40   \n",
       "9       127     4674 2022-10-08 09:06:31 2022-10-08 09:15:12        0:08:40   \n",
       "10      127     4674 2022-10-08 09:06:31 2022-10-08 09:15:12        0:08:40   \n",
       "\n",
       "    max_heart_rate_bpm  min_heart_rate_bpm  avg_heart_rate_bpm  \\\n",
       "0                  170                  55                 107   \n",
       "1                  170                  55                 107   \n",
       "2                  170                  55                 107   \n",
       "3                  170                  55                 107   \n",
       "4                  170                  55                 107   \n",
       "5                  170                  55                 107   \n",
       "6                  170                  55                 107   \n",
       "7                  170                  55                 107   \n",
       "8                  170                  55                 107   \n",
       "9                  170                  55                 107   \n",
       "10                 170                  55                 107   \n",
       "\n",
       "    avg_resistance  avg_rpm  total_power_kilojoules  \n",
       "0               38       50                   13.72  \n",
       "1               38       50                   13.72  \n",
       "2               38       50                   13.72  \n",
       "3               38       50                   13.72  \n",
       "4               38       50                   13.72  \n",
       "5               38       50                   13.72  \n",
       "6               38       50                   13.72  \n",
       "7               38       50                   13.72  \n",
       "8               38       50                   13.72  \n",
       "9               38       50                   13.72  \n",
       "10              38       50                   13.72  "
      ]
     },
     "execution_count": 8,
     "metadata": {},
     "output_type": "execute_result"
    }
   ],
   "source": [
    "query = \"\"\"\n",
    "SELECT * FROM yusra_stories_production.rides\n",
    "\"\"\"\n",
    "pd.read_sql_query(query, con)"
   ]
  },
  {
   "cell_type": "markdown",
   "metadata": {},
   "source": [
    "### Quering database"
   ]
  },
  {
   "cell_type": "markdown",
   "metadata": {},
   "source": [
    "#### Number of rides completed in the past day"
   ]
  },
  {
   "cell_type": "code",
   "execution_count": 9,
   "metadata": {},
   "outputs": [
    {
     "data": {
      "text/html": [
       "<div>\n",
       "<style scoped>\n",
       "    .dataframe tbody tr th:only-of-type {\n",
       "        vertical-align: middle;\n",
       "    }\n",
       "\n",
       "    .dataframe tbody tr th {\n",
       "        vertical-align: top;\n",
       "    }\n",
       "\n",
       "    .dataframe thead th {\n",
       "        text-align: right;\n",
       "    }\n",
       "</style>\n",
       "<table border=\"1\" class=\"dataframe\">\n",
       "  <thead>\n",
       "    <tr style=\"text-align: right;\">\n",
       "      <th></th>\n",
       "      <th>number_of_rides</th>\n",
       "    </tr>\n",
       "  </thead>\n",
       "  <tbody>\n",
       "    <tr>\n",
       "      <th>0</th>\n",
       "      <td>11</td>\n",
       "    </tr>\n",
       "  </tbody>\n",
       "</table>\n",
       "</div>"
      ],
      "text/plain": [
       "   number_of_rides\n",
       "0               11"
      ]
     },
     "execution_count": 9,
     "metadata": {},
     "output_type": "execute_result"
    }
   ],
   "source": [
    "query = f\"\"\"\n",
    "WITH rides AS (  \n",
    "    SELECT *, CAST(start_time AS DATE) AS start_date\n",
    "    FROM yusra_stories_production.rides\n",
    "    )\n",
    "SELECT COUNT(*) AS number_of_rides \n",
    "FROM rides \n",
    "WHERE start_date = '{current_date}';\n",
    "\"\"\"\n",
    "number_of_rides = pd.read_sql_query(query, con)\n",
    "number_of_rides"
   ]
  },
  {
   "cell_type": "markdown",
   "metadata": {},
   "source": [
    "#### Gender split of riders of the past day"
   ]
  },
  {
   "cell_type": "code",
   "execution_count": 10,
   "metadata": {},
   "outputs": [
    {
     "data": {
      "application/vnd.plotly.v1+json": {
       "config": {
        "plotlyServerURL": "https://plot.ly"
       },
       "data": [
        {
         "domain": {
          "x": [
           0,
           1
          ],
          "y": [
           0,
           1
          ]
         },
         "hovertemplate": "gender=%{label}<br>number_of_riders=%{value}<extra></extra>",
         "labels": [
          "male"
         ],
         "legendgroup": "",
         "name": "",
         "showlegend": true,
         "type": "pie",
         "values": [
          1
         ]
        }
       ],
       "layout": {
        "legend": {
         "tracegroupgap": 0
        },
        "piecolorway": [
         "rgb(0,68,27)",
         "rgb(0,109,44)",
         "rgb(35,139,69)",
         "rgb(65,171,93)",
         "rgb(116,196,118)",
         "rgb(161,217,155)",
         "rgb(199,233,192)",
         "rgb(229,245,224)",
         "rgb(247,252,245)"
        ],
        "template": {
         "data": {
          "bar": [
           {
            "error_x": {
             "color": "#2a3f5f"
            },
            "error_y": {
             "color": "#2a3f5f"
            },
            "marker": {
             "line": {
              "color": "#E5ECF6",
              "width": 0.5
             },
             "pattern": {
              "fillmode": "overlay",
              "size": 10,
              "solidity": 0.2
             }
            },
            "type": "bar"
           }
          ],
          "barpolar": [
           {
            "marker": {
             "line": {
              "color": "#E5ECF6",
              "width": 0.5
             },
             "pattern": {
              "fillmode": "overlay",
              "size": 10,
              "solidity": 0.2
             }
            },
            "type": "barpolar"
           }
          ],
          "carpet": [
           {
            "aaxis": {
             "endlinecolor": "#2a3f5f",
             "gridcolor": "white",
             "linecolor": "white",
             "minorgridcolor": "white",
             "startlinecolor": "#2a3f5f"
            },
            "baxis": {
             "endlinecolor": "#2a3f5f",
             "gridcolor": "white",
             "linecolor": "white",
             "minorgridcolor": "white",
             "startlinecolor": "#2a3f5f"
            },
            "type": "carpet"
           }
          ],
          "choropleth": [
           {
            "colorbar": {
             "outlinewidth": 0,
             "ticks": ""
            },
            "type": "choropleth"
           }
          ],
          "contour": [
           {
            "colorbar": {
             "outlinewidth": 0,
             "ticks": ""
            },
            "colorscale": [
             [
              0,
              "#0d0887"
             ],
             [
              0.1111111111111111,
              "#46039f"
             ],
             [
              0.2222222222222222,
              "#7201a8"
             ],
             [
              0.3333333333333333,
              "#9c179e"
             ],
             [
              0.4444444444444444,
              "#bd3786"
             ],
             [
              0.5555555555555556,
              "#d8576b"
             ],
             [
              0.6666666666666666,
              "#ed7953"
             ],
             [
              0.7777777777777778,
              "#fb9f3a"
             ],
             [
              0.8888888888888888,
              "#fdca26"
             ],
             [
              1,
              "#f0f921"
             ]
            ],
            "type": "contour"
           }
          ],
          "contourcarpet": [
           {
            "colorbar": {
             "outlinewidth": 0,
             "ticks": ""
            },
            "type": "contourcarpet"
           }
          ],
          "heatmap": [
           {
            "colorbar": {
             "outlinewidth": 0,
             "ticks": ""
            },
            "colorscale": [
             [
              0,
              "#0d0887"
             ],
             [
              0.1111111111111111,
              "#46039f"
             ],
             [
              0.2222222222222222,
              "#7201a8"
             ],
             [
              0.3333333333333333,
              "#9c179e"
             ],
             [
              0.4444444444444444,
              "#bd3786"
             ],
             [
              0.5555555555555556,
              "#d8576b"
             ],
             [
              0.6666666666666666,
              "#ed7953"
             ],
             [
              0.7777777777777778,
              "#fb9f3a"
             ],
             [
              0.8888888888888888,
              "#fdca26"
             ],
             [
              1,
              "#f0f921"
             ]
            ],
            "type": "heatmap"
           }
          ],
          "heatmapgl": [
           {
            "colorbar": {
             "outlinewidth": 0,
             "ticks": ""
            },
            "colorscale": [
             [
              0,
              "#0d0887"
             ],
             [
              0.1111111111111111,
              "#46039f"
             ],
             [
              0.2222222222222222,
              "#7201a8"
             ],
             [
              0.3333333333333333,
              "#9c179e"
             ],
             [
              0.4444444444444444,
              "#bd3786"
             ],
             [
              0.5555555555555556,
              "#d8576b"
             ],
             [
              0.6666666666666666,
              "#ed7953"
             ],
             [
              0.7777777777777778,
              "#fb9f3a"
             ],
             [
              0.8888888888888888,
              "#fdca26"
             ],
             [
              1,
              "#f0f921"
             ]
            ],
            "type": "heatmapgl"
           }
          ],
          "histogram": [
           {
            "marker": {
             "pattern": {
              "fillmode": "overlay",
              "size": 10,
              "solidity": 0.2
             }
            },
            "type": "histogram"
           }
          ],
          "histogram2d": [
           {
            "colorbar": {
             "outlinewidth": 0,
             "ticks": ""
            },
            "colorscale": [
             [
              0,
              "#0d0887"
             ],
             [
              0.1111111111111111,
              "#46039f"
             ],
             [
              0.2222222222222222,
              "#7201a8"
             ],
             [
              0.3333333333333333,
              "#9c179e"
             ],
             [
              0.4444444444444444,
              "#bd3786"
             ],
             [
              0.5555555555555556,
              "#d8576b"
             ],
             [
              0.6666666666666666,
              "#ed7953"
             ],
             [
              0.7777777777777778,
              "#fb9f3a"
             ],
             [
              0.8888888888888888,
              "#fdca26"
             ],
             [
              1,
              "#f0f921"
             ]
            ],
            "type": "histogram2d"
           }
          ],
          "histogram2dcontour": [
           {
            "colorbar": {
             "outlinewidth": 0,
             "ticks": ""
            },
            "colorscale": [
             [
              0,
              "#0d0887"
             ],
             [
              0.1111111111111111,
              "#46039f"
             ],
             [
              0.2222222222222222,
              "#7201a8"
             ],
             [
              0.3333333333333333,
              "#9c179e"
             ],
             [
              0.4444444444444444,
              "#bd3786"
             ],
             [
              0.5555555555555556,
              "#d8576b"
             ],
             [
              0.6666666666666666,
              "#ed7953"
             ],
             [
              0.7777777777777778,
              "#fb9f3a"
             ],
             [
              0.8888888888888888,
              "#fdca26"
             ],
             [
              1,
              "#f0f921"
             ]
            ],
            "type": "histogram2dcontour"
           }
          ],
          "mesh3d": [
           {
            "colorbar": {
             "outlinewidth": 0,
             "ticks": ""
            },
            "type": "mesh3d"
           }
          ],
          "parcoords": [
           {
            "line": {
             "colorbar": {
              "outlinewidth": 0,
              "ticks": ""
             }
            },
            "type": "parcoords"
           }
          ],
          "pie": [
           {
            "automargin": true,
            "type": "pie"
           }
          ],
          "scatter": [
           {
            "fillpattern": {
             "fillmode": "overlay",
             "size": 10,
             "solidity": 0.2
            },
            "type": "scatter"
           }
          ],
          "scatter3d": [
           {
            "line": {
             "colorbar": {
              "outlinewidth": 0,
              "ticks": ""
             }
            },
            "marker": {
             "colorbar": {
              "outlinewidth": 0,
              "ticks": ""
             }
            },
            "type": "scatter3d"
           }
          ],
          "scattercarpet": [
           {
            "marker": {
             "colorbar": {
              "outlinewidth": 0,
              "ticks": ""
             }
            },
            "type": "scattercarpet"
           }
          ],
          "scattergeo": [
           {
            "marker": {
             "colorbar": {
              "outlinewidth": 0,
              "ticks": ""
             }
            },
            "type": "scattergeo"
           }
          ],
          "scattergl": [
           {
            "marker": {
             "colorbar": {
              "outlinewidth": 0,
              "ticks": ""
             }
            },
            "type": "scattergl"
           }
          ],
          "scattermapbox": [
           {
            "marker": {
             "colorbar": {
              "outlinewidth": 0,
              "ticks": ""
             }
            },
            "type": "scattermapbox"
           }
          ],
          "scatterpolar": [
           {
            "marker": {
             "colorbar": {
              "outlinewidth": 0,
              "ticks": ""
             }
            },
            "type": "scatterpolar"
           }
          ],
          "scatterpolargl": [
           {
            "marker": {
             "colorbar": {
              "outlinewidth": 0,
              "ticks": ""
             }
            },
            "type": "scatterpolargl"
           }
          ],
          "scatterternary": [
           {
            "marker": {
             "colorbar": {
              "outlinewidth": 0,
              "ticks": ""
             }
            },
            "type": "scatterternary"
           }
          ],
          "surface": [
           {
            "colorbar": {
             "outlinewidth": 0,
             "ticks": ""
            },
            "colorscale": [
             [
              0,
              "#0d0887"
             ],
             [
              0.1111111111111111,
              "#46039f"
             ],
             [
              0.2222222222222222,
              "#7201a8"
             ],
             [
              0.3333333333333333,
              "#9c179e"
             ],
             [
              0.4444444444444444,
              "#bd3786"
             ],
             [
              0.5555555555555556,
              "#d8576b"
             ],
             [
              0.6666666666666666,
              "#ed7953"
             ],
             [
              0.7777777777777778,
              "#fb9f3a"
             ],
             [
              0.8888888888888888,
              "#fdca26"
             ],
             [
              1,
              "#f0f921"
             ]
            ],
            "type": "surface"
           }
          ],
          "table": [
           {
            "cells": {
             "fill": {
              "color": "#EBF0F8"
             },
             "line": {
              "color": "white"
             }
            },
            "header": {
             "fill": {
              "color": "#C8D4E3"
             },
             "line": {
              "color": "white"
             }
            },
            "type": "table"
           }
          ]
         },
         "layout": {
          "annotationdefaults": {
           "arrowcolor": "#2a3f5f",
           "arrowhead": 0,
           "arrowwidth": 1
          },
          "autotypenumbers": "strict",
          "coloraxis": {
           "colorbar": {
            "outlinewidth": 0,
            "ticks": ""
           }
          },
          "colorscale": {
           "diverging": [
            [
             0,
             "#8e0152"
            ],
            [
             0.1,
             "#c51b7d"
            ],
            [
             0.2,
             "#de77ae"
            ],
            [
             0.3,
             "#f1b6da"
            ],
            [
             0.4,
             "#fde0ef"
            ],
            [
             0.5,
             "#f7f7f7"
            ],
            [
             0.6,
             "#e6f5d0"
            ],
            [
             0.7,
             "#b8e186"
            ],
            [
             0.8,
             "#7fbc41"
            ],
            [
             0.9,
             "#4d9221"
            ],
            [
             1,
             "#276419"
            ]
           ],
           "sequential": [
            [
             0,
             "#0d0887"
            ],
            [
             0.1111111111111111,
             "#46039f"
            ],
            [
             0.2222222222222222,
             "#7201a8"
            ],
            [
             0.3333333333333333,
             "#9c179e"
            ],
            [
             0.4444444444444444,
             "#bd3786"
            ],
            [
             0.5555555555555556,
             "#d8576b"
            ],
            [
             0.6666666666666666,
             "#ed7953"
            ],
            [
             0.7777777777777778,
             "#fb9f3a"
            ],
            [
             0.8888888888888888,
             "#fdca26"
            ],
            [
             1,
             "#f0f921"
            ]
           ],
           "sequentialminus": [
            [
             0,
             "#0d0887"
            ],
            [
             0.1111111111111111,
             "#46039f"
            ],
            [
             0.2222222222222222,
             "#7201a8"
            ],
            [
             0.3333333333333333,
             "#9c179e"
            ],
            [
             0.4444444444444444,
             "#bd3786"
            ],
            [
             0.5555555555555556,
             "#d8576b"
            ],
            [
             0.6666666666666666,
             "#ed7953"
            ],
            [
             0.7777777777777778,
             "#fb9f3a"
            ],
            [
             0.8888888888888888,
             "#fdca26"
            ],
            [
             1,
             "#f0f921"
            ]
           ]
          },
          "colorway": [
           "#636efa",
           "#EF553B",
           "#00cc96",
           "#ab63fa",
           "#FFA15A",
           "#19d3f3",
           "#FF6692",
           "#B6E880",
           "#FF97FF",
           "#FECB52"
          ],
          "font": {
           "color": "#2a3f5f"
          },
          "geo": {
           "bgcolor": "white",
           "lakecolor": "white",
           "landcolor": "#E5ECF6",
           "showlakes": true,
           "showland": true,
           "subunitcolor": "white"
          },
          "hoverlabel": {
           "align": "left"
          },
          "hovermode": "closest",
          "mapbox": {
           "style": "light"
          },
          "paper_bgcolor": "white",
          "plot_bgcolor": "#E5ECF6",
          "polar": {
           "angularaxis": {
            "gridcolor": "white",
            "linecolor": "white",
            "ticks": ""
           },
           "bgcolor": "#E5ECF6",
           "radialaxis": {
            "gridcolor": "white",
            "linecolor": "white",
            "ticks": ""
           }
          },
          "scene": {
           "xaxis": {
            "backgroundcolor": "#E5ECF6",
            "gridcolor": "white",
            "gridwidth": 2,
            "linecolor": "white",
            "showbackground": true,
            "ticks": "",
            "zerolinecolor": "white"
           },
           "yaxis": {
            "backgroundcolor": "#E5ECF6",
            "gridcolor": "white",
            "gridwidth": 2,
            "linecolor": "white",
            "showbackground": true,
            "ticks": "",
            "zerolinecolor": "white"
           },
           "zaxis": {
            "backgroundcolor": "#E5ECF6",
            "gridcolor": "white",
            "gridwidth": 2,
            "linecolor": "white",
            "showbackground": true,
            "ticks": "",
            "zerolinecolor": "white"
           }
          },
          "shapedefaults": {
           "line": {
            "color": "#2a3f5f"
           }
          },
          "ternary": {
           "aaxis": {
            "gridcolor": "white",
            "linecolor": "white",
            "ticks": ""
           },
           "baxis": {
            "gridcolor": "white",
            "linecolor": "white",
            "ticks": ""
           },
           "bgcolor": "#E5ECF6",
           "caxis": {
            "gridcolor": "white",
            "linecolor": "white",
            "ticks": ""
           }
          },
          "title": {
           "x": 0.05
          },
          "xaxis": {
           "automargin": true,
           "gridcolor": "white",
           "linecolor": "white",
           "ticks": "",
           "title": {
            "standoff": 15
           },
           "zerolinecolor": "white",
           "zerolinewidth": 2
          },
          "yaxis": {
           "automargin": true,
           "gridcolor": "white",
           "linecolor": "white",
           "ticks": "",
           "title": {
            "standoff": 15
           },
           "zerolinecolor": "white",
           "zerolinewidth": 2
          }
         }
        },
        "title": {
         "text": "Gender split of riders of the past day"
        }
       }
      }
     },
     "metadata": {},
     "output_type": "display_data"
    }
   ],
   "source": [
    "query = f\"\"\"\n",
    "WITH rides AS (  \n",
    "    SELECT *, CAST(start_time AS DATE) AS start_date\n",
    "    FROM yusra_stories_production.rides\n",
    "    ),\n",
    "riders AS (\n",
    "SELECT DISTINCT (user_id), name, gender, age\n",
    "FROM yusra_stories_production.users\n",
    "JOIN rides\n",
    "USING (user_id)\n",
    "WHERE start_date = '{current_date}'\n",
    ")\n",
    "SELECT gender, COUNT(*) AS number_of_riders\n",
    "FROM riders\n",
    "GROUP BY gender;\n",
    "\"\"\"\n",
    "riders_gender_split = pd.read_sql_query(query, con)\n",
    "riders_gender_split\n",
    "px.pie(riders_gender_split, values='number_of_riders', names='gender', title=f'Gender split of riders of the past day', color_discrete_sequence=px.colors.sequential.Greens_r)"
   ]
  },
  {
   "cell_type": "markdown",
   "metadata": {},
   "source": [
    "#### Ages of the riders of the past day"
   ]
  },
  {
   "cell_type": "code",
   "execution_count": 11,
   "metadata": {},
   "outputs": [
    {
     "data": {
      "text/html": [
       "<div>\n",
       "<style scoped>\n",
       "    .dataframe tbody tr th:only-of-type {\n",
       "        vertical-align: middle;\n",
       "    }\n",
       "\n",
       "    .dataframe tbody tr th {\n",
       "        vertical-align: top;\n",
       "    }\n",
       "\n",
       "    .dataframe thead th {\n",
       "        text-align: right;\n",
       "    }\n",
       "</style>\n",
       "<table border=\"1\" class=\"dataframe\">\n",
       "  <thead>\n",
       "    <tr style=\"text-align: right;\">\n",
       "      <th></th>\n",
       "      <th>user_id</th>\n",
       "      <th>name</th>\n",
       "      <th>gender</th>\n",
       "      <th>age</th>\n",
       "    </tr>\n",
       "  </thead>\n",
       "  <tbody>\n",
       "    <tr>\n",
       "      <th>0</th>\n",
       "      <td>4674</td>\n",
       "      <td>Frank Sutton</td>\n",
       "      <td>male</td>\n",
       "      <td>45.0</td>\n",
       "    </tr>\n",
       "  </tbody>\n",
       "</table>\n",
       "</div>"
      ],
      "text/plain": [
       "   user_id          name gender   age\n",
       "0     4674  Frank Sutton   male  45.0"
      ]
     },
     "execution_count": 11,
     "metadata": {},
     "output_type": "execute_result"
    }
   ],
   "source": [
    "query = f\"\"\"\n",
    "WITH rides AS (  \n",
    "    SELECT *, CAST(start_time AS DATE) AS start_date\n",
    "    FROM yusra_stories_production.rides\n",
    "    )\n",
    "SELECT DISTINCT (user_id), name, gender, age\n",
    "FROM yusra_stories_production.users\n",
    "JOIN rides\n",
    "USING (user_id)\n",
    "WHERE start_date = '{current_date}'\n",
    "\"\"\"\n",
    "ages_of_riders = pd.read_sql_query(query, con)\n",
    "ages_of_riders"
   ]
  },
  {
   "cell_type": "markdown",
   "metadata": {},
   "source": [
    "#### Average power and heart rate of riders of past day"
   ]
  },
  {
   "cell_type": "code",
   "execution_count": 12,
   "metadata": {},
   "outputs": [
    {
     "data": {
      "text/html": [
       "<div>\n",
       "<style scoped>\n",
       "    .dataframe tbody tr th:only-of-type {\n",
       "        vertical-align: middle;\n",
       "    }\n",
       "\n",
       "    .dataframe tbody tr th {\n",
       "        vertical-align: top;\n",
       "    }\n",
       "\n",
       "    .dataframe thead th {\n",
       "        text-align: right;\n",
       "    }\n",
       "</style>\n",
       "<table border=\"1\" class=\"dataframe\">\n",
       "  <thead>\n",
       "    <tr style=\"text-align: right;\">\n",
       "      <th></th>\n",
       "      <th>user_id</th>\n",
       "      <th>average_heart_rate</th>\n",
       "      <th>average_power</th>\n",
       "    </tr>\n",
       "  </thead>\n",
       "  <tbody>\n",
       "    <tr>\n",
       "      <th>0</th>\n",
       "      <td>4674</td>\n",
       "      <td>107.0</td>\n",
       "      <td>13.72</td>\n",
       "    </tr>\n",
       "  </tbody>\n",
       "</table>\n",
       "</div>"
      ],
      "text/plain": [
       "   user_id  average_heart_rate  average_power\n",
       "0     4674               107.0          13.72"
      ]
     },
     "execution_count": 12,
     "metadata": {},
     "output_type": "execute_result"
    }
   ],
   "source": [
    "query = f\"\"\"\n",
    "WITH rides AS (  \n",
    "    SELECT *, CAST(start_time AS DATE) AS start_date\n",
    "    FROM yusra_stories_production.rides\n",
    "    )\n",
    "SELECT user_id, AVG(avg_heart_rate_bpm) AS average_heart_rate, AVG(total_power_kilojoules) AS average_power\n",
    "FROM yusra_stories_production.users\n",
    "JOIN rides\n",
    "USING (user_id)\n",
    "WHERE start_date = '{current_date}'\n",
    "GROUP BY user_id\n",
    "\"\"\"\n",
    "riders_average_power_and_heart_rate = pd.read_sql_query(query, con)\n",
    "riders_average_power_and_heart_rate"
   ]
  },
  {
   "cell_type": "markdown",
   "metadata": {},
   "source": [
    "### Create the HTML Template"
   ]
  },
  {
   "cell_type": "code",
   "execution_count": 13,
   "metadata": {},
   "outputs": [],
   "source": [
    "def report_block_template( graph_relative_path, caption=''):\n",
    "\n",
    "    graph_block = (''\n",
    "            '<a href=\"{graph_relative_path}\" target=\"_blank\">' # Open the interactive graph when you click on the image\n",
    "                '<img style=\"height: 400px;\" img src=\"{graph_relative_path}\">'\n",
    "            '</a>')\n",
    "\n",
    "    report_block = ('' +\n",
    "        graph_block +\n",
    "        '{caption}' + \n",
    "        '<br>'      + \n",
    "        '</a>' +\n",
    "        '<br>' +\n",
    "        '<hr>')                       \n",
    "    report_layout = (\n",
    "       '<h2>Deloton Exercise Bikes Daily Report</h2>'\n",
    "       + '<hr>'\n",
    "       + report_block\n",
    "    )\n",
    "    return report_layout.format(graph_relative_path=graph_relative_path, caption=caption)\n",
    "\n",
    "\n",
    "graph_relative_path = 'age_distr.png'\n",
    "\n",
    "report = report_block_template(graph_relative_path, caption='Dis a graph')\n"
   ]
  },
  {
   "cell_type": "code",
   "execution_count": 14,
   "metadata": {},
   "outputs": [
    {
     "data": {
      "text/html": [
       "<h2>Deloton Exercise Bikes Daily Report</h2><hr><a href=\"age_distr.png\" target=\"_blank\"><img style=\"height: 400px;\" img src=\"age_distr.png\"></a>Dis a graph<br></a><br><hr>"
      ],
      "text/plain": [
       "<IPython.core.display.HTML object>"
      ]
     },
     "metadata": {},
     "output_type": "display_data"
    }
   ],
   "source": [
    "display(HTML(report))"
   ]
  },
  {
   "cell_type": "markdown",
   "metadata": {},
   "source": [
    "### Convert the HTML to PDF"
   ]
  },
  {
   "cell_type": "code",
   "execution_count": 15,
   "metadata": {},
   "outputs": [],
   "source": [
    "\n",
    "def convert_html_to_pdf(source_html, output_filename):\n",
    "\n",
    "    result_file = open(output_filename, \"w+b\")\n",
    "\n",
    "    pisa_status = pisa.CreatePDF(\n",
    "            source_html,           \n",
    "            dest=result_file)           \n",
    "\n",
    "    result_file.close()           \n",
    "\n",
    "    return pisa_status.err"
   ]
  },
  {
   "cell_type": "code",
   "execution_count": 16,
   "metadata": {},
   "outputs": [
    {
     "data": {
      "text/plain": [
       "0"
      ]
     },
     "execution_count": 16,
     "metadata": {},
     "output_type": "execute_result"
    }
   ],
   "source": [
    "convert_html_to_pdf(report, 'report.pdf')"
   ]
  },
  {
   "cell_type": "code",
   "execution_count": 17,
   "metadata": {},
   "outputs": [],
   "source": [
    "! open report.pdf"
   ]
  }
 ],
 "metadata": {
  "kernelspec": {
   "display_name": "Python 3.9.13 64-bit",
   "language": "python",
   "name": "python3"
  },
  "language_info": {
   "codemirror_mode": {
    "name": "ipython",
    "version": 3
   },
   "file_extension": ".py",
   "mimetype": "text/x-python",
   "name": "python",
   "nbconvert_exporter": "python",
   "pygments_lexer": "ipython3",
   "version": "3.9.13"
  },
  "orig_nbformat": 4,
  "vscode": {
   "interpreter": {
    "hash": "b0fa6594d8f4cbf19f97940f81e996739fb7646882a419484c72d19e05852a7e"
   }
  }
 },
 "nbformat": 4,
 "nbformat_minor": 2
}
