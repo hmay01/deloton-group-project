{
 "cells": [
  {
   "cell_type": "markdown",
   "metadata": {},
   "source": [
    "Installs"
   ]
  },
  {
   "cell_type": "code",
   "execution_count": null,
   "metadata": {},
   "outputs": [],
   "source": [
    "!pip3 install confluent-kafka"
   ]
  },
  {
   "cell_type": "markdown",
   "metadata": {},
   "source": [
    "Imports"
   ]
  },
  {
   "cell_type": "code",
   "execution_count": 1,
   "metadata": {},
   "outputs": [],
   "source": [
    "import json\n",
    "import uuid\n",
    "from os import getenv\n",
    "\n",
    "from confluent_kafka import (Consumer, KafkaError, KafkaException, Producer,\n",
    "                             TopicPartition)"
   ]
  },
  {
   "cell_type": "markdown",
   "metadata": {},
   "source": [
    "### Consume"
   ]
  },
  {
   "cell_type": "code",
   "execution_count": 2,
   "metadata": {},
   "outputs": [
    {
     "name": "stdout",
     "output_type": "stream",
     "text": [
      "No message available\n",
      "No message available\n",
      "{'log': '--------- beginning of main\\n'}\n",
      "{'log': '--------- beginning of a new ride\\n'}\n",
      "{'log': '2022-07-06 23:29:35.435798 mendoza v9: Getting user data from server..\\n'}\n",
      "{'log': '2022-07-06 23:29:35.935822 mendoza v9: [SYSTEM] data = {\"user_id\":100,\"name\":\"Steven Pearce\",\"gender\":\"male\",\"address\":\"0 Simpson locks,Wilkinsonshire,E68 8SH\",\"date_of_birth\":273715200000,\"email_address\":\"steven.p@gmail.com\",\"height_cm\":167,\"weight_kg\":83,\"account_create_date\":1647993600000,\"bike_serial\":\"SN0000\",\"original_source\":\"direct\"}\\n'}\n",
      "{'log': '2022-07-06 23:29:36.435842 mendoza v9: [INFO]: Ride - duration = 1.0; resistance = 0\\n'}\n",
      "{'log': '2022-07-06 23:29:36.935860 mendoza v9: [INFO]: Telemetry - hrt = 0; rpm = 0; power = 0.0\\n'}\n",
      "{'log': '2022-07-06 23:29:37.435875 mendoza v9: [INFO]: Ride - duration = 2.0; resistance = 0\\n'}\n",
      "{'log': '2022-07-06 23:29:37.935885 mendoza v9: [INFO]: Telemetry - hrt = 0; rpm = 0; power = 0.0\\n'}\n",
      "{'log': '2022-07-06 23:29:38.435896 mendoza v9: [INFO]: Ride - duration = 3.0; resistance = 30\\n'}\n"
     ]
    }
   ],
   "source": [
    "bootstrap_servers=getenv('KAFKA_SERVER')\n",
    "security_protocol='SASL_SSL'\n",
    "sasl_mechanisms='PLAIN'\n",
    "sasl_username=getenv('KAFKA_USERNAME')\n",
    "sasl_password=getenv('KAFKA_PASSWORD')\n",
    "kafka_topic_name = getenv('KAFKA_TOPIC')\n",
    "\n",
    "values = []\n",
    "\n",
    "c = Consumer({\n",
    "    'bootstrap.servers': bootstrap_servers,\n",
    "    'group.id': f'deloton-group-three' +str(uuid.uuid1()),\n",
    "    'security.protocol': 'SASL_SSL',\n",
    "    'sasl.mechanisms': 'PLAIN',\n",
    "    'sasl.username': sasl_username,\n",
    "    'sasl.password': sasl_password,\n",
    "    'session.timeout.ms': 6000,\n",
    "    'heartbeat.interval.ms': 1000,\n",
    "    'fetch.wait.max.ms': 6000,\n",
    "    'auto.offset.reset': 'earliest',\n",
    "    'enable.auto.commit': 'false',\n",
    "    'max.poll.interval.ms': '86400000',\n",
    "    'topic.metadata.refresh.interval.ms': \"-1\",\n",
    "    \"client.id\": 'id-002-005',\n",
    "})\n",
    "\n",
    "c.subscribe([kafka_topic_name])\n",
    "\n",
    "try:\n",
    "    counter = 0\n",
    "    while counter <= 10:\n",
    "        counter += 1\n",
    "        log = c.poll(1.0)\n",
    "        if log == None:\n",
    "            print('No message available')\n",
    "        else: \n",
    "            key = log.key().decode('utf-8')\n",
    "            value = json.loads(log.value().decode('utf-8'))\n",
    "            topic = log.topic()\n",
    "            print(value)\n",
    "except KeyboardInterrupt:\n",
    "    pass\n",
    "finally:\n",
    "    c.close()"
   ]
  }
 ],
 "metadata": {
  "kernelspec": {
   "display_name": "Python 3.9.13 64-bit",
   "language": "python",
   "name": "python3"
  },
  "language_info": {
   "codemirror_mode": {
    "name": "ipython",
    "version": 3
   },
   "file_extension": ".py",
   "mimetype": "text/x-python",
   "name": "python",
   "nbconvert_exporter": "python",
   "pygments_lexer": "ipython3",
   "version": "3.9.13"
  },
  "orig_nbformat": 4,
  "vscode": {
   "interpreter": {
    "hash": "b0fa6594d8f4cbf19f97940f81e996739fb7646882a419484c72d19e05852a7e"
   }
  }
 },
 "nbformat": 4,
 "nbformat_minor": 2
}
