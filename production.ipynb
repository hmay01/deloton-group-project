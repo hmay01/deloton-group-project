{
 "cells": [
  {
   "cell_type": "code",
   "execution_count": 1,
   "metadata": {},
   "outputs": [
    {
     "name": "stderr",
     "output_type": "stream",
     "text": [
      "/opt/homebrew/lib/python3.9/site-packages/snowflake/connector/options.py:96: UserWarning: You have an incompatible version of 'pyarrow' installed (9.0.0), please install a version that adheres to: 'pyarrow<8.1.0,>=8.0.0; extra == \"pandas\"'\n",
      "  warn_incompatible_dep(\n"
     ]
    },
    {
     "ename": "ModuleNotFoundError",
     "evalue": "No module named 'staging'",
     "output_type": "error",
     "traceback": [
      "\u001b[0;31m---------------------------------------------------------------------------\u001b[0m",
      "\u001b[0;31mModuleNotFoundError\u001b[0m                       Traceback (most recent call last)",
      "\u001b[1;32m/Users/harrymay/Desktop/coursework/deloton-group-project/production.ipynb Cell 1\u001b[0m in \u001b[0;36m<cell line: 2>\u001b[0;34m()\u001b[0m\n\u001b[1;32m      <a href='vscode-notebook-cell:/Users/harrymay/Desktop/coursework/deloton-group-project/production.ipynb#W3sZmlsZQ%3D%3D?line=0'>1</a>\u001b[0m \u001b[39mfrom\u001b[39;00m \u001b[39msnowflake\u001b[39;00m\u001b[39m.\u001b[39;00m\u001b[39mconnector\u001b[39;00m\u001b[39m.\u001b[39;00m\u001b[39mpandas_tools\u001b[39;00m \u001b[39mimport\u001b[39;00m write_pandas\n\u001b[0;32m----> <a href='vscode-notebook-cell:/Users/harrymay/Desktop/coursework/deloton-group-project/production.ipynb#W3sZmlsZQ%3D%3D?line=1'>2</a>\u001b[0m \u001b[39mfrom\u001b[39;00m \u001b[39mstaging\u001b[39;00m \u001b[39mimport\u001b[39;00m basic_df\n",
      "\u001b[0;31mModuleNotFoundError\u001b[0m: No module named 'staging'"
     ]
    }
   ],
   "source": [
    "from snowflake.connector.pandas_tools import write_pandas\n",
    "from staging import raw_logs_df"
   ]
  },
  {
   "cell_type": "code",
   "execution_count": null,
   "metadata": {},
   "outputs": [],
   "source": []
  },
  {
   "cell_type": "code",
   "execution_count": null,
   "metadata": {},
   "outputs": [],
   "source": [
    "production_df = format_df(raw_logs_df)\n",
    "production_df"
   ]
  },
  {
   "cell_type": "code",
   "execution_count": null,
   "metadata": {},
   "outputs": [],
   "source": [
    "cs.execute(f\"\"\"\n",
    "        CREATE OR REPLACE TABLE df_test_table\n",
    "        (\"log\" STRING,\n",
    "        \"is_new_ride\" BOOLEAN,\n",
    "        \"is_info\" BOOLEAN,\n",
    "        \"is_system\" BOOLEAN,\n",
    "        \"date\" DATETIME,\n",
    "        \"heart_rate\" INTEGER,\n",
    "        \"resistance\" INTEGER,\n",
    "        \"rpm\" INTEGER,\n",
    "        \"power\" FLOAT,\n",
    "        \"user_id\" STRING,\n",
    "        \"name\" STRING,\n",
    "        \"gender\" STRING,\n",
    "        \"address\" STRING,\n",
    "        \"date_of_birth\" FLOAT,\n",
    "        \"email_address\" STRING,\n",
    "        \"height_cm\" INTEGER,\n",
    "        \"weight_kg\" INTEGER,\n",
    "        \"account_create_date\" FLOAT,\n",
    "        \"bike_serial\" STRING,\n",
    "        \"original_source\" STRING\n",
    "        )\n",
    "\"\"\")"
   ]
  },
  {
   "cell_type": "code",
   "execution_count": null,
   "metadata": {},
   "outputs": [],
   "source": [
    "write_pandas(conn, df, 'DF_TEST_TABLE')"
   ]
  },
  {
   "cell_type": "code",
   "execution_count": null,
   "metadata": {},
   "outputs": [],
   "source": [
    "cs.execute(f'SELECT * FROM DF_TEST_TABLE WHERE \"is_system\" = TRUE').fetch_pandas_all()"
   ]
  }
 ],
 "metadata": {
  "kernelspec": {
   "display_name": "Python 3.9.13 64-bit",
   "language": "python",
   "name": "python3"
  },
  "language_info": {
   "codemirror_mode": {
    "name": "ipython",
    "version": 3
   },
   "file_extension": ".py",
   "mimetype": "text/x-python",
   "name": "python",
   "nbconvert_exporter": "python",
   "pygments_lexer": "ipython3",
   "version": "3.9.13"
  },
  "orig_nbformat": 4,
  "vscode": {
   "interpreter": {
    "hash": "b0fa6594d8f4cbf19f97940f81e996739fb7646882a419484c72d19e05852a7e"
   }
  }
 },
 "nbformat": 4,
 "nbformat_minor": 2
}
