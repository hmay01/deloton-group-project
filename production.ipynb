{
 "cells": [
  {
   "cell_type": "code",
   "execution_count": 1,
   "metadata": {},
   "outputs": [
    {
     "name": "stderr",
     "output_type": "stream",
     "text": [
      "/opt/homebrew/lib/python3.9/site-packages/snowflake/connector/options.py:96: UserWarning: You have an incompatible version of 'pyarrow' installed (9.0.0), please install a version that adheres to: 'pyarrow<8.1.0,>=8.0.0; extra == \"pandas\"'\n",
      "  warn_incompatible_dep(\n"
     ]
    }
   ],
   "source": [
    "from snowflake.connector.pandas_tools import write_pandas\n",
    "from snowflake_helpers import *"
   ]
  },
  {
   "cell_type": "code",
   "execution_count": 2,
   "metadata": {},
   "outputs": [],
   "source": [
    "conn = connect_to_snowflake()\n",
    "cs = conn.cursor()"
   ]
  },
  {
   "cell_type": "code",
   "execution_count": 3,
   "metadata": {},
   "outputs": [],
   "source": [
    "create_production_schema(cs)\n",
    "use_production_schema(cs)"
   ]
  },
  {
   "cell_type": "code",
   "execution_count": 6,
   "metadata": {},
   "outputs": [],
   "source": [
    "production_df = cs.execute('SELECT * FROM yusra_stories_staging.logs').fetch_pandas_all()\n",
    "production_df"
   ]
  },
  {
   "cell_type": "markdown",
   "metadata": {},
   "source": [
    "For future table insert"
   ]
  },
  {
   "cell_type": "code",
   "execution_count": null,
   "metadata": {},
   "outputs": [],
   "source": [
    "# cs.execute(f\"\"\"\n",
    "#         CREATE OR REPLACE TABLE df_test_table\n",
    "#         (\"log\" STRING,\n",
    "#         \"is_new_ride\" BOOLEAN,\n",
    "#         \"is_info\" BOOLEAN,\n",
    "#         \"is_system\" BOOLEAN,\n",
    "#         \"date\" DATETIME,\n",
    "#         \"heart_rate\" INTEGER,\n",
    "#         \"resistance\" INTEGER,\n",
    "#         \"rpm\" INTEGER,\n",
    "#         \"power\" FLOAT,\n",
    "#         \"user_id\" STRING,\n",
    "#         \"name\" STRING,\n",
    "#         \"gender\" STRING,\n",
    "#         \"address\" STRING,\n",
    "#         \"date_of_birth\" FLOAT,\n",
    "#         \"email_address\" STRING,\n",
    "#         \"height_cm\" INTEGER,\n",
    "#         \"weight_kg\" INTEGER,\n",
    "#         \"account_create_date\" FLOAT,\n",
    "#         \"bike_serial\" STRING,\n",
    "#         \"original_source\" STRING\n",
    "#         )\n",
    "# \"\"\")"
   ]
  },
  {
   "cell_type": "code",
   "execution_count": null,
   "metadata": {},
   "outputs": [],
   "source": [
    "# write_pandas(conn, df, 'DF_TEST_TABLE')"
   ]
  },
  {
   "cell_type": "code",
   "execution_count": null,
   "metadata": {},
   "outputs": [],
   "source": [
    "# cs.execute(f'SELECT * FROM DF_TEST_TABLE WHERE \"is_system\" = TRUE').fetch_pandas_all()"
   ]
  }
 ],
 "metadata": {
  "kernelspec": {
   "display_name": "Python 3.9.13 64-bit",
   "language": "python",
   "name": "python3"
  },
  "language_info": {
   "codemirror_mode": {
    "name": "ipython",
    "version": 3
   },
   "file_extension": ".py",
   "mimetype": "text/x-python",
   "name": "python",
   "nbconvert_exporter": "python",
   "pygments_lexer": "ipython3",
   "version": "3.9.13"
  },
  "orig_nbformat": 4,
  "vscode": {
   "interpreter": {
    "hash": "b0fa6594d8f4cbf19f97940f81e996739fb7646882a419484c72d19e05852a7e"
   }
  }
 },
 "nbformat": 4,
 "nbformat_minor": 2
}
