{
 "cells": [
  {
   "cell_type": "code",
   "execution_count": 1,
   "metadata": {},
   "outputs": [],
   "source": [
    "# %pip install snowflake-connector-python\n",
    "# %pip install pyarrow==8.0.0\n",
    "# %pip install pandas\n",
    "# %pip install confluent-kafka\n",
    "# %pip install python-dotenv"
   ]
  },
  {
   "cell_type": "code",
   "execution_count": 2,
   "metadata": {},
   "outputs": [],
   "source": [
    "import snowflake.connector\n",
    "from snowflake_helpers import *\n",
    "import re\n",
    "import pandas as pd\n",
    "from transformation_helpers import *"
   ]
  },
  {
   "cell_type": "code",
   "execution_count": 3,
   "metadata": {},
   "outputs": [
    {
     "name": "stdout",
     "output_type": "stream",
     "text": [
      "Connected to Snowflake with user: admin\n"
     ]
    }
   ],
   "source": [
    "conn = connect_to_snowflake()\n",
    "cs = conn.cursor()"
   ]
  },
  {
   "cell_type": "code",
   "execution_count": 4,
   "metadata": {},
   "outputs": [
    {
     "name": "stdout",
     "output_type": "stream",
     "text": [
      "Schema: yusra_stories_production created.\n"
     ]
    }
   ],
   "source": [
    "create_production_schema(cs)\n",
    "use_production_schema(cs)"
   ]
  },
  {
   "cell_type": "code",
   "execution_count": 5,
   "metadata": {},
   "outputs": [
    {
     "data": {
      "text/html": [
       "<div>\n",
       "<style scoped>\n",
       "    .dataframe tbody tr th:only-of-type {\n",
       "        vertical-align: middle;\n",
       "    }\n",
       "\n",
       "    .dataframe tbody tr th {\n",
       "        vertical-align: top;\n",
       "    }\n",
       "\n",
       "    .dataframe thead th {\n",
       "        text-align: right;\n",
       "    }\n",
       "</style>\n",
       "<table border=\"1\" class=\"dataframe\">\n",
       "  <thead>\n",
       "    <tr style=\"text-align: right;\">\n",
       "      <th></th>\n",
       "      <th>log_id</th>\n",
       "      <th>log</th>\n",
       "    </tr>\n",
       "  </thead>\n",
       "  <tbody>\n",
       "    <tr>\n",
       "      <th>0</th>\n",
       "      <td>1</td>\n",
       "      <td>ride 1 --------- beginning of a new ride\\n</td>\n",
       "    </tr>\n",
       "    <tr>\n",
       "      <th>1</th>\n",
       "      <td>2</td>\n",
       "      <td>ride 1 2022-10-06 15:49:21.453226 mendoza v9: ...</td>\n",
       "    </tr>\n",
       "    <tr>\n",
       "      <th>2</th>\n",
       "      <td>3</td>\n",
       "      <td>ride 1 2022-10-06 15:49:21.953902 mendoza v9: ...</td>\n",
       "    </tr>\n",
       "    <tr>\n",
       "      <th>3</th>\n",
       "      <td>4</td>\n",
       "      <td>ride 1 2022-10-06 15:49:22.454586 mendoza v9: ...</td>\n",
       "    </tr>\n",
       "    <tr>\n",
       "      <th>4</th>\n",
       "      <td>5</td>\n",
       "      <td>ride 1 2022-10-06 15:49:22.955260 mendoza v9: ...</td>\n",
       "    </tr>\n",
       "  </tbody>\n",
       "</table>\n",
       "</div>"
      ],
      "text/plain": [
       "   log_id                                                log\n",
       "0       1         ride 1 --------- beginning of a new ride\\n\n",
       "1       2  ride 1 2022-10-06 15:49:21.453226 mendoza v9: ...\n",
       "2       3  ride 1 2022-10-06 15:49:21.953902 mendoza v9: ...\n",
       "3       4  ride 1 2022-10-06 15:49:22.454586 mendoza v9: ...\n",
       "4       5  ride 1 2022-10-06 15:49:22.955260 mendoza v9: ..."
      ]
     },
     "execution_count": 5,
     "metadata": {},
     "output_type": "execute_result"
    }
   ],
   "source": [
    "df = cs.execute('SELECT * FROM yusra_stories_staging.logs').fetch_pandas_all()\n",
    "df.head(5)"
   ]
  },
  {
   "cell_type": "code",
   "execution_count": 6,
   "metadata": {},
   "outputs": [
    {
     "name": "stdout",
     "output_type": "stream",
     "text": [
      "at the start df is <class 'pandas.core.frame.DataFrame'>\n"
     ]
    },
    {
     "name": "stderr",
     "output_type": "stream",
     "text": [
      "/Users/harrymay/Desktop/coursework/deloton-group-project/transformation_helpers.py:62: FutureWarning: Comparison of NaT with datetime.date is deprecated in order to match the standard library behavior. In a future version these will be considered non-comparable.\n",
      "  if birthday > today:\n",
      "/Users/harrymay/Desktop/coursework/deloton-group-project/transformation_helpers.py:62: FutureWarning: Comparison of Timestamp with datetime.date is deprecated in order to match the standard library behavior. In a future version these will be considered non-comparable. Use 'ts == pd.Timestamp(date)' or 'ts.date() == date' instead.\n",
      "  if birthday > today:\n"
     ]
    }
   ],
   "source": [
    "formatted_df = get_joined_formatted_df(df)"
   ]
  },
  {
   "cell_type": "code",
   "execution_count": 7,
   "metadata": {},
   "outputs": [
    {
     "data": {
      "text/html": [
       "<div>\n",
       "<style scoped>\n",
       "    .dataframe tbody tr th:only-of-type {\n",
       "        vertical-align: middle;\n",
       "    }\n",
       "\n",
       "    .dataframe tbody tr th {\n",
       "        vertical-align: top;\n",
       "    }\n",
       "\n",
       "    .dataframe thead th {\n",
       "        text-align: right;\n",
       "    }\n",
       "</style>\n",
       "<table border=\"1\" class=\"dataframe\">\n",
       "  <thead>\n",
       "    <tr style=\"text-align: right;\">\n",
       "      <th></th>\n",
       "      <th>log_id</th>\n",
       "      <th>log</th>\n",
       "      <th>ride_id</th>\n",
       "      <th>is_new_ride</th>\n",
       "      <th>is_info</th>\n",
       "      <th>is_system</th>\n",
       "      <th>time</th>\n",
       "      <th>user_id</th>\n",
       "      <th>name</th>\n",
       "      <th>gender</th>\n",
       "      <th>...</th>\n",
       "      <th>address</th>\n",
       "      <th>email_address</th>\n",
       "      <th>account_created</th>\n",
       "      <th>bike_serial</th>\n",
       "      <th>original_source</th>\n",
       "      <th>ride_duration_secs</th>\n",
       "      <th>heart_rate</th>\n",
       "      <th>resistance</th>\n",
       "      <th>rpm</th>\n",
       "      <th>power</th>\n",
       "    </tr>\n",
       "  </thead>\n",
       "  <tbody>\n",
       "    <tr>\n",
       "      <th>0</th>\n",
       "      <td>1</td>\n",
       "      <td>ride 1 --------- beginning of a new ride\\n</td>\n",
       "      <td>1</td>\n",
       "      <td>True</td>\n",
       "      <td>False</td>\n",
       "      <td>False</td>\n",
       "      <td>NaT</td>\n",
       "      <td>NaN</td>\n",
       "      <td>None</td>\n",
       "      <td>None</td>\n",
       "      <td>...</td>\n",
       "      <td>None</td>\n",
       "      <td>None</td>\n",
       "      <td>NaT</td>\n",
       "      <td>None</td>\n",
       "      <td>None</td>\n",
       "      <td>NaN</td>\n",
       "      <td>NaN</td>\n",
       "      <td>NaN</td>\n",
       "      <td>NaN</td>\n",
       "      <td>NaN</td>\n",
       "    </tr>\n",
       "    <tr>\n",
       "      <th>1</th>\n",
       "      <td>2</td>\n",
       "      <td>ride 1 2022-10-06 15:49:21.453226 mendoza v9: ...</td>\n",
       "      <td>1</td>\n",
       "      <td>False</td>\n",
       "      <td>False</td>\n",
       "      <td>False</td>\n",
       "      <td>2022-10-06 15:49:21.453226</td>\n",
       "      <td>NaN</td>\n",
       "      <td>None</td>\n",
       "      <td>None</td>\n",
       "      <td>...</td>\n",
       "      <td>None</td>\n",
       "      <td>None</td>\n",
       "      <td>NaT</td>\n",
       "      <td>None</td>\n",
       "      <td>None</td>\n",
       "      <td>NaN</td>\n",
       "      <td>NaN</td>\n",
       "      <td>NaN</td>\n",
       "      <td>NaN</td>\n",
       "      <td>NaN</td>\n",
       "    </tr>\n",
       "    <tr>\n",
       "      <th>2</th>\n",
       "      <td>3</td>\n",
       "      <td>ride 1 2022-10-06 15:49:21.953902 mendoza v9: ...</td>\n",
       "      <td>1</td>\n",
       "      <td>False</td>\n",
       "      <td>False</td>\n",
       "      <td>True</td>\n",
       "      <td>2022-10-06 15:49:21.953902</td>\n",
       "      <td>4612.0</td>\n",
       "      <td>Mrs Bethany Welch</td>\n",
       "      <td>female</td>\n",
       "      <td>...</td>\n",
       "      <td>Flat 3,Jeremy rapid,Evanshaven,S2 9DH</td>\n",
       "      <td>mrs_b@gmail.com</td>\n",
       "      <td>2022-02-27</td>\n",
       "      <td>SN0000</td>\n",
       "      <td>direct</td>\n",
       "      <td>NaN</td>\n",
       "      <td>NaN</td>\n",
       "      <td>NaN</td>\n",
       "      <td>NaN</td>\n",
       "      <td>NaN</td>\n",
       "    </tr>\n",
       "  </tbody>\n",
       "</table>\n",
       "<p>3 rows × 24 columns</p>\n",
       "</div>"
      ],
      "text/plain": [
       "   log_id                                                log ride_id  \\\n",
       "0       1         ride 1 --------- beginning of a new ride\\n       1   \n",
       "1       2  ride 1 2022-10-06 15:49:21.453226 mendoza v9: ...       1   \n",
       "2       3  ride 1 2022-10-06 15:49:21.953902 mendoza v9: ...       1   \n",
       "\n",
       "   is_new_ride  is_info  is_system                       time  user_id  \\\n",
       "0         True    False      False                        NaT      NaN   \n",
       "1        False    False      False 2022-10-06 15:49:21.453226      NaN   \n",
       "2        False    False       True 2022-10-06 15:49:21.953902   4612.0   \n",
       "\n",
       "                name  gender  ...                                address  \\\n",
       "0               None    None  ...                                   None   \n",
       "1               None    None  ...                                   None   \n",
       "2  Mrs Bethany Welch  female  ...  Flat 3,Jeremy rapid,Evanshaven,S2 9DH   \n",
       "\n",
       "     email_address  account_created  bike_serial original_source  \\\n",
       "0             None              NaT         None            None   \n",
       "1             None              NaT         None            None   \n",
       "2  mrs_b@gmail.com       2022-02-27       SN0000          direct   \n",
       "\n",
       "  ride_duration_secs heart_rate resistance rpm  power  \n",
       "0                NaN        NaN        NaN NaN    NaN  \n",
       "1                NaN        NaN        NaN NaN    NaN  \n",
       "2                NaN        NaN        NaN NaN    NaN  \n",
       "\n",
       "[3 rows x 24 columns]"
      ]
     },
     "execution_count": 7,
     "metadata": {},
     "output_type": "execute_result"
    }
   ],
   "source": [
    "formatted_df.head(3)"
   ]
  },
  {
   "cell_type": "code",
   "execution_count": 8,
   "metadata": {},
   "outputs": [
    {
     "data": {
      "text/html": [
       "<div>\n",
       "<style scoped>\n",
       "    .dataframe tbody tr th:only-of-type {\n",
       "        vertical-align: middle;\n",
       "    }\n",
       "\n",
       "    .dataframe tbody tr th {\n",
       "        vertical-align: top;\n",
       "    }\n",
       "\n",
       "    .dataframe thead th {\n",
       "        text-align: right;\n",
       "    }\n",
       "</style>\n",
       "<table border=\"1\" class=\"dataframe\">\n",
       "  <thead>\n",
       "    <tr style=\"text-align: right;\">\n",
       "      <th></th>\n",
       "      <th>name</th>\n",
       "      <th>gender</th>\n",
       "      <th>date_of_birth</th>\n",
       "      <th>age</th>\n",
       "      <th>height_cm</th>\n",
       "      <th>weight_kg</th>\n",
       "      <th>address</th>\n",
       "      <th>email_address</th>\n",
       "      <th>account_created</th>\n",
       "      <th>bike_serial</th>\n",
       "      <th>original_source</th>\n",
       "    </tr>\n",
       "    <tr>\n",
       "      <th>user_id</th>\n",
       "      <th></th>\n",
       "      <th></th>\n",
       "      <th></th>\n",
       "      <th></th>\n",
       "      <th></th>\n",
       "      <th></th>\n",
       "      <th></th>\n",
       "      <th></th>\n",
       "      <th></th>\n",
       "      <th></th>\n",
       "      <th></th>\n",
       "    </tr>\n",
       "  </thead>\n",
       "  <tbody>\n",
       "    <tr>\n",
       "      <th>4612.0</th>\n",
       "      <td>Mrs Bethany Welch</td>\n",
       "      <td>female</td>\n",
       "      <td>1968-09-20</td>\n",
       "      <td>54.0</td>\n",
       "      <td>188.0</td>\n",
       "      <td>60.0</td>\n",
       "      <td>Flat 3,Jeremy rapid,Evanshaven,S2 9DH</td>\n",
       "      <td>mrs_b@gmail.com</td>\n",
       "      <td>2022-02-27</td>\n",
       "      <td>SN0000</td>\n",
       "      <td>direct</td>\n",
       "    </tr>\n",
       "    <tr>\n",
       "      <th>4614.0</th>\n",
       "      <td>Jill Gill</td>\n",
       "      <td>female</td>\n",
       "      <td>1996-11-11</td>\n",
       "      <td>25.0</td>\n",
       "      <td>180.0</td>\n",
       "      <td>61.0</td>\n",
       "      <td>Studio 4,Carly valleys,West George,RH72 6JL</td>\n",
       "      <td>j_g86@gmail.com</td>\n",
       "      <td>2022-03-02</td>\n",
       "      <td>SN0000</td>\n",
       "      <td>google ads</td>\n",
       "    </tr>\n",
       "  </tbody>\n",
       "</table>\n",
       "</div>"
      ],
      "text/plain": [
       "                      name  gender date_of_birth   age  height_cm  weight_kg  \\\n",
       "user_id                                                                        \n",
       "4612.0   Mrs Bethany Welch  female    1968-09-20  54.0      188.0       60.0   \n",
       "4614.0           Jill Gill  female    1996-11-11  25.0      180.0       61.0   \n",
       "\n",
       "                                             address    email_address  \\\n",
       "user_id                                                                 \n",
       "4612.0         Flat 3,Jeremy rapid,Evanshaven,S2 9DH  mrs_b@gmail.com   \n",
       "4614.0   Studio 4,Carly valleys,West George,RH72 6JL  j_g86@gmail.com   \n",
       "\n",
       "        account_created bike_serial original_source  \n",
       "user_id                                              \n",
       "4612.0       2022-02-27      SN0000          direct  \n",
       "4614.0       2022-03-02      SN0000      google ads  "
      ]
     },
     "execution_count": 8,
     "metadata": {},
     "output_type": "execute_result"
    }
   ],
   "source": [
    "user_df = get_users_df(formatted_df)\n",
    "user_df.head()"
   ]
  },
  {
   "cell_type": "markdown",
   "metadata": {},
   "source": [
    "For future table insert"
   ]
  },
  {
   "cell_type": "code",
   "execution_count": 9,
   "metadata": {},
   "outputs": [],
   "source": [
    "# cs.execute(f\"\"\"\n",
    "#         CREATE OR REPLACE TABLE df_test_table\n",
    "#         (\"log\" STRING,\n",
    "#         \"is_new_ride\" BOOLEAN,\n",
    "#         \"is_info\" BOOLEAN,\n",
    "#         \"is_system\" BOOLEAN,\n",
    "#         \"date\" DATETIME,\n",
    "#         \"heart_rate\" INTEGER,\n",
    "#         \"resistance\" INTEGER,\n",
    "#         \"rpm\" INTEGER,\n",
    "#         \"power\" FLOAT,\n",
    "#         \"user_id\" STRING,\n",
    "#         \"name\" STRING,\n",
    "#         \"gender\" STRING,\n",
    "#         \"address\" STRING,\n",
    "#         \"date_of_birth\" FLOAT,\n",
    "#         \"email_address\" STRING,\n",
    "#         \"height_cm\" INTEGER,\n",
    "#         \"weight_kg\" INTEGER,\n",
    "#         \"account_create_date\" FLOAT,\n",
    "#         \"bike_serial\" STRING,\n",
    "#         \"original_source\" STRING\n",
    "#         )\n",
    "# \"\"\")"
   ]
  },
  {
   "cell_type": "code",
   "execution_count": 10,
   "metadata": {},
   "outputs": [],
   "source": [
    "# write_pandas(conn, df, 'DF_TEST_TABLE')"
   ]
  },
  {
   "cell_type": "code",
   "execution_count": 11,
   "metadata": {},
   "outputs": [],
   "source": [
    "# cs.execute(f'SELECT * FROM DF_TEST_TABLE WHERE \"is_system\" = TRUE').fetch_pandas_all()"
   ]
  }
 ],
 "metadata": {
  "kernelspec": {
   "display_name": "Python 3.9.13 64-bit",
   "language": "python",
   "name": "python3"
  },
  "language_info": {
   "codemirror_mode": {
    "name": "ipython",
    "version": 3
   },
   "file_extension": ".py",
   "mimetype": "text/x-python",
   "name": "python",
   "nbconvert_exporter": "python",
   "pygments_lexer": "ipython3",
   "version": "3.9.13"
  },
  "orig_nbformat": 4,
  "vscode": {
   "interpreter": {
    "hash": "b0fa6594d8f4cbf19f97940f81e996739fb7646882a419484c72d19e05852a7e"
   }
  }
 },
 "nbformat": 4,
 "nbformat_minor": 2
}
