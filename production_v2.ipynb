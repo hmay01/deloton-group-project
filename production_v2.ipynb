{
 "cells": [
  {
   "cell_type": "code",
   "execution_count": null,
   "metadata": {},
   "outputs": [],
   "source": [
    "import warnings\n",
    "\n",
    "from pandas.core.common import SettingWithCopyWarning\n",
    "\n",
    "from aurora_postgres_helpers import SQLConnection\n",
    "from transformation_helpers import *\n",
    "\n",
    "#insignificant warnings filtered as they hide important print messages\n",
    "warnings.simplefilter(action='ignore', category=FutureWarning)\n",
    "warnings.simplefilter(action='ignore', category=SyntaxWarning)\n",
    "warnings.simplefilter(action=\"ignore\", category=SettingWithCopyWarning)"
   ]
  },
  {
   "cell_type": "code",
   "execution_count": null,
   "metadata": {},
   "outputs": [],
   "source": [
    "sql = SQLConnection\n",
    "staging_schema = 'yusra_stories_staging'\n",
    "production_schema = 'yusra_stories_production'\n",
    "logs_table = 'logs'\n",
    "\n"
   ]
  },
  {
   "cell_type": "code",
   "execution_count": null,
   "metadata": {},
   "outputs": [],
   "source": [
    "all_logs_df = sql.read_table_to_df(sql, staging_schema, logs_table)\n",
    "\n",
    "latest_ride_id = all_logs_df['ride_id'].max()\n",
    "latest_ride_logs = all_logs_df[(all_logs_df['ride_id'] == latest_ride_id)]\n",
    "latest_ride_formatted = get_joined_formatted_df(latest_ride_logs)\n",
    "\n",
    "latest_user_df = get_users_df(latest_ride_formatted)\n",
    "\n",
    "staging_ride_df = get_staging_rides_df(latest_ride_formatted)\n",
    "latest_ride_df = get_final_rides_df(staging_ride_df)\n",
    "\n",
    "\n",
    "sql.write_df_to_table(sql, latest_user_df, production_schema, 'users', 'append')\n",
    "sql.write_df_to_table(sql, latest_ride_df, production_schema, 'rides', 'append')"
   ]
  }
 ],
 "metadata": {
  "kernelspec": {
   "display_name": "Python 3.9.13 64-bit",
   "language": "python",
   "name": "python3"
  },
  "language_info": {
   "name": "python",
   "version": "3.9.13"
  },
  "orig_nbformat": 4,
  "vscode": {
   "interpreter": {
    "hash": "b0fa6594d8f4cbf19f97940f81e996739fb7646882a419484c72d19e05852a7e"
   }
  }
 },
 "nbformat": 4,
 "nbformat_minor": 2
}
