{
 "cells": [
  {
   "cell_type": "code",
   "execution_count": 5,
   "metadata": {},
   "outputs": [
    {
     "name": "stdout",
     "output_type": "stream",
     "text": [
      "skipping\n"
     ]
    }
   ],
   "source": [
    "%%script echo skipping\n",
    "%pip install snowflake-connector-python\n",
    "%pip install pyarrow"
   ]
  },
  {
   "cell_type": "code",
   "execution_count": 4,
   "metadata": {},
   "outputs": [],
   "source": [
    "import snowflake.connector\n",
    "import os\n",
    "from dotenv import load_dotenv"
   ]
  },
  {
   "cell_type": "code",
   "execution_count": 6,
   "metadata": {},
   "outputs": [
    {
     "data": {
      "text/plain": [
       "True"
      ]
     },
     "execution_count": 6,
     "metadata": {},
     "output_type": "execute_result"
    }
   ],
   "source": [
    "load_dotenv()"
   ]
  },
  {
   "cell_type": "code",
   "execution_count": 7,
   "metadata": {},
   "outputs": [],
   "source": [
    "USER = os.environ['USER']\n",
    "ACCOUNT = os.environ['ACCOUNT']\n",
    "PASSWORD = os.environ['PASSWORD']\n",
    "WAREHOUSE = os.environ['WAREHOUSE']\n",
    "DATABASE = os.environ['DATABASE']\n",
    "SCHEMA = os.environ['SCHEMA']"
   ]
  },
  {
   "cell_type": "code",
   "execution_count": 8,
   "metadata": {},
   "outputs": [
    {
     "ename": "ForbiddenError",
     "evalue": "250001 (08001): Failed to connect to DB. Verify the account name is correct: rf77926.eu-west-2.snowflakecomputing.com:443. 000403: HTTP 403: Forbidden",
     "output_type": "error",
     "traceback": [
      "\u001b[0;31m---------------------------------------------------------------------------\u001b[0m",
      "\u001b[0;31mRetryRequest\u001b[0m                              Traceback (most recent call last)",
      "File \u001b[0;32m/opt/homebrew/lib/python3.9/site-packages/snowflake/connector/network.py:837\u001b[0m, in \u001b[0;36mSnowflakeRestful._request_exec_wrapper\u001b[0;34m(self, session, method, full_url, headers, data, retry_ctx, no_retry, token, **kwargs)\u001b[0m\n\u001b[1;32m    836\u001b[0m \u001b[39mtry\u001b[39;00m:\n\u001b[0;32m--> 837\u001b[0m     return_object \u001b[39m=\u001b[39m \u001b[39mself\u001b[39;49m\u001b[39m.\u001b[39;49m_request_exec(\n\u001b[1;32m    838\u001b[0m         session\u001b[39m=\u001b[39;49msession,\n\u001b[1;32m    839\u001b[0m         method\u001b[39m=\u001b[39;49mmethod,\n\u001b[1;32m    840\u001b[0m         full_url\u001b[39m=\u001b[39;49mfull_url,\n\u001b[1;32m    841\u001b[0m         headers\u001b[39m=\u001b[39;49mheaders,\n\u001b[1;32m    842\u001b[0m         data\u001b[39m=\u001b[39;49mdata,\n\u001b[1;32m    843\u001b[0m         token\u001b[39m=\u001b[39;49mtoken,\n\u001b[1;32m    844\u001b[0m         \u001b[39m*\u001b[39;49m\u001b[39m*\u001b[39;49mkwargs,\n\u001b[1;32m    845\u001b[0m     )\n\u001b[1;32m    846\u001b[0m     \u001b[39mif\u001b[39;00m return_object \u001b[39mis\u001b[39;00m \u001b[39mnot\u001b[39;00m \u001b[39mNone\u001b[39;00m:\n",
      "File \u001b[0;32m/opt/homebrew/lib/python3.9/site-packages/snowflake/connector/network.py:1116\u001b[0m, in \u001b[0;36mSnowflakeRestful._request_exec\u001b[0;34m(self, session, method, full_url, headers, data, token, catch_okta_unauthorized_error, is_raw_text, is_raw_binary, binary_data_handler, socket_timeout)\u001b[0m\n\u001b[1;32m   1107\u001b[0m TelemetryService\u001b[39m.\u001b[39mget_instance()\u001b[39m.\u001b[39mlog_http_request_error(\n\u001b[1;32m   1108\u001b[0m     \u001b[39m\"\u001b[39m\u001b[39mHttpException\u001b[39m\u001b[39m%s\u001b[39;00m\u001b[39m\"\u001b[39m \u001b[39m%\u001b[39m \u001b[39mstr\u001b[39m(err),\n\u001b[1;32m   1109\u001b[0m     full_url,\n\u001b[0;32m   (...)\u001b[0m\n\u001b[1;32m   1114\u001b[0m     stack_trace\u001b[39m=\u001b[39mtraceback\u001b[39m.\u001b[39mformat_exc(),\n\u001b[1;32m   1115\u001b[0m )\n\u001b[0;32m-> 1116\u001b[0m \u001b[39mraise\u001b[39;00m err\n",
      "File \u001b[0;32m/opt/homebrew/lib/python3.9/site-packages/snowflake/connector/network.py:1047\u001b[0m, in \u001b[0;36mSnowflakeRestful._request_exec\u001b[0;34m(self, session, method, full_url, headers, data, token, catch_okta_unauthorized_error, is_raw_text, is_raw_binary, binary_data_handler, socket_timeout)\u001b[0m\n\u001b[1;32m   1046\u001b[0m     \u001b[39m# retryable server exceptions\u001b[39;00m\n\u001b[0;32m-> 1047\u001b[0m     \u001b[39mraise\u001b[39;00m RetryRequest(error)\n\u001b[1;32m   1049\u001b[0m \u001b[39melif\u001b[39;00m (\n\u001b[1;32m   1050\u001b[0m     raw_ret\u001b[39m.\u001b[39mstatus_code \u001b[39m==\u001b[39m UNAUTHORIZED\n\u001b[1;32m   1051\u001b[0m     \u001b[39mand\u001b[39;00m catch_okta_unauthorized_error\n\u001b[1;32m   1052\u001b[0m ):\n\u001b[1;32m   1053\u001b[0m     \u001b[39m# OKTA Unauthorized errors\u001b[39;00m\n",
      "\u001b[0;31mRetryRequest\u001b[0m: 000403: HTTP 403: Forbidden",
      "\nDuring handling of the above exception, another exception occurred:\n",
      "\u001b[0;31mForbiddenError\u001b[0m                            Traceback (most recent call last)",
      "File \u001b[0;32m/opt/homebrew/lib/python3.9/site-packages/snowflake/connector/auth.py:257\u001b[0m, in \u001b[0;36mAuth.authenticate\u001b[0;34m(self, auth_instance, account, user, database, schema, warehouse, role, passcode, passcode_in_password, mfa_callback, password_callback, session_parameters, timeout)\u001b[0m\n\u001b[1;32m    256\u001b[0m \u001b[39mtry\u001b[39;00m:\n\u001b[0;32m--> 257\u001b[0m     ret \u001b[39m=\u001b[39m \u001b[39mself\u001b[39;49m\u001b[39m.\u001b[39;49m_rest\u001b[39m.\u001b[39;49m_post_request(\n\u001b[1;32m    258\u001b[0m         url,\n\u001b[1;32m    259\u001b[0m         headers,\n\u001b[1;32m    260\u001b[0m         json\u001b[39m.\u001b[39;49mdumps(body),\n\u001b[1;32m    261\u001b[0m         timeout\u001b[39m=\u001b[39;49mauth_timeout,\n\u001b[1;32m    262\u001b[0m         socket_timeout\u001b[39m=\u001b[39;49mauth_timeout,\n\u001b[1;32m    263\u001b[0m     )\n\u001b[1;32m    264\u001b[0m \u001b[39mexcept\u001b[39;00m ForbiddenError \u001b[39mas\u001b[39;00m err:\n\u001b[1;32m    265\u001b[0m     \u001b[39m# HTTP 403\u001b[39;00m\n",
      "File \u001b[0;32m/opt/homebrew/lib/python3.9/site-packages/snowflake/connector/network.py:704\u001b[0m, in \u001b[0;36mSnowflakeRestful._post_request\u001b[0;34m(self, url, headers, body, token, timeout, _no_results, no_retry, socket_timeout, _include_retry_params)\u001b[0m\n\u001b[1;32m    702\u001b[0m     pprint(ret)\n\u001b[0;32m--> 704\u001b[0m ret \u001b[39m=\u001b[39m \u001b[39mself\u001b[39;49m\u001b[39m.\u001b[39;49mfetch(\n\u001b[1;32m    705\u001b[0m     \u001b[39m\"\u001b[39;49m\u001b[39mpost\u001b[39;49m\u001b[39m\"\u001b[39;49m,\n\u001b[1;32m    706\u001b[0m     full_url,\n\u001b[1;32m    707\u001b[0m     headers,\n\u001b[1;32m    708\u001b[0m     data\u001b[39m=\u001b[39;49mbody,\n\u001b[1;32m    709\u001b[0m     timeout\u001b[39m=\u001b[39;49mtimeout,\n\u001b[1;32m    710\u001b[0m     token\u001b[39m=\u001b[39;49mtoken,\n\u001b[1;32m    711\u001b[0m     no_retry\u001b[39m=\u001b[39;49mno_retry,\n\u001b[1;32m    712\u001b[0m     socket_timeout\u001b[39m=\u001b[39;49msocket_timeout,\n\u001b[1;32m    713\u001b[0m     _include_retry_params\u001b[39m=\u001b[39;49m_include_retry_params,\n\u001b[1;32m    714\u001b[0m )\n\u001b[1;32m    715\u001b[0m logger\u001b[39m.\u001b[39mdebug(\n\u001b[1;32m    716\u001b[0m     \u001b[39m\"\u001b[39m\u001b[39mret[code] = \u001b[39m\u001b[39m{code}\u001b[39;00m\u001b[39m, after post request\u001b[39m\u001b[39m\"\u001b[39m\u001b[39m.\u001b[39mformat(\n\u001b[1;32m    717\u001b[0m         code\u001b[39m=\u001b[39m(ret\u001b[39m.\u001b[39mget(\u001b[39m\"\u001b[39m\u001b[39mcode\u001b[39m\u001b[39m\"\u001b[39m, \u001b[39m\"\u001b[39m\u001b[39mN/A\u001b[39m\u001b[39m\"\u001b[39m))\n\u001b[1;32m    718\u001b[0m     )\n\u001b[1;32m    719\u001b[0m )\n",
      "File \u001b[0;32m/opt/homebrew/lib/python3.9/site-packages/snowflake/connector/network.py:794\u001b[0m, in \u001b[0;36mSnowflakeRestful.fetch\u001b[0;34m(self, method, full_url, headers, data, timeout, **kwargs)\u001b[0m\n\u001b[1;32m    793\u001b[0m \u001b[39mwhile\u001b[39;00m \u001b[39mTrue\u001b[39;00m:\n\u001b[0;32m--> 794\u001b[0m     ret \u001b[39m=\u001b[39m \u001b[39mself\u001b[39;49m\u001b[39m.\u001b[39;49m_request_exec_wrapper(\n\u001b[1;32m    795\u001b[0m         session, method, full_url, headers, data, retry_ctx, \u001b[39m*\u001b[39;49m\u001b[39m*\u001b[39;49mkwargs\n\u001b[1;32m    796\u001b[0m     )\n\u001b[1;32m    797\u001b[0m     \u001b[39mif\u001b[39;00m ret \u001b[39mis\u001b[39;00m \u001b[39mnot\u001b[39;00m \u001b[39mNone\u001b[39;00m:\n",
      "File \u001b[0;32m/opt/homebrew/lib/python3.9/site-packages/snowflake/connector/network.py:890\u001b[0m, in \u001b[0;36mSnowflakeRestful._request_exec_wrapper\u001b[0;34m(self, session, method, full_url, headers, data, retry_ctx, no_retry, token, **kwargs)\u001b[0m\n\u001b[1;32m    889\u001b[0m \u001b[39mif\u001b[39;00m retry_ctx\u001b[39m.\u001b[39mtimeout \u001b[39m<\u001b[39m\u001b[39m=\u001b[39m \u001b[39m0\u001b[39m:\n\u001b[0;32m--> 890\u001b[0m     \u001b[39mself\u001b[39;49m\u001b[39m.\u001b[39;49mlog_and_handle_http_error_with_cause(\n\u001b[1;32m    891\u001b[0m         e,\n\u001b[1;32m    892\u001b[0m         full_url,\n\u001b[1;32m    893\u001b[0m         method,\n\u001b[1;32m    894\u001b[0m         retry_ctx\u001b[39m.\u001b[39;49mtotal_timeout,\n\u001b[1;32m    895\u001b[0m         retry_ctx\u001b[39m.\u001b[39;49mcnt,\n\u001b[1;32m    896\u001b[0m         conn,\n\u001b[1;32m    897\u001b[0m     )\n\u001b[1;32m    898\u001b[0m     \u001b[39mreturn\u001b[39;00m {}  \u001b[39m# required for tests\u001b[39;00m\n",
      "File \u001b[0;32m/opt/homebrew/lib/python3.9/site-packages/snowflake/connector/network.py:945\u001b[0m, in \u001b[0;36mSnowflakeRestful.log_and_handle_http_error_with_cause\u001b[0;34m(self, e, full_url, method, retry_timeout, retry_count, conn, timed_out)\u001b[0m\n\u001b[1;32m    944\u001b[0m \u001b[39mif\u001b[39;00m \u001b[39misinstance\u001b[39m(cause, Error):\n\u001b[0;32m--> 945\u001b[0m     Error\u001b[39m.\u001b[39;49merrorhandler_wrapper_from_cause(conn, cause)\n\u001b[1;32m    946\u001b[0m \u001b[39melse\u001b[39;00m:\n",
      "File \u001b[0;32m/opt/homebrew/lib/python3.9/site-packages/snowflake/connector/errors.py:240\u001b[0m, in \u001b[0;36mError.errorhandler_wrapper_from_cause\u001b[0;34m(connection, cause, cursor)\u001b[0m\n\u001b[1;32m    225\u001b[0m \u001b[39m\"\"\"Wrapper for errorhandler_wrapper, it is called with a cause instead of a dictionary.\u001b[39;00m\n\u001b[1;32m    226\u001b[0m \n\u001b[1;32m    227\u001b[0m \u001b[39mThe dictionary is first extracted from the cause and then it's given to errorhandler_wrapper\u001b[39;00m\n\u001b[0;32m   (...)\u001b[0m\n\u001b[1;32m    238\u001b[0m \u001b[39m    A Snowflake error if connection and cursor are None.\u001b[39;00m\n\u001b[1;32m    239\u001b[0m \u001b[39m\"\"\"\u001b[39;00m\n\u001b[0;32m--> 240\u001b[0m \u001b[39mreturn\u001b[39;00m Error\u001b[39m.\u001b[39;49merrorhandler_wrapper(\n\u001b[1;32m    241\u001b[0m     connection,\n\u001b[1;32m    242\u001b[0m     cursor,\n\u001b[1;32m    243\u001b[0m     \u001b[39mtype\u001b[39;49m(cause),\n\u001b[1;32m    244\u001b[0m     {\n\u001b[1;32m    245\u001b[0m         \u001b[39m\"\u001b[39;49m\u001b[39mmsg\u001b[39;49m\u001b[39m\"\u001b[39;49m: cause\u001b[39m.\u001b[39;49mmsg,\n\u001b[1;32m    246\u001b[0m         \u001b[39m\"\u001b[39;49m\u001b[39merrno\u001b[39;49m\u001b[39m\"\u001b[39;49m: cause\u001b[39m.\u001b[39;49merrno,\n\u001b[1;32m    247\u001b[0m         \u001b[39m\"\u001b[39;49m\u001b[39msqlstate\u001b[39;49m\u001b[39m\"\u001b[39;49m: cause\u001b[39m.\u001b[39;49msqlstate,\n\u001b[1;32m    248\u001b[0m         \u001b[39m\"\u001b[39;49m\u001b[39mdone_format_msg\u001b[39;49m\u001b[39m\"\u001b[39;49m: \u001b[39mTrue\u001b[39;49;00m,\n\u001b[1;32m    249\u001b[0m     },\n\u001b[1;32m    250\u001b[0m )\n",
      "File \u001b[0;32m/opt/homebrew/lib/python3.9/site-packages/snowflake/connector/errors.py:275\u001b[0m, in \u001b[0;36mError.errorhandler_wrapper\u001b[0;34m(connection, cursor, error_class, error_value)\u001b[0m\n\u001b[1;32m    259\u001b[0m \u001b[39m\"\"\"Error handler wrapper that calls the errorhandler method.\u001b[39;00m\n\u001b[1;32m    260\u001b[0m \n\u001b[1;32m    261\u001b[0m \u001b[39mArgs:\u001b[39;00m\n\u001b[0;32m   (...)\u001b[0m\n\u001b[1;32m    272\u001b[0m \u001b[39m    exception to the first handler in that order.\u001b[39;00m\n\u001b[1;32m    273\u001b[0m \u001b[39m\"\"\"\u001b[39;00m\n\u001b[0;32m--> 275\u001b[0m handed_over \u001b[39m=\u001b[39m Error\u001b[39m.\u001b[39;49mhand_to_other_handler(\n\u001b[1;32m    276\u001b[0m     connection,\n\u001b[1;32m    277\u001b[0m     cursor,\n\u001b[1;32m    278\u001b[0m     error_class,\n\u001b[1;32m    279\u001b[0m     error_value,\n\u001b[1;32m    280\u001b[0m )\n\u001b[1;32m    281\u001b[0m \u001b[39mif\u001b[39;00m \u001b[39mnot\u001b[39;00m handed_over:\n",
      "File \u001b[0;32m/opt/homebrew/lib/python3.9/site-packages/snowflake/connector/errors.py:333\u001b[0m, in \u001b[0;36mError.hand_to_other_handler\u001b[0;34m(connection, cursor, error_class, error_value)\u001b[0m\n\u001b[1;32m    332\u001b[0m \u001b[39melif\u001b[39;00m connection \u001b[39mis\u001b[39;00m \u001b[39mnot\u001b[39;00m \u001b[39mNone\u001b[39;00m:\n\u001b[0;32m--> 333\u001b[0m     connection\u001b[39m.\u001b[39;49merrorhandler(connection, cursor, error_class, error_value)\n\u001b[1;32m    334\u001b[0m     \u001b[39mreturn\u001b[39;00m \u001b[39mTrue\u001b[39;00m\n",
      "File \u001b[0;32m/opt/homebrew/lib/python3.9/site-packages/snowflake/connector/errors.py:209\u001b[0m, in \u001b[0;36mError.default_errorhandler\u001b[0;34m(connection, cursor, error_class, error_value)\u001b[0m\n\u001b[1;32m    198\u001b[0m \u001b[39m\"\"\"Default error handler that raises an error.\u001b[39;00m\n\u001b[1;32m    199\u001b[0m \n\u001b[1;32m    200\u001b[0m \u001b[39mArgs:\u001b[39;00m\n\u001b[0;32m   (...)\u001b[0m\n\u001b[1;32m    207\u001b[0m \u001b[39m    A Snowflake error.\u001b[39;00m\n\u001b[1;32m    208\u001b[0m \u001b[39m\"\"\"\u001b[39;00m\n\u001b[0;32m--> 209\u001b[0m \u001b[39mraise\u001b[39;00m error_class(\n\u001b[1;32m    210\u001b[0m     msg\u001b[39m=\u001b[39merror_value\u001b[39m.\u001b[39mget(\u001b[39m\"\u001b[39m\u001b[39mmsg\u001b[39m\u001b[39m\"\u001b[39m),\n\u001b[1;32m    211\u001b[0m     errno\u001b[39m=\u001b[39merror_value\u001b[39m.\u001b[39mget(\u001b[39m\"\u001b[39m\u001b[39merrno\u001b[39m\u001b[39m\"\u001b[39m),\n\u001b[1;32m    212\u001b[0m     sqlstate\u001b[39m=\u001b[39merror_value\u001b[39m.\u001b[39mget(\u001b[39m\"\u001b[39m\u001b[39msqlstate\u001b[39m\u001b[39m\"\u001b[39m),\n\u001b[1;32m    213\u001b[0m     sfqid\u001b[39m=\u001b[39merror_value\u001b[39m.\u001b[39mget(\u001b[39m\"\u001b[39m\u001b[39msfqid\u001b[39m\u001b[39m\"\u001b[39m),\n\u001b[1;32m    214\u001b[0m     done_format_msg\u001b[39m=\u001b[39merror_value\u001b[39m.\u001b[39mget(\u001b[39m\"\u001b[39m\u001b[39mdone_format_msg\u001b[39m\u001b[39m\"\u001b[39m),\n\u001b[1;32m    215\u001b[0m     connection\u001b[39m=\u001b[39mconnection,\n\u001b[1;32m    216\u001b[0m     cursor\u001b[39m=\u001b[39mcursor,\n\u001b[1;32m    217\u001b[0m )\n",
      "\u001b[0;31mForbiddenError\u001b[0m: 000403: HTTP 403: Forbidden",
      "\nDuring handling of the above exception, another exception occurred:\n",
      "\u001b[0;31mForbiddenError\u001b[0m                            Traceback (most recent call last)",
      "\u001b[1;32m/Users/yusraanshoor/Documents/Sigmalabs/deloton-group-project/snowflake/snowflake.ipynb Cell 5\u001b[0m in \u001b[0;36m<cell line: 1>\u001b[0;34m()\u001b[0m\n\u001b[0;32m----> <a href='vscode-notebook-cell:/Users/yusraanshoor/Documents/Sigmalabs/deloton-group-project/snowflake/snowflake.ipynb#W1sZmlsZQ%3D%3D?line=0'>1</a>\u001b[0m conn \u001b[39m=\u001b[39m snowflake\u001b[39m.\u001b[39;49mconnector\u001b[39m.\u001b[39;49mconnect(\n\u001b[1;32m      <a href='vscode-notebook-cell:/Users/yusraanshoor/Documents/Sigmalabs/deloton-group-project/snowflake/snowflake.ipynb#W1sZmlsZQ%3D%3D?line=1'>2</a>\u001b[0m     user\u001b[39m=\u001b[39;49m USER,\n\u001b[1;32m      <a href='vscode-notebook-cell:/Users/yusraanshoor/Documents/Sigmalabs/deloton-group-project/snowflake/snowflake.ipynb#W1sZmlsZQ%3D%3D?line=2'>3</a>\u001b[0m     account\u001b[39m=\u001b[39;49m ACCOUNT,\n\u001b[1;32m      <a href='vscode-notebook-cell:/Users/yusraanshoor/Documents/Sigmalabs/deloton-group-project/snowflake/snowflake.ipynb#W1sZmlsZQ%3D%3D?line=3'>4</a>\u001b[0m     password\u001b[39m=\u001b[39;49m PASSWORD,\n\u001b[1;32m      <a href='vscode-notebook-cell:/Users/yusraanshoor/Documents/Sigmalabs/deloton-group-project/snowflake/snowflake.ipynb#W1sZmlsZQ%3D%3D?line=4'>5</a>\u001b[0m     warehouse\u001b[39m=\u001b[39;49m WAREHOUSE,\n\u001b[1;32m      <a href='vscode-notebook-cell:/Users/yusraanshoor/Documents/Sigmalabs/deloton-group-project/snowflake/snowflake.ipynb#W1sZmlsZQ%3D%3D?line=5'>6</a>\u001b[0m     database\u001b[39m=\u001b[39;49m DATABASE,\n\u001b[1;32m      <a href='vscode-notebook-cell:/Users/yusraanshoor/Documents/Sigmalabs/deloton-group-project/snowflake/snowflake.ipynb#W1sZmlsZQ%3D%3D?line=6'>7</a>\u001b[0m     schema\u001b[39m=\u001b[39;49m SCHEMA,\n\u001b[1;32m      <a href='vscode-notebook-cell:/Users/yusraanshoor/Documents/Sigmalabs/deloton-group-project/snowflake/snowflake.ipynb#W1sZmlsZQ%3D%3D?line=7'>8</a>\u001b[0m )\n\u001b[1;32m      <a href='vscode-notebook-cell:/Users/yusraanshoor/Documents/Sigmalabs/deloton-group-project/snowflake/snowflake.ipynb#W1sZmlsZQ%3D%3D?line=8'>9</a>\u001b[0m cs \u001b[39m=\u001b[39m conn\u001b[39m.\u001b[39mcursor()\n",
      "File \u001b[0;32m/opt/homebrew/lib/python3.9/site-packages/snowflake/connector/__init__.py:51\u001b[0m, in \u001b[0;36mConnect\u001b[0;34m(**kwargs)\u001b[0m\n\u001b[1;32m     50\u001b[0m \u001b[39mdef\u001b[39;00m \u001b[39mConnect\u001b[39m(\u001b[39m*\u001b[39m\u001b[39m*\u001b[39mkwargs) \u001b[39m-\u001b[39m\u001b[39m>\u001b[39m SnowflakeConnection:\n\u001b[0;32m---> 51\u001b[0m     \u001b[39mreturn\u001b[39;00m SnowflakeConnection(\u001b[39m*\u001b[39;49m\u001b[39m*\u001b[39;49mkwargs)\n",
      "File \u001b[0;32m/opt/homebrew/lib/python3.9/site-packages/snowflake/connector/connection.py:296\u001b[0m, in \u001b[0;36mSnowflakeConnection.__init__\u001b[0;34m(self, **kwargs)\u001b[0m\n\u001b[1;32m    294\u001b[0m \u001b[39mself\u001b[39m\u001b[39m.\u001b[39mconverter \u001b[39m=\u001b[39m \u001b[39mNone\u001b[39;00m\n\u001b[1;32m    295\u001b[0m \u001b[39mself\u001b[39m\u001b[39m.\u001b[39m__set_error_attributes()\n\u001b[0;32m--> 296\u001b[0m \u001b[39mself\u001b[39;49m\u001b[39m.\u001b[39;49mconnect(\u001b[39m*\u001b[39;49m\u001b[39m*\u001b[39;49mkwargs)\n\u001b[1;32m    297\u001b[0m \u001b[39mself\u001b[39m\u001b[39m.\u001b[39m_telemetry \u001b[39m=\u001b[39m TelemetryClient(\u001b[39mself\u001b[39m\u001b[39m.\u001b[39m_rest)\n\u001b[1;32m    299\u001b[0m \u001b[39m# get the imported modules from sys.modules\u001b[39;00m\n",
      "File \u001b[0;32m/opt/homebrew/lib/python3.9/site-packages/snowflake/connector/connection.py:549\u001b[0m, in \u001b[0;36mSnowflakeConnection.connect\u001b[0;34m(self, **kwargs)\u001b[0m\n\u001b[1;32m    547\u001b[0m         connection_diag\u001b[39m.\u001b[39mgenerate_report()\n\u001b[1;32m    548\u001b[0m \u001b[39melse\u001b[39;00m:\n\u001b[0;32m--> 549\u001b[0m     \u001b[39mself\u001b[39;49m\u001b[39m.\u001b[39;49m__open_connection()\n",
      "File \u001b[0;32m/opt/homebrew/lib/python3.9/site-packages/snowflake/connector/connection.py:788\u001b[0m, in \u001b[0;36mSnowflakeConnection.__open_connection\u001b[0;34m(self)\u001b[0m\n\u001b[1;32m    786\u001b[0m auth \u001b[39m=\u001b[39m Auth(\u001b[39mself\u001b[39m\u001b[39m.\u001b[39mrest)\n\u001b[1;32m    787\u001b[0m auth\u001b[39m.\u001b[39mread_temporary_credentials(\u001b[39mself\u001b[39m\u001b[39m.\u001b[39mhost, \u001b[39mself\u001b[39m\u001b[39m.\u001b[39muser, \u001b[39mself\u001b[39m\u001b[39m.\u001b[39m_session_parameters)\n\u001b[0;32m--> 788\u001b[0m \u001b[39mself\u001b[39;49m\u001b[39m.\u001b[39;49m_authenticate(auth_instance)\n\u001b[1;32m    790\u001b[0m \u001b[39mself\u001b[39m\u001b[39m.\u001b[39m_password \u001b[39m=\u001b[39m \u001b[39mNone\u001b[39;00m  \u001b[39m# ensure password won't persist\u001b[39;00m\n\u001b[1;32m    792\u001b[0m \u001b[39mif\u001b[39;00m \u001b[39mself\u001b[39m\u001b[39m.\u001b[39mclient_session_keep_alive:\n\u001b[1;32m    793\u001b[0m     \u001b[39m# This will be called after the heartbeat frequency has actually been set.\u001b[39;00m\n\u001b[1;32m    794\u001b[0m     \u001b[39m# By this point it should have been decided if the heartbeat has to be enabled\u001b[39;00m\n\u001b[1;32m    795\u001b[0m     \u001b[39m# and what would the heartbeat frequency be\u001b[39;00m\n",
      "File \u001b[0;32m/opt/homebrew/lib/python3.9/site-packages/snowflake/connector/connection.py:1051\u001b[0m, in \u001b[0;36mSnowflakeConnection._authenticate\u001b[0;34m(self, auth_instance)\u001b[0m\n\u001b[1;32m   1048\u001b[0m \u001b[39mdef\u001b[39;00m \u001b[39m_authenticate\u001b[39m(\u001b[39mself\u001b[39m, auth_instance):\n\u001b[1;32m   1049\u001b[0m     \u001b[39m# make some changes if needed before real __authenticate\u001b[39;00m\n\u001b[1;32m   1050\u001b[0m     \u001b[39mtry\u001b[39;00m:\n\u001b[0;32m-> 1051\u001b[0m         \u001b[39mself\u001b[39;49m\u001b[39m.\u001b[39;49m__authenticate(\u001b[39mself\u001b[39;49m\u001b[39m.\u001b[39;49m__preprocess_auth_instance(auth_instance))\n\u001b[1;32m   1052\u001b[0m     \u001b[39mexcept\u001b[39;00m ReauthenticationRequest \u001b[39mas\u001b[39;00m ex:\n\u001b[1;32m   1053\u001b[0m         \u001b[39m# cached id_token expiration error, we have cleaned id_token and try to authenticate again\u001b[39;00m\n\u001b[1;32m   1054\u001b[0m         logger\u001b[39m.\u001b[39mdebug(\u001b[39m\"\u001b[39m\u001b[39mID token expired. Reauthenticating...: \u001b[39m\u001b[39m%s\u001b[39;00m\u001b[39m\"\u001b[39m, ex)\n",
      "File \u001b[0;32m/opt/homebrew/lib/python3.9/site-packages/snowflake/connector/connection.py:1071\u001b[0m, in \u001b[0;36mSnowflakeConnection.__authenticate\u001b[0;34m(self, auth_instance)\u001b[0m\n\u001b[1;32m   1069\u001b[0m auth \u001b[39m=\u001b[39m Auth(\u001b[39mself\u001b[39m\u001b[39m.\u001b[39mrest)\n\u001b[1;32m   1070\u001b[0m \u001b[39mtry\u001b[39;00m:\n\u001b[0;32m-> 1071\u001b[0m     auth\u001b[39m.\u001b[39;49mauthenticate(\n\u001b[1;32m   1072\u001b[0m         auth_instance\u001b[39m=\u001b[39;49mauth_instance,\n\u001b[1;32m   1073\u001b[0m         account\u001b[39m=\u001b[39;49m\u001b[39mself\u001b[39;49m\u001b[39m.\u001b[39;49maccount,\n\u001b[1;32m   1074\u001b[0m         user\u001b[39m=\u001b[39;49m\u001b[39mself\u001b[39;49m\u001b[39m.\u001b[39;49muser,\n\u001b[1;32m   1075\u001b[0m         database\u001b[39m=\u001b[39;49m\u001b[39mself\u001b[39;49m\u001b[39m.\u001b[39;49mdatabase,\n\u001b[1;32m   1076\u001b[0m         schema\u001b[39m=\u001b[39;49m\u001b[39mself\u001b[39;49m\u001b[39m.\u001b[39;49mschema,\n\u001b[1;32m   1077\u001b[0m         warehouse\u001b[39m=\u001b[39;49m\u001b[39mself\u001b[39;49m\u001b[39m.\u001b[39;49mwarehouse,\n\u001b[1;32m   1078\u001b[0m         role\u001b[39m=\u001b[39;49m\u001b[39mself\u001b[39;49m\u001b[39m.\u001b[39;49mrole,\n\u001b[1;32m   1079\u001b[0m         passcode\u001b[39m=\u001b[39;49m\u001b[39mself\u001b[39;49m\u001b[39m.\u001b[39;49m_passcode,\n\u001b[1;32m   1080\u001b[0m         passcode_in_password\u001b[39m=\u001b[39;49m\u001b[39mself\u001b[39;49m\u001b[39m.\u001b[39;49m_passcode_in_password,\n\u001b[1;32m   1081\u001b[0m         mfa_callback\u001b[39m=\u001b[39;49m\u001b[39mself\u001b[39;49m\u001b[39m.\u001b[39;49m_mfa_callback,\n\u001b[1;32m   1082\u001b[0m         password_callback\u001b[39m=\u001b[39;49m\u001b[39mself\u001b[39;49m\u001b[39m.\u001b[39;49m_password_callback,\n\u001b[1;32m   1083\u001b[0m         session_parameters\u001b[39m=\u001b[39;49m\u001b[39mself\u001b[39;49m\u001b[39m.\u001b[39;49m_session_parameters,\n\u001b[1;32m   1084\u001b[0m     )\n\u001b[1;32m   1085\u001b[0m \u001b[39mexcept\u001b[39;00m OperationalError:\n\u001b[1;32m   1086\u001b[0m     logger\u001b[39m.\u001b[39mdebug(\n\u001b[1;32m   1087\u001b[0m         \u001b[39m\"\u001b[39m\u001b[39mOperational Error raised at authentication\u001b[39m\u001b[39m\"\u001b[39m\n\u001b[1;32m   1088\u001b[0m         \u001b[39mf\u001b[39m\u001b[39m\"\u001b[39m\u001b[39mfor authenticator: \u001b[39m\u001b[39m{\u001b[39;00m\u001b[39mtype\u001b[39m(auth_instance)\u001b[39m.\u001b[39m\u001b[39m__name__\u001b[39m\u001b[39m}\u001b[39;00m\u001b[39m\"\u001b[39m\n\u001b[1;32m   1089\u001b[0m     )\n",
      "File \u001b[0;32m/opt/homebrew/lib/python3.9/site-packages/snowflake/connector/auth.py:266\u001b[0m, in \u001b[0;36mAuth.authenticate\u001b[0;34m(self, auth_instance, account, user, database, schema, warehouse, role, passcode, passcode_in_password, mfa_callback, password_callback, session_parameters, timeout)\u001b[0m\n\u001b[1;32m    257\u001b[0m     ret \u001b[39m=\u001b[39m \u001b[39mself\u001b[39m\u001b[39m.\u001b[39m_rest\u001b[39m.\u001b[39m_post_request(\n\u001b[1;32m    258\u001b[0m         url,\n\u001b[1;32m    259\u001b[0m         headers,\n\u001b[0;32m   (...)\u001b[0m\n\u001b[1;32m    262\u001b[0m         socket_timeout\u001b[39m=\u001b[39mauth_timeout,\n\u001b[1;32m    263\u001b[0m     )\n\u001b[1;32m    264\u001b[0m \u001b[39mexcept\u001b[39;00m ForbiddenError \u001b[39mas\u001b[39;00m err:\n\u001b[1;32m    265\u001b[0m     \u001b[39m# HTTP 403\u001b[39;00m\n\u001b[0;32m--> 266\u001b[0m     \u001b[39mraise\u001b[39;00m err\u001b[39m.\u001b[39m\u001b[39m__class__\u001b[39m(\n\u001b[1;32m    267\u001b[0m         msg\u001b[39m=\u001b[39m(\n\u001b[1;32m    268\u001b[0m             \u001b[39m\"\u001b[39m\u001b[39mFailed to connect to DB. \u001b[39m\u001b[39m\"\u001b[39m\n\u001b[1;32m    269\u001b[0m             \u001b[39m\"\u001b[39m\u001b[39mVerify the account name is correct: \u001b[39m\u001b[39m{host}\u001b[39;00m\u001b[39m:\u001b[39m\u001b[39m{port}\u001b[39;00m\u001b[39m. \u001b[39m\u001b[39m\"\u001b[39m\n\u001b[1;32m    270\u001b[0m             \u001b[39m\"\u001b[39m\u001b[39m{message}\u001b[39;00m\u001b[39m\"\u001b[39m\n\u001b[1;32m    271\u001b[0m         )\u001b[39m.\u001b[39mformat(\n\u001b[1;32m    272\u001b[0m             host\u001b[39m=\u001b[39m\u001b[39mself\u001b[39m\u001b[39m.\u001b[39m_rest\u001b[39m.\u001b[39m_host, port\u001b[39m=\u001b[39m\u001b[39mself\u001b[39m\u001b[39m.\u001b[39m_rest\u001b[39m.\u001b[39m_port, message\u001b[39m=\u001b[39m\u001b[39mstr\u001b[39m(err)\n\u001b[1;32m    273\u001b[0m         ),\n\u001b[1;32m    274\u001b[0m         errno\u001b[39m=\u001b[39mER_FAILED_TO_CONNECT_TO_DB,\n\u001b[1;32m    275\u001b[0m         sqlstate\u001b[39m=\u001b[39mSQLSTATE_CONNECTION_WAS_NOT_ESTABLISHED,\n\u001b[1;32m    276\u001b[0m     )\n\u001b[1;32m    277\u001b[0m \u001b[39mexcept\u001b[39;00m (ServiceUnavailableError, BadGatewayError) \u001b[39mas\u001b[39;00m err:\n\u001b[1;32m    278\u001b[0m     \u001b[39m# HTTP 502/504\u001b[39;00m\n\u001b[1;32m    279\u001b[0m     \u001b[39mraise\u001b[39;00m err\u001b[39m.\u001b[39m\u001b[39m__class__\u001b[39m(\n\u001b[1;32m    280\u001b[0m         msg\u001b[39m=\u001b[39m(\n\u001b[1;32m    281\u001b[0m             \u001b[39m\"\u001b[39m\u001b[39mFailed to connect to DB. \u001b[39m\u001b[39m\"\u001b[39m\n\u001b[0;32m   (...)\u001b[0m\n\u001b[1;32m    288\u001b[0m         sqlstate\u001b[39m=\u001b[39mSQLSTATE_CONNECTION_WAS_NOT_ESTABLISHED,\n\u001b[1;32m    289\u001b[0m     )\n",
      "\u001b[0;31mForbiddenError\u001b[0m: 250001 (08001): Failed to connect to DB. Verify the account name is correct: rf77926.eu-west-2.snowflakecomputing.com:443. 000403: HTTP 403: Forbidden"
     ]
    }
   ],
   "source": [
    "conn = snowflake.connector.connect(\n",
    "    user= USER,\n",
    "    account= ACCOUNT,\n",
    "    password= PASSWORD,\n",
    "    warehouse= WAREHOUSE,\n",
    "    database= DATABASE,\n",
    "    schema= SCHEMA,\n",
    ")\n",
    "cs = conn.cursor()"
   ]
  }
 ],
 "metadata": {
  "kernelspec": {
   "display_name": "Python 3.9.13 64-bit",
   "language": "python",
   "name": "python3"
  },
  "language_info": {
   "codemirror_mode": {
    "name": "ipython",
    "version": 3
   },
   "file_extension": ".py",
   "mimetype": "text/x-python",
   "name": "python",
   "nbconvert_exporter": "python",
   "pygments_lexer": "ipython3",
   "version": "3.9.13"
  },
  "orig_nbformat": 4,
  "vscode": {
   "interpreter": {
    "hash": "b0fa6594d8f4cbf19f97940f81e996739fb7646882a419484c72d19e05852a7e"
   }
  }
 },
 "nbformat": 4,
 "nbformat_minor": 2
}
