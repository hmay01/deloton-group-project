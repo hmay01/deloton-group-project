{
 "cells": [
  {
   "cell_type": "code",
   "execution_count": 1,
   "metadata": {},
   "outputs": [
    {
     "name": "stdout",
     "output_type": "stream",
     "text": [
      "skipping\n"
     ]
    }
   ],
   "source": [
    "%%script echo skipping\n",
    "%pip install snowflake-connector-python\n",
    "%pip install pyarrow\n",
    "%pip install pandas"
   ]
  },
  {
   "cell_type": "code",
   "execution_count": 2,
   "metadata": {},
   "outputs": [
    {
     "name": "stderr",
     "output_type": "stream",
     "text": [
      "/opt/homebrew/lib/python3.9/site-packages/snowflake/connector/options.py:96: UserWarning: You have an incompatible version of 'pyarrow' installed (9.0.0), please install a version that adheres to: 'pyarrow<8.1.0,>=8.0.0; extra == \"pandas\"'\n",
      "  warn_incompatible_dep(\n"
     ]
    }
   ],
   "source": [
    "import os\n",
    "import pandas as pd\n",
    "import snowflake.connector\n",
    "from dotenv import load_dotenv"
   ]
  },
  {
   "cell_type": "code",
   "execution_count": 3,
   "metadata": {},
   "outputs": [
    {
     "data": {
      "text/plain": [
       "True"
      ]
     },
     "execution_count": 3,
     "metadata": {},
     "output_type": "execute_result"
    }
   ],
   "source": [
    "load_dotenv()"
   ]
  },
  {
   "cell_type": "code",
   "execution_count": 4,
   "metadata": {},
   "outputs": [],
   "source": [
    "SNOW_USER = os.environ['SNOW_USER']\n",
    "ACCOUNT = os.environ['ACCOUNT']\n",
    "PASSWORD = os.environ['PASSWORD']\n",
    "WAREHOUSE = os.environ['WAREHOUSE']\n",
    "DATABASE = os.environ['DATABASE']\n",
    "SIGMA_SCHEMA = os.environ['SIGMA_SCHEMA']\n",
    "STAGING_SCHEMA = os.environ['STAGING_SCHEMA']\n"
   ]
  },
  {
   "cell_type": "code",
   "execution_count": 5,
   "metadata": {},
   "outputs": [],
   "source": [
    "def connect_to_snowflake() -> snowflake.connector.cursor:\n",
    "    \"\"\"\n",
    "    Connecting to the snowflake database\n",
    "    \"\"\"\n",
    "    conn = snowflake.connector.connect(\n",
    "        user= SNOW_USER,\n",
    "        account= ACCOUNT,\n",
    "        password= PASSWORD,\n",
    "        warehouse= WAREHOUSE,\n",
    "        database= DATABASE,\n",
    "    )\n",
    "    return conn.cursor()"
   ]
  },
  {
   "cell_type": "code",
   "execution_count": 6,
   "metadata": {},
   "outputs": [],
   "source": [
    "def show_schemas(cs:snowflake.connector.cursor) -> list:\n",
    "    \"\"\" \n",
    "    Check which schemas are in our database\n",
    "    \"\"\"\n",
    "    return cs.execute(\"SHOW SCHEMAS;\").fetchall()"
   ]
  },
  {
   "cell_type": "code",
   "execution_count": 7,
   "metadata": {},
   "outputs": [],
   "source": [
    "def create_staging_schema(cs:snowflake.connector.cursor):\n",
    "    \"\"\" \n",
    "    Adds the staging schema to the database\n",
    "    \"\"\"\n",
    "    cs.execute(f\"CREATE SCHEMA IF NOT EXISTS {STAGING_SCHEMA}\")\n"
   ]
  },
  {
   "cell_type": "code",
   "execution_count": 8,
   "metadata": {},
   "outputs": [],
   "source": [
    "def use_staging_schema(cs:snowflake.connector.cursor):\n",
    "    \"\"\" \n",
    "    Ensure that cursor is using the staging schema\n",
    "    \"\"\"\n",
    "    cs.execute(f\"USE SCHEMA {STAGING_SCHEMA}\")"
   ]
  },
  {
   "cell_type": "code",
   "execution_count": 9,
   "metadata": {},
   "outputs": [],
   "source": [
    "def add_test_table(cs:snowflake.connector.cursor):\n",
    "    \"\"\" \n",
    "    Adding test tables to schema to make sure we are using staging schema\n",
    "    \"\"\"\n",
    "    cs.execute(\n",
    "        \"CREATE OR REPLACE TABLE test_table(col1 integer, col2 string)\")\n",
    "    cs.execute(\n",
    "        \"INSERT INTO test_table(col1, col2) VALUES(123, 'xyz'), (456, 'zyx')\")"
   ]
  },
  {
   "cell_type": "code",
   "execution_count": 10,
   "metadata": {},
   "outputs": [],
   "source": [
    "def show_tables(cs:snowflake.connector.cursor, schema) -> list:\n",
    "    \"\"\"\n",
    "    Check which tables are in the current schema the given cursor is using\n",
    "    \"\"\"\n",
    "    return cs.execute(f\"SHOW TABLES IN {schema}\").fetchall()"
   ]
  },
  {
   "cell_type": "code",
   "execution_count": 11,
   "metadata": {},
   "outputs": [],
   "source": [
    "def fetch_test_data(cs:snowflake.connector.cursor) -> pd.DataFrame:\n",
    "    \"\"\" \n",
    "    Test that insert worked and that we can start work with pandas dataframes\n",
    "    \"\"\"\n",
    "    return cs.execute(\"SELECT * FROM test_table\").fetch_pandas_all()"
   ]
  },
  {
   "cell_type": "code",
   "execution_count": 12,
   "metadata": {},
   "outputs": [
    {
     "data": {
      "text/plain": [
       "[(datetime.datetime(2022, 10, 4, 5, 16, 25, 303000, tzinfo=<DstTzInfo 'America/Los_Angeles' PDT-1 day, 17:00:00 DST>),\n",
       "  'INFORMATION_SCHEMA',\n",
       "  'N',\n",
       "  'N',\n",
       "  'DELATON',\n",
       "  '',\n",
       "  'Views describing the contents of schemas in this database',\n",
       "  '',\n",
       "  '1'),\n",
       " (datetime.datetime(2022, 9, 29, 1, 9, 6, 401000, tzinfo=<DstTzInfo 'America/Los_Angeles' PDT-1 day, 17:00:00 DST>),\n",
       "  'PUBLIC',\n",
       "  'N',\n",
       "  'N',\n",
       "  'DELATON',\n",
       "  'SYSADMIN',\n",
       "  '',\n",
       "  '',\n",
       "  '1'),\n",
       " (datetime.datetime(2022, 9, 29, 1, 9, 44, 900000, tzinfo=<DstTzInfo 'America/Los_Angeles' PDT-1 day, 17:00:00 DST>),\n",
       "  'TEC_BIKE_PRODUCTION',\n",
       "  'N',\n",
       "  'N',\n",
       "  'DELATON',\n",
       "  'SYSADMIN',\n",
       "  '',\n",
       "  '',\n",
       "  '1'),\n",
       " (datetime.datetime(2022, 10, 4, 4, 39, 6, 77000, tzinfo=<DstTzInfo 'America/Los_Angeles' PDT-1 day, 17:00:00 DST>),\n",
       "  'YUSRA_STORIES_STAGING',\n",
       "  'N',\n",
       "  'N',\n",
       "  'DELATON',\n",
       "  'SYSADMIN',\n",
       "  '',\n",
       "  '',\n",
       "  '1'),\n",
       " (datetime.datetime(2022, 10, 4, 3, 4, 46, 918000, tzinfo=<DstTzInfo 'America/Los_Angeles' PDT-1 day, 17:00:00 DST>),\n",
       "  'ZOOKEEPERS_BATCH_PRODUCTION',\n",
       "  'N',\n",
       "  'N',\n",
       "  'DELATON',\n",
       "  'SYSADMIN',\n",
       "  '',\n",
       "  '',\n",
       "  '1')]"
      ]
     },
     "execution_count": 12,
     "metadata": {},
     "output_type": "execute_result"
    }
   ],
   "source": [
    "cs = connect_to_snowflake()\n",
    "show_schemas(cs)"
   ]
  },
  {
   "cell_type": "code",
   "execution_count": 13,
   "metadata": {},
   "outputs": [],
   "source": [
    "create_staging_schema(cs)\n",
    "use_staging_schema(cs)"
   ]
  },
  {
   "cell_type": "code",
   "execution_count": 14,
   "metadata": {},
   "outputs": [
    {
     "data": {
      "text/plain": [
       "[(datetime.datetime(2022, 10, 4, 4, 39, 6, 220000, tzinfo=<DstTzInfo 'America/Los_Angeles' PDT-1 day, 17:00:00 DST>),\n",
       "  'TEST_TABLE',\n",
       "  'DELATON',\n",
       "  'YUSRA_STORIES_STAGING',\n",
       "  'TABLE',\n",
       "  '',\n",
       "  '',\n",
       "  2,\n",
       "  1024,\n",
       "  'SYSADMIN',\n",
       "  '1',\n",
       "  'OFF',\n",
       "  'OFF',\n",
       "  'N')]"
      ]
     },
     "execution_count": 14,
     "metadata": {},
     "output_type": "execute_result"
    }
   ],
   "source": [
    "show_tables(cs, STAGING_SCHEMA)"
   ]
  },
  {
   "cell_type": "code",
   "execution_count": 15,
   "metadata": {},
   "outputs": [
    {
     "data": {
      "text/html": [
       "<div>\n",
       "<style scoped>\n",
       "    .dataframe tbody tr th:only-of-type {\n",
       "        vertical-align: middle;\n",
       "    }\n",
       "\n",
       "    .dataframe tbody tr th {\n",
       "        vertical-align: top;\n",
       "    }\n",
       "\n",
       "    .dataframe thead th {\n",
       "        text-align: right;\n",
       "    }\n",
       "</style>\n",
       "<table border=\"1\" class=\"dataframe\">\n",
       "  <thead>\n",
       "    <tr style=\"text-align: right;\">\n",
       "      <th></th>\n",
       "      <th>COL1</th>\n",
       "      <th>COL2</th>\n",
       "    </tr>\n",
       "  </thead>\n",
       "  <tbody>\n",
       "    <tr>\n",
       "      <th>0</th>\n",
       "      <td>123</td>\n",
       "      <td>test string1</td>\n",
       "    </tr>\n",
       "    <tr>\n",
       "      <th>1</th>\n",
       "      <td>456</td>\n",
       "      <td>test string2</td>\n",
       "    </tr>\n",
       "  </tbody>\n",
       "</table>\n",
       "</div>"
      ],
      "text/plain": [
       "   COL1          COL2\n",
       "0   123  test string1\n",
       "1   456  test string2"
      ]
     },
     "execution_count": 15,
     "metadata": {},
     "output_type": "execute_result"
    }
   ],
   "source": [
    "test_df = fetch_test_data(cs)\n",
    "test_df"
   ]
  }
 ],
 "metadata": {
  "kernelspec": {
   "display_name": "Python 3.9.13 64-bit",
   "language": "python",
   "name": "python3"
  },
  "language_info": {
   "codemirror_mode": {
    "name": "ipython",
    "version": 3
   },
   "file_extension": ".py",
   "mimetype": "text/x-python",
   "name": "python",
   "nbconvert_exporter": "python",
   "pygments_lexer": "ipython3",
   "version": "3.9.13"
  },
  "orig_nbformat": 4,
  "vscode": {
   "interpreter": {
    "hash": "b0fa6594d8f4cbf19f97940f81e996739fb7646882a419484c72d19e05852a7e"
   }
  }
 },
 "nbformat": 4,
 "nbformat_minor": 2
}
