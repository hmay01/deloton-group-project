{
 "cells": [
  {
   "cell_type": "markdown",
   "metadata": {},
   "source": [
    "installs"
   ]
  },
  {
   "cell_type": "code",
   "execution_count": 1,
   "metadata": {},
   "outputs": [
    {
     "name": "stdout",
     "output_type": "stream",
     "text": [
      "skipping\n"
     ]
    }
   ],
   "source": [
    "%%script echo skipping\n",
    "%pip install snowflake-connector-python\n",
    "%pip install pyarrow\n",
    "%pip install pandas\n",
    "!pip3 install confluent-kafka"
   ]
  },
  {
   "cell_type": "markdown",
   "metadata": {},
   "source": [
    "imports"
   ]
  },
  {
   "cell_type": "code",
   "execution_count": 2,
   "metadata": {},
   "outputs": [
    {
     "name": "stderr",
     "output_type": "stream",
     "text": [
      "/opt/homebrew/lib/python3.9/site-packages/snowflake/connector/options.py:96: UserWarning: You have an incompatible version of 'pyarrow' installed (9.0.0), please install a version that adheres to: 'pyarrow<8.1.0,>=8.0.0; extra == \"pandas\"'\n",
      "  warn_incompatible_dep(\n"
     ]
    }
   ],
   "source": [
    "from kafka_helpers import connect_to_kafka_consumer, stream_kafka_topic, KAFKA_TOPIC_NAME\n",
    "from snowflake_helpers import connect_to_snowflake, create_staging_schema, use_staging_schema, create_logs_table\n",
    "import pandas as pd\n"
   ]
  },
  {
   "cell_type": "markdown",
   "metadata": {},
   "source": [
    "### **SETUP SNOWFLAKE**"
   ]
  },
  {
   "cell_type": "markdown",
   "metadata": {},
   "source": [
    "connection, cursor, schemas"
   ]
  },
  {
   "cell_type": "code",
   "execution_count": 3,
   "metadata": {},
   "outputs": [],
   "source": [
    "conn = connect_to_snowflake()\n",
    "cs = conn.cursor()"
   ]
  },
  {
   "cell_type": "markdown",
   "metadata": {},
   "source": [
    "Ensure cursor is set to use right schema"
   ]
  },
  {
   "cell_type": "code",
   "execution_count": 4,
   "metadata": {},
   "outputs": [],
   "source": [
    "create_staging_schema(cs)\n",
    "use_staging_schema(cs)"
   ]
  },
  {
   "cell_type": "markdown",
   "metadata": {},
   "source": [
    "Create logs table"
   ]
  },
  {
   "cell_type": "code",
   "execution_count": 5,
   "metadata": {},
   "outputs": [],
   "source": [
    "create_logs_table(cs)"
   ]
  },
  {
   "cell_type": "markdown",
   "metadata": {},
   "source": [
    "### **ADD to SNOWFLAKE using KAFKA**"
   ]
  },
  {
   "cell_type": "markdown",
   "metadata": {},
   "source": [
    "Stream constantly"
   ]
  },
  {
   "cell_type": "code",
   "execution_count": 6,
   "metadata": {},
   "outputs": [
    {
     "name": "stdout",
     "output_type": "stream",
     "text": [
      "Kafka consumer subscribed to topic: deloton. Logs will be cached from beginning of next ride.\n"
     ]
    },
    {
     "ename": "TypeError",
     "evalue": "not all arguments converted during string formatting",
     "output_type": "error",
     "traceback": [
      "\u001b[0;31m---------------------------------------------------------------------------\u001b[0m",
      "\u001b[0;31mTypeError\u001b[0m                                 Traceback (most recent call last)",
      "\u001b[1;32m/Users/harrymay/Desktop/coursework/deloton-group-project/staging.ipynb Cell 14\u001b[0m in \u001b[0;36m<cell line: 2>\u001b[0;34m()\u001b[0m\n\u001b[1;32m      <a href='vscode-notebook-cell:/Users/harrymay/Desktop/coursework/deloton-group-project/staging.ipynb#X16sZmlsZQ%3D%3D?line=0'>1</a>\u001b[0m consumer \u001b[39m=\u001b[39m connect_to_kafka_consumer()\n\u001b[0;32m----> <a href='vscode-notebook-cell:/Users/harrymay/Desktop/coursework/deloton-group-project/staging.ipynb#X16sZmlsZQ%3D%3D?line=1'>2</a>\u001b[0m stream_kafka_topic(consumer, KAFKA_TOPIC_NAME, cs)\n",
      "File \u001b[0;32m~/Desktop/coursework/deloton-group-project/kafka_helpers.py:68\u001b[0m, in \u001b[0;36mstream_kafka_topic\u001b[0;34m(c, topic, snowflake_cursor)\u001b[0m\n\u001b[1;32m     66\u001b[0m             ride_logs\u001b[39m.\u001b[39mappend(value_log)\n\u001b[1;32m     67\u001b[0m             counter \u001b[39m+\u001b[39m\u001b[39m=\u001b[39m \u001b[39m1\u001b[39m\n\u001b[0;32m---> 68\u001b[0m     append_logs_to_table(ride_logs, ride_id, snowflake_cursor)\n\u001b[1;32m     69\u001b[0m             \u001b[39m# SAVE ROOM FOR HEART RATE ANALYSIS\u001b[39;00m\n\u001b[1;32m     70\u001b[0m                 \u001b[39m#heart_rate = \u001b[39;00m\n\u001b[1;32m     71\u001b[0m                 \u001b[39m#age = \u001b[39;00m\n\u001b[0;32m   (...)\u001b[0m\n\u001b[1;32m    105\u001b[0m             \u001b[39m#     else:\u001b[39;00m\n\u001b[1;32m    106\u001b[0m             \u001b[39m#         ride_logs.append(value_log)\u001b[39;00m\n\u001b[1;32m    110\u001b[0m \u001b[39mexcept\u001b[39;00m \u001b[39mKeyboardInterrupt\u001b[39;00m:\n",
      "File \u001b[0;32m~/Desktop/coursework/deloton-group-project/snowflake_helpers.py:73\u001b[0m, in \u001b[0;36mappend_logs_to_table\u001b[0;34m(logs, ride_id, cs)\u001b[0m\n\u001b[1;32m     71\u001b[0m \u001b[39m'''A list of logs is INSERTED INTO the pre-existing logs table'''\u001b[39;00m\n\u001b[1;32m     72\u001b[0m sequence_of_ride_ids \u001b[39m=\u001b[39m [ride_id] \u001b[39m*\u001b[39m \u001b[39mlen\u001b[39m(logs)\n\u001b[0;32m---> 73\u001b[0m cs\u001b[39m.\u001b[39;49mexecutemany(\u001b[39m\"\u001b[39;49m\u001b[39mINSERT INTO logs VALUES(default, \u001b[39;49m\u001b[39m%s\u001b[39;49;00m\u001b[39m, \u001b[39;49m\u001b[39m%s\u001b[39;49;00m\u001b[39m)\u001b[39;49m\u001b[39m\"\u001b[39;49m, (logs, sequence_of_ride_ids))\n\u001b[1;32m     74\u001b[0m \u001b[39mprint\u001b[39m(\u001b[39mf\u001b[39m\u001b[39m'\u001b[39m\u001b[39mTable updated with \u001b[39m\u001b[39m{\u001b[39;00m\u001b[39mlen\u001b[39m(logs)\u001b[39m}\u001b[39;00m\u001b[39m new rows.\u001b[39m\u001b[39m'\u001b[39m)\n",
      "File \u001b[0;32m/opt/homebrew/lib/python3.9/site-packages/snowflake/connector/cursor.py:1035\u001b[0m, in \u001b[0;36mSnowflakeCursor.executemany\u001b[0;34m(self, command, seqparams, **kwargs)\u001b[0m\n\u001b[1;32m   1032\u001b[0m \u001b[39mfor\u001b[39;00m param \u001b[39min\u001b[39;00m seqparams:\n\u001b[1;32m   1033\u001b[0m     logger\u001b[39m.\u001b[39mdebug(\u001b[39mf\u001b[39m\u001b[39m\"\u001b[39m\u001b[39mparameter: \u001b[39m\u001b[39m{\u001b[39;00mparam\u001b[39m}\u001b[39;00m\u001b[39m\"\u001b[39m)\n\u001b[1;32m   1034\u001b[0m     values\u001b[39m.\u001b[39mappend(\n\u001b[0;32m-> 1035\u001b[0m         fmt \u001b[39m%\u001b[39;49m \u001b[39mself\u001b[39;49m\u001b[39m.\u001b[39;49m_connection\u001b[39m.\u001b[39;49m_process_params_pyformat(param, \u001b[39mself\u001b[39;49m)\n\u001b[1;32m   1036\u001b[0m     )\n\u001b[1;32m   1037\u001b[0m command \u001b[39m=\u001b[39m command\u001b[39m.\u001b[39mreplace(fmt, \u001b[39m\"\u001b[39m\u001b[39m,\u001b[39m\u001b[39m\"\u001b[39m\u001b[39m.\u001b[39mjoin(values), \u001b[39m1\u001b[39m)\n\u001b[1;32m   1038\u001b[0m \u001b[39mself\u001b[39m\u001b[39m.\u001b[39mexecute(command, \u001b[39m*\u001b[39m\u001b[39m*\u001b[39mkwargs)\n",
      "\u001b[0;31mTypeError\u001b[0m: not all arguments converted during string formatting"
     ]
    }
   ],
   "source": [
    "consumer = connect_to_kafka_consumer()\n",
    "stream_kafka_topic(consumer, KAFKA_TOPIC_NAME, cs)"
   ]
  }
 ],
 "metadata": {
  "kernelspec": {
   "display_name": "Python 3.9.13 64-bit",
   "language": "python",
   "name": "python3"
  },
  "language_info": {
   "codemirror_mode": {
    "name": "ipython",
    "version": 3
   },
   "file_extension": ".py",
   "mimetype": "text/x-python",
   "name": "python",
   "nbconvert_exporter": "python",
   "pygments_lexer": "ipython3",
   "version": "3.9.13"
  },
  "orig_nbformat": 4,
  "vscode": {
   "interpreter": {
    "hash": "b0fa6594d8f4cbf19f97940f81e996739fb7646882a419484c72d19e05852a7e"
   }
  }
 },
 "nbformat": 4,
 "nbformat_minor": 2
}
