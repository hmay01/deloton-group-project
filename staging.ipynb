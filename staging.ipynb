{
 "cells": [
  {
   "cell_type": "markdown",
   "metadata": {},
   "source": [
    "installs"
   ]
  },
  {
   "cell_type": "code",
   "execution_count": 1,
   "metadata": {},
   "outputs": [
    {
     "name": "stdout",
     "output_type": "stream",
     "text": [
      "skipping\n"
     ]
    }
   ],
   "source": [
    "%%script echo skipping\n",
    "%pip install snowflake-connector-python\n",
    "%pip install pyarrow\n",
    "%pip install pandas\n",
    "!pip3 install confluent-kafka"
   ]
  },
  {
   "cell_type": "markdown",
   "metadata": {},
   "source": [
    "imports"
   ]
  },
  {
   "cell_type": "code",
   "execution_count": 2,
   "metadata": {},
   "outputs": [
    {
     "name": "stderr",
     "output_type": "stream",
     "text": [
      "/opt/homebrew/lib/python3.9/site-packages/snowflake/connector/options.py:96: UserWarning: You have an incompatible version of 'pyarrow' installed (9.0.0), please install a version that adheres to: 'pyarrow<8.1.0,>=8.0.0; extra == \"pandas\"'\n",
      "  warn_incompatible_dep(\n"
     ]
    }
   ],
   "source": [
    "from kafka_helpers import connect_to_kafka_consumer, stream_kafka_topic, KAFKA_TOPIC_NAME\n",
    "from snowflake_helpers import connect_to_snowflake, create_staging_schema, use_staging_schema, create_logs_table\n",
    "import pandas as pd\n"
   ]
  },
  {
   "cell_type": "markdown",
   "metadata": {},
   "source": [
    "### **SETUP SNOWFLAKE**"
   ]
  },
  {
   "cell_type": "markdown",
   "metadata": {},
   "source": [
    "connection, cursor, schemas"
   ]
  },
  {
   "cell_type": "code",
   "execution_count": 3,
   "metadata": {},
   "outputs": [],
   "source": [
    "conn = connect_to_snowflake()\n",
    "cs = conn.cursor()"
   ]
  },
  {
   "cell_type": "markdown",
   "metadata": {},
   "source": [
    "Ensure cursor is set to use right schema"
   ]
  },
  {
   "cell_type": "code",
   "execution_count": 4,
   "metadata": {},
   "outputs": [],
   "source": [
    "create_staging_schema(cs)\n",
    "use_staging_schema(cs)"
   ]
  },
  {
   "cell_type": "markdown",
   "metadata": {},
   "source": [
    "Create logs table"
   ]
  },
  {
   "cell_type": "code",
   "execution_count": 5,
   "metadata": {},
   "outputs": [],
   "source": [
    "create_logs_table(cs)"
   ]
  },
  {
   "cell_type": "markdown",
   "metadata": {},
   "source": [
    "### **ADD to SNOWFLAKE using KAFKA**"
   ]
  },
  {
   "cell_type": "markdown",
   "metadata": {},
   "source": [
    "Stream constantly"
   ]
  },
  {
   "cell_type": "code",
   "execution_count": 6,
   "metadata": {},
   "outputs": [
    {
     "name": "stdout",
     "output_type": "stream",
     "text": [
      "Kafka consumer subscribed to topic: deloton. Logs will be cached from beginning of next ride.\n"
     ]
    },
    {
     "name": "stderr",
     "output_type": "stream",
     "text": [
      "%5|1665011473.950|REQTMOUT|id-002-005#consumer-1| [thrd:sasl_ssl://b13-pkc-l6wr6.europe-west2.gcp.confluent.cloud:9092/]: sasl_ssl://b13-pkc-l6wr6.europe-west2.gcp.confluent.cloud:9092/13: Timed out FetchRequest in flight (after 66700ms, timeout #0)\n",
      "%4|1665011473.950|REQTMOUT|id-002-005#consumer-1| [thrd:sasl_ssl://b13-pkc-l6wr6.europe-west2.gcp.confluent.cloud:9092/]: sasl_ssl://b13-pkc-l6wr6.europe-west2.gcp.confluent.cloud:9092/13: Timed out 1 in-flight, 0 retry-queued, 0 out-queue, 0 partially-sent requests\n",
      "%3|1665011473.952|FAIL|id-002-005#consumer-1| [thrd:sasl_ssl://b13-pkc-l6wr6.europe-west2.gcp.confluent.cloud:9092/]: sasl_ssl://b13-pkc-l6wr6.europe-west2.gcp.confluent.cloud:9092/13: 1 request(s) timed out: disconnect (after 353481ms in state UP)\n"
     ]
    },
    {
     "name": "stdout",
     "output_type": "stream",
     "text": [
      "New ride with id: 1. Collecting logs...\n",
      "Ride successfully ended. Appending logs to the logs table.\n",
      "Table updated with 899 new rows.\n",
      "New ride with id: 2. Collecting logs...\n",
      "Ride successfully ended. Appending logs to the logs table.\n",
      "Table updated with 959 new rows.\n",
      "New ride with id: 3. Collecting logs...\n",
      "Ride successfully ended. Appending logs to the logs table.\n",
      "Table updated with 1043 new rows.\n",
      "New ride with id: 4. Collecting logs...\n",
      "Ride successfully ended. Appending logs to the logs table.\n",
      "Table updated with 1017 new rows.\n",
      "New ride with id: 5. Collecting logs...\n",
      "Ride successfully ended. Appending logs to the logs table.\n",
      "Table updated with 1035 new rows.\n",
      "New ride with id: 6. Collecting logs...\n",
      "Ride successfully ended. Appending logs to the logs table.\n",
      "Table updated with 1043 new rows.\n",
      "New ride with id: 7. Collecting logs...\n"
     ]
    }
   ],
   "source": [
    "consumer = connect_to_kafka_consumer()\n",
    "stream_kafka_topic(consumer, KAFKA_TOPIC_NAME, cs)"
   ]
  }
 ],
 "metadata": {
  "kernelspec": {
   "display_name": "Python 3.9.13 64-bit",
   "language": "python",
   "name": "python3"
  },
  "language_info": {
   "codemirror_mode": {
    "name": "ipython",
    "version": 3
   },
   "file_extension": ".py",
   "mimetype": "text/x-python",
   "name": "python",
   "nbconvert_exporter": "python",
   "pygments_lexer": "ipython3",
   "version": "3.9.13"
  },
  "orig_nbformat": 4,
  "vscode": {
   "interpreter": {
    "hash": "b0fa6594d8f4cbf19f97940f81e996739fb7646882a419484c72d19e05852a7e"
   }
  }
 },
 "nbformat": 4,
 "nbformat_minor": 2
}
