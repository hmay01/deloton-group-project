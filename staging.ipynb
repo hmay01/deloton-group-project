{
 "cells": [
  {
   "cell_type": "markdown",
   "metadata": {},
   "source": [
    "installs"
   ]
  },
  {
   "cell_type": "code",
   "execution_count": 1,
   "metadata": {},
   "outputs": [
    {
     "name": "stdout",
     "output_type": "stream",
     "text": [
      "skipping\n"
     ]
    }
   ],
   "source": [
    "%%script echo skipping\n",
    "%pip install snowflake-connector-python\n",
    "%pip install pyarrow\n",
    "%pip install pandas\n",
    "!pip3 install confluent-kafka"
   ]
  },
  {
   "cell_type": "markdown",
   "metadata": {},
   "source": [
    "imports"
   ]
  },
  {
   "cell_type": "code",
   "execution_count": 2,
   "metadata": {},
   "outputs": [
    {
     "name": "stderr",
     "output_type": "stream",
     "text": [
      "/opt/homebrew/lib/python3.9/site-packages/snowflake/connector/options.py:96: UserWarning: You have an incompatible version of 'pyarrow' installed (9.0.0), please install a version that adheres to: 'pyarrow<8.1.0,>=8.0.0; extra == \"pandas\"'\n",
      "  warn_incompatible_dep(\n"
     ]
    }
   ],
   "source": [
    "from kafka_helpers import *\n",
    "from snowflake_helpers import *\n",
    "from staging_helpers import get_raw_logs_df\n",
    "from snowflake.connector.pandas_tools import write_pandas"
   ]
  },
  {
   "cell_type": "markdown",
   "metadata": {},
   "source": [
    "### **SETUP KAFKA**"
   ]
  },
  {
   "cell_type": "code",
   "execution_count": 3,
   "metadata": {},
   "outputs": [],
   "source": [
    "consumer = connect_to_kafka_consumer()\n",
    "data = stream_kafka_topic(consumer, KAFKA_TOPIC_NAME, 20)"
   ]
  },
  {
   "cell_type": "code",
   "execution_count": 4,
   "metadata": {},
   "outputs": [
    {
     "data": {
      "text/plain": [
       "['2022-10-05 14:42:19.238648 mendoza v9: [INFO]: Telemetry - hrt = 123; rpm = 34; power = 7.473425372\\n',\n",
       " '2022-10-05 14:42:19.739315 mendoza v9: [INFO]: Ride - duration = 208.0; resistance = 30\\n',\n",
       " '2022-10-05 14:42:20.239987 mendoza v9: [INFO]: Telemetry - hrt = 123; rpm = 33; power = 7.114899267999999\\n',\n",
       " '2022-10-05 14:42:20.740665 mendoza v9: [INFO]: Ride - duration = 209.0; resistance = 30\\n',\n",
       " '2022-10-05 14:42:21.241336 mendoza v9: [INFO]: Telemetry - hrt = 120; rpm = 34; power = 7.473425372\\n',\n",
       " '2022-10-05 14:42:21.742015 mendoza v9: [INFO]: Ride - duration = 210.0; resistance = 30\\n',\n",
       " '2022-10-05 14:42:22.242694 mendoza v9: [INFO]: Telemetry - hrt = 118; rpm = 35; power = 7.837601654\\n',\n",
       " '2022-10-05 14:42:22.743383 mendoza v9: [INFO]: Ride - duration = 211.0; resistance = 30\\n',\n",
       " '2022-10-05 14:42:23.244056 mendoza v9: [INFO]: Telemetry - hrt = 118; rpm = 34; power = 7.473425372\\n',\n",
       " '2022-10-05 14:42:23.744739 mendoza v9: [INFO]: Ride - duration = 212.0; resistance = 30\\n',\n",
       " '2022-10-05 14:42:24.245437 mendoza v9: [INFO]: Telemetry - hrt = 118; rpm = 33; power = 7.114899267999999\\n',\n",
       " '2022-10-05 14:42:24.746109 mendoza v9: [INFO]: Ride - duration = 213.0; resistance = 30\\n',\n",
       " '2022-10-05 14:42:25.246782 mendoza v9: [INFO]: Telemetry - hrt = 116; rpm = 33; power = 7.114899267999999\\n',\n",
       " '2022-10-05 14:42:25.747460 mendoza v9: [INFO]: Ride - duration = 214.0; resistance = 30\\n',\n",
       " '2022-10-05 14:42:26.248133 mendoza v9: [INFO]: Telemetry - hrt = 114; rpm = 33; power = 7.114899267999999\\n',\n",
       " '2022-10-05 14:42:26.748816 mendoza v9: [INFO]: Ride - duration = 215.0; resistance = 30\\n',\n",
       " '2022-10-05 14:42:27.249486 mendoza v9: [INFO]: Telemetry - hrt = 113; rpm = 32; power = 6.7621935010000005\\n',\n",
       " '2022-10-05 14:42:27.750163 mendoza v9: [INFO]: Ride - duration = 216.0; resistance = 30\\n',\n",
       " '2022-10-05 14:42:28.250844 mendoza v9: [INFO]: Telemetry - hrt = 113; rpm = 33; power = 7.114899267999999\\n',\n",
       " '2022-10-05 14:42:28.751637 mendoza v9: [INFO]: Ride - duration = 217.0; resistance = 30\\n',\n",
       " '2022-10-05 14:42:29.252318 mendoza v9: [INFO]: Telemetry - hrt = 114; rpm = 32; power = 6.7621935010000005\\n']"
      ]
     },
     "execution_count": 4,
     "metadata": {},
     "output_type": "execute_result"
    }
   ],
   "source": [
    "data"
   ]
  },
  {
   "cell_type": "markdown",
   "metadata": {},
   "source": [
    "### **PROCESS KAFKA W PANDAS**"
   ]
  },
  {
   "cell_type": "code",
   "execution_count": 5,
   "metadata": {},
   "outputs": [
    {
     "data": {
      "text/html": [
       "<div>\n",
       "<style scoped>\n",
       "    .dataframe tbody tr th:only-of-type {\n",
       "        vertical-align: middle;\n",
       "    }\n",
       "\n",
       "    .dataframe tbody tr th {\n",
       "        vertical-align: top;\n",
       "    }\n",
       "\n",
       "    .dataframe thead th {\n",
       "        text-align: right;\n",
       "    }\n",
       "</style>\n",
       "<table border=\"1\" class=\"dataframe\">\n",
       "  <thead>\n",
       "    <tr style=\"text-align: right;\">\n",
       "      <th></th>\n",
       "      <th>log</th>\n",
       "    </tr>\n",
       "  </thead>\n",
       "  <tbody>\n",
       "    <tr>\n",
       "      <th>0</th>\n",
       "      <td>2022-10-05 14:42:19.238648 mendoza v9: [INFO]:...</td>\n",
       "    </tr>\n",
       "    <tr>\n",
       "      <th>1</th>\n",
       "      <td>2022-10-05 14:42:19.739315 mendoza v9: [INFO]:...</td>\n",
       "    </tr>\n",
       "    <tr>\n",
       "      <th>2</th>\n",
       "      <td>2022-10-05 14:42:20.239987 mendoza v9: [INFO]:...</td>\n",
       "    </tr>\n",
       "    <tr>\n",
       "      <th>3</th>\n",
       "      <td>2022-10-05 14:42:20.740665 mendoza v9: [INFO]:...</td>\n",
       "    </tr>\n",
       "    <tr>\n",
       "      <th>4</th>\n",
       "      <td>2022-10-05 14:42:21.241336 mendoza v9: [INFO]:...</td>\n",
       "    </tr>\n",
       "    <tr>\n",
       "      <th>5</th>\n",
       "      <td>2022-10-05 14:42:21.742015 mendoza v9: [INFO]:...</td>\n",
       "    </tr>\n",
       "    <tr>\n",
       "      <th>6</th>\n",
       "      <td>2022-10-05 14:42:22.242694 mendoza v9: [INFO]:...</td>\n",
       "    </tr>\n",
       "    <tr>\n",
       "      <th>7</th>\n",
       "      <td>2022-10-05 14:42:22.743383 mendoza v9: [INFO]:...</td>\n",
       "    </tr>\n",
       "    <tr>\n",
       "      <th>8</th>\n",
       "      <td>2022-10-05 14:42:23.244056 mendoza v9: [INFO]:...</td>\n",
       "    </tr>\n",
       "    <tr>\n",
       "      <th>9</th>\n",
       "      <td>2022-10-05 14:42:23.744739 mendoza v9: [INFO]:...</td>\n",
       "    </tr>\n",
       "    <tr>\n",
       "      <th>10</th>\n",
       "      <td>2022-10-05 14:42:24.245437 mendoza v9: [INFO]:...</td>\n",
       "    </tr>\n",
       "    <tr>\n",
       "      <th>11</th>\n",
       "      <td>2022-10-05 14:42:24.746109 mendoza v9: [INFO]:...</td>\n",
       "    </tr>\n",
       "    <tr>\n",
       "      <th>12</th>\n",
       "      <td>2022-10-05 14:42:25.246782 mendoza v9: [INFO]:...</td>\n",
       "    </tr>\n",
       "    <tr>\n",
       "      <th>13</th>\n",
       "      <td>2022-10-05 14:42:25.747460 mendoza v9: [INFO]:...</td>\n",
       "    </tr>\n",
       "    <tr>\n",
       "      <th>14</th>\n",
       "      <td>2022-10-05 14:42:26.248133 mendoza v9: [INFO]:...</td>\n",
       "    </tr>\n",
       "    <tr>\n",
       "      <th>15</th>\n",
       "      <td>2022-10-05 14:42:26.748816 mendoza v9: [INFO]:...</td>\n",
       "    </tr>\n",
       "    <tr>\n",
       "      <th>16</th>\n",
       "      <td>2022-10-05 14:42:27.249486 mendoza v9: [INFO]:...</td>\n",
       "    </tr>\n",
       "    <tr>\n",
       "      <th>17</th>\n",
       "      <td>2022-10-05 14:42:27.750163 mendoza v9: [INFO]:...</td>\n",
       "    </tr>\n",
       "    <tr>\n",
       "      <th>18</th>\n",
       "      <td>2022-10-05 14:42:28.250844 mendoza v9: [INFO]:...</td>\n",
       "    </tr>\n",
       "    <tr>\n",
       "      <th>19</th>\n",
       "      <td>2022-10-05 14:42:28.751637 mendoza v9: [INFO]:...</td>\n",
       "    </tr>\n",
       "    <tr>\n",
       "      <th>20</th>\n",
       "      <td>2022-10-05 14:42:29.252318 mendoza v9: [INFO]:...</td>\n",
       "    </tr>\n",
       "  </tbody>\n",
       "</table>\n",
       "</div>"
      ],
      "text/plain": [
       "                                                  log\n",
       "0   2022-10-05 14:42:19.238648 mendoza v9: [INFO]:...\n",
       "1   2022-10-05 14:42:19.739315 mendoza v9: [INFO]:...\n",
       "2   2022-10-05 14:42:20.239987 mendoza v9: [INFO]:...\n",
       "3   2022-10-05 14:42:20.740665 mendoza v9: [INFO]:...\n",
       "4   2022-10-05 14:42:21.241336 mendoza v9: [INFO]:...\n",
       "5   2022-10-05 14:42:21.742015 mendoza v9: [INFO]:...\n",
       "6   2022-10-05 14:42:22.242694 mendoza v9: [INFO]:...\n",
       "7   2022-10-05 14:42:22.743383 mendoza v9: [INFO]:...\n",
       "8   2022-10-05 14:42:23.244056 mendoza v9: [INFO]:...\n",
       "9   2022-10-05 14:42:23.744739 mendoza v9: [INFO]:...\n",
       "10  2022-10-05 14:42:24.245437 mendoza v9: [INFO]:...\n",
       "11  2022-10-05 14:42:24.746109 mendoza v9: [INFO]:...\n",
       "12  2022-10-05 14:42:25.246782 mendoza v9: [INFO]:...\n",
       "13  2022-10-05 14:42:25.747460 mendoza v9: [INFO]:...\n",
       "14  2022-10-05 14:42:26.248133 mendoza v9: [INFO]:...\n",
       "15  2022-10-05 14:42:26.748816 mendoza v9: [INFO]:...\n",
       "16  2022-10-05 14:42:27.249486 mendoza v9: [INFO]:...\n",
       "17  2022-10-05 14:42:27.750163 mendoza v9: [INFO]:...\n",
       "18  2022-10-05 14:42:28.250844 mendoza v9: [INFO]:...\n",
       "19  2022-10-05 14:42:28.751637 mendoza v9: [INFO]:...\n",
       "20  2022-10-05 14:42:29.252318 mendoza v9: [INFO]:..."
      ]
     },
     "execution_count": 5,
     "metadata": {},
     "output_type": "execute_result"
    }
   ],
   "source": [
    "raw_logs_df = get_raw_logs_df(data)\n",
    "raw_logs_df"
   ]
  },
  {
   "cell_type": "code",
   "execution_count": 6,
   "metadata": {},
   "outputs": [
    {
     "data": {
      "text/plain": [
       "log    object\n",
       "dtype: object"
      ]
     },
     "execution_count": 6,
     "metadata": {},
     "output_type": "execute_result"
    }
   ],
   "source": [
    "raw_logs_df.dtypes"
   ]
  },
  {
   "cell_type": "markdown",
   "metadata": {},
   "source": [
    "### **SETUP SNOWFLAKE**"
   ]
  },
  {
   "cell_type": "markdown",
   "metadata": {},
   "source": [
    "connection, cursor, schemas"
   ]
  },
  {
   "cell_type": "code",
   "execution_count": 7,
   "metadata": {},
   "outputs": [],
   "source": [
    "conn = connect_to_snowflake()\n",
    "cs = conn.cursor()"
   ]
  },
  {
   "cell_type": "markdown",
   "metadata": {},
   "source": [
    "Ensure cursor is set to use right schema"
   ]
  },
  {
   "cell_type": "code",
   "execution_count": 8,
   "metadata": {},
   "outputs": [],
   "source": [
    "create_staging_schema(cs)\n",
    "use_staging_schema(cs)"
   ]
  },
  {
   "cell_type": "markdown",
   "metadata": {},
   "source": [
    "Check tables in schema"
   ]
  },
  {
   "cell_type": "code",
   "execution_count": 9,
   "metadata": {},
   "outputs": [
    {
     "data": {
      "text/plain": [
       "[(datetime.datetime(2022, 10, 5, 4, 44, 45, 266000, tzinfo=<DstTzInfo 'America/Los_Angeles' PDT-1 day, 17:00:00 DST>),\n",
       "  'DF_TEST_TABLE',\n",
       "  'DELATON',\n",
       "  'YUSRA_STORIES_STAGING',\n",
       "  'TABLE',\n",
       "  '',\n",
       "  '',\n",
       "  2001,\n",
       "  56320,\n",
       "  'SYSADMIN',\n",
       "  '1',\n",
       "  'OFF',\n",
       "  'OFF',\n",
       "  'N'),\n",
       " (datetime.datetime(2022, 10, 5, 3, 29, 48, 451000, tzinfo=<DstTzInfo 'America/Los_Angeles' PDT-1 day, 17:00:00 DST>),\n",
       "  'DF_TEST_TABLE_2',\n",
       "  'DELATON',\n",
       "  'YUSRA_STORIES_STAGING',\n",
       "  'TABLE',\n",
       "  '',\n",
       "  '',\n",
       "  0,\n",
       "  0,\n",
       "  'SYSADMIN',\n",
       "  '1',\n",
       "  'OFF',\n",
       "  'OFF',\n",
       "  'N'),\n",
       " (datetime.datetime(2022, 10, 4, 4, 39, 6, 220000, tzinfo=<DstTzInfo 'America/Los_Angeles' PDT-1 day, 17:00:00 DST>),\n",
       "  'TEST_TABLE',\n",
       "  'DELATON',\n",
       "  'YUSRA_STORIES_STAGING',\n",
       "  'TABLE',\n",
       "  '',\n",
       "  '',\n",
       "  2,\n",
       "  1024,\n",
       "  'SYSADMIN',\n",
       "  '1',\n",
       "  'OFF',\n",
       "  'OFF',\n",
       "  'N')]"
      ]
     },
     "execution_count": 9,
     "metadata": {},
     "output_type": "execute_result"
    }
   ],
   "source": [
    "show_tables(cs, STAGING_SCHEMA)"
   ]
  },
  {
   "cell_type": "markdown",
   "metadata": {},
   "source": [
    "### **PUTTING DF INTO STAGING SCHEMA**"
   ]
  },
  {
   "cell_type": "markdown",
   "metadata": {},
   "source": [
    "WRITE_PANDAS WAY "
   ]
  },
  {
   "cell_type": "code",
   "execution_count": 10,
   "metadata": {},
   "outputs": [
    {
     "data": {
      "text/plain": [
       "array(['log'], dtype=object)"
      ]
     },
     "execution_count": 10,
     "metadata": {},
     "output_type": "execute_result"
    }
   ],
   "source": [
    "raw_logs_df.columns.values"
   ]
  }
 ],
 "metadata": {
  "kernelspec": {
   "display_name": "Python 3.9.13 64-bit",
   "language": "python",
   "name": "python3"
  },
  "language_info": {
   "codemirror_mode": {
    "name": "ipython",
    "version": 3
   },
   "file_extension": ".py",
   "mimetype": "text/x-python",
   "name": "python",
   "nbconvert_exporter": "python",
   "pygments_lexer": "ipython3",
   "version": "3.9.13"
  },
  "orig_nbformat": 4,
  "vscode": {
   "interpreter": {
    "hash": "b0fa6594d8f4cbf19f97940f81e996739fb7646882a419484c72d19e05852a7e"
   }
  }
 },
 "nbformat": 4,
 "nbformat_minor": 2
}
